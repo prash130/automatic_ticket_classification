{
  "cells": [
    {
      "cell_type": "markdown",
      "metadata": {
        "id": "rhR-ZUkwJrFn"
      },
      "source": [
        "## Problem Statement\n",
        "\n",
        "You need to build a model that is able to classify customer complaints based on the products/services. By doing so, you can segregate these tickets into their relevant categories and, therefore, help in the quick resolution of the issue.\n",
        "\n",
        "You will be doing topic modelling on the <b>.json</b> data provided by the company. Since this data is not labelled, you need to apply NMF to analyse patterns and classify tickets into the following five clusters based on their products/services:\n",
        "\n",
        "* Credit card / Prepaid card\n",
        "\n",
        "* Bank account services\n",
        "\n",
        "* Theft/Dispute reporting\n",
        "\n",
        "* Mortgages/loans\n",
        "\n",
        "* Others\n",
        "\n",
        "\n",
        "With the help of topic modelling, you will be able to map each ticket onto its respective department/category. You can then use this data to train any supervised model such as logistic regression, decision tree or random forest. Using this trained model, you can classify any new customer complaint support ticket into its relevant department."
      ]
    },
    {
      "cell_type": "markdown",
      "metadata": {
        "id": "mcgXVNyaLUFS"
      },
      "source": [
        "## Pipelines that needs to be performed:\n",
        "\n",
        "You need to perform the following eight major tasks to complete the assignment:\n",
        "\n",
        "1.  Data loading\n",
        "\n",
        "2. Text preprocessing\n",
        "\n",
        "3. Exploratory data analysis (EDA)\n",
        "\n",
        "4. Feature extraction\n",
        "\n",
        "5. Topic modelling\n",
        "\n",
        "6. Model building using supervised learning\n",
        "\n",
        "7. Model training and evaluation\n",
        "\n",
        "8. Model inference"
      ]
    },
    {
      "cell_type": "markdown",
      "metadata": {
        "id": "JuLFIymAL58u"
      },
      "source": [
        "## Importing the necessary libraries"
      ]
    },
    {
      "cell_type": "code",
      "execution_count": 3,
      "metadata": {},
      "outputs": [
        {
          "name": "stdout",
          "output_type": "stream",
          "text": [
            "\u001b[33mDEPRECATION: Configuring installation scheme with distutils config files is deprecated and will no longer work in the near future. If you are using a Homebrew or Linuxbrew Python, please see discussion at https://github.com/Homebrew/homebrew-core/issues/76621\u001b[0m\u001b[33m\n",
            "\u001b[0mCollecting plotly\n",
            "  Downloading plotly-6.0.1-py3-none-any.whl.metadata (6.7 kB)\n",
            "Collecting narwhals>=1.15.1 (from plotly)\n",
            "  Downloading narwhals-1.32.0-py3-none-any.whl.metadata (9.2 kB)\n",
            "Requirement already satisfied: packaging in /Users/lkshmsa/Library/Python/3.9/lib/python/site-packages (from plotly) (23.0)\n",
            "Downloading plotly-6.0.1-py3-none-any.whl (14.8 MB)\n",
            "\u001b[2K   \u001b[90m━━━━━━━━━━━━━━━━━━━━━━━━━━━━━━━━━━━━━━━━\u001b[0m \u001b[32m14.8/14.8 MB\u001b[0m \u001b[31m17.1 MB/s\u001b[0m eta \u001b[36m0:00:00\u001b[0ma \u001b[36m0:00:01\u001b[0m\n",
            "\u001b[?25hDownloading narwhals-1.32.0-py3-none-any.whl (320 kB)\n",
            "Installing collected packages: narwhals, plotly\n",
            "\u001b[33m  DEPRECATION: Configuring installation scheme with distutils config files is deprecated and will no longer work in the near future. If you are using a Homebrew or Linuxbrew Python, please see discussion at https://github.com/Homebrew/homebrew-core/issues/76621\u001b[0m\u001b[33m\n",
            "\u001b[0m\u001b[33m  DEPRECATION: Configuring installation scheme with distutils config files is deprecated and will no longer work in the near future. If you are using a Homebrew or Linuxbrew Python, please see discussion at https://github.com/Homebrew/homebrew-core/issues/76621\u001b[0m\u001b[33m\n",
            "\u001b[0m\u001b[33mDEPRECATION: Configuring installation scheme with distutils config files is deprecated and will no longer work in the near future. If you are using a Homebrew or Linuxbrew Python, please see discussion at https://github.com/Homebrew/homebrew-core/issues/76621\u001b[0m\u001b[33m\n",
            "\u001b[0mSuccessfully installed narwhals-1.32.0 plotly-6.0.1\n",
            "\n",
            "\u001b[1m[\u001b[0m\u001b[34;49mnotice\u001b[0m\u001b[1;39;49m]\u001b[0m\u001b[39;49m A new release of pip is available: \u001b[0m\u001b[31;49m24.2\u001b[0m\u001b[39;49m -> \u001b[0m\u001b[32;49m25.0.1\u001b[0m\n",
            "\u001b[1m[\u001b[0m\u001b[34;49mnotice\u001b[0m\u001b[1;39;49m]\u001b[0m\u001b[39;49m To update, run: \u001b[0m\u001b[32;49mpython3.9 -m pip install --upgrade pip\u001b[0m\n",
            "Note: you may need to restart the kernel to use updated packages.\n"
          ]
        }
      ],
      "source": [
        "%pip install plotly"
      ]
    },
    {
      "cell_type": "code",
      "execution_count": 8,
      "metadata": {
        "id": "O-Q9pqrcJrFr"
      },
      "outputs": [],
      "source": [
        "import json\n",
        "import numpy as np\n",
        "import pandas as pd\n",
        "import re, nltk, spacy, string\n",
        "import en_core_web_sm\n",
        "nlp = en_core_web_sm.load()\n",
        "import seaborn as sns\n",
        "import matplotlib.pyplot as plt\n",
        "%matplotlib inline\n",
        "\n",
        "from plotly.offline import plot\n",
        "import plotly.graph_objects as go\n",
        "import plotly.express as px\n",
        "\n",
        "from sklearn.feature_extraction.text import CountVectorizer, TfidfVectorizer\n",
        "from pprint import pprint\n",
        "\n",
        "from nltk.stem import WordNetLemmatizer\n",
        "from nltk.tokenize import word_tokenize\n",
        "from nltk.corpus import stopwords\n",
        "\n",
        "import warnings\n",
        "warnings.filterwarnings('ignore')"
      ]
    },
    {
      "cell_type": "markdown",
      "metadata": {
        "id": "KtRLCsNVJrFt"
      },
      "source": [
        "## Loading the data\n",
        "\n",
        "The data is in JSON format and we need to convert it to a dataframe."
      ]
    },
    {
      "cell_type": "code",
      "execution_count": 9,
      "metadata": {
        "id": "puVzIf_iJrFt"
      },
      "outputs": [],
      "source": [
        "# Opening JSON file\n",
        "f = open('complaints-2021-05-14_08_16.json', 'r')\n",
        "\n",
        "# returns JSON object as\n",
        "# a dictionary\n",
        "data = json.load(f)\n",
        "df=pd.json_normalize(data)"
      ]
    },
    {
      "cell_type": "markdown",
      "metadata": {
        "id": "_xYpH-sAJrFu"
      },
      "source": [
        "## Data preparation"
      ]
    },
    {
      "cell_type": "code",
      "execution_count": 10,
      "metadata": {
        "id": "Lf8ufHH5JrFu"
      },
      "outputs": [
        {
          "name": "stdout",
          "output_type": "stream",
          "text": [
            "                _index      _type      _id  _score   _source.tags  \\\n",
            "0  complaint-public-v2  complaint  3211475     0.0           None   \n",
            "1  complaint-public-v2  complaint  3229299     0.0  Servicemember   \n",
            "2  complaint-public-v2  complaint  3199379     0.0           None   \n",
            "3  complaint-public-v2  complaint  2673060     0.0           None   \n",
            "4  complaint-public-v2  complaint  3203545     0.0           None   \n",
            "\n",
            "  _source.zip_code _source.complaint_id                       _source.issue  \\\n",
            "0            90301              3211475   Attempts to collect debt not owed   \n",
            "1            319XX              3229299     Written notification about debt   \n",
            "2            77069              3199379  Other features, terms, or problems   \n",
            "3            48066              2673060      Trouble during payment process   \n",
            "4            10473              3203545                    Fees or interest   \n",
            "\n",
            "       _source.date_received _source.state  ... _source.company_response  \\\n",
            "0  2019-04-13T12:00:00-05:00            CA  ...  Closed with explanation   \n",
            "1  2019-05-01T12:00:00-05:00            GA  ...  Closed with explanation   \n",
            "2  2019-04-02T12:00:00-05:00            TX  ...  Closed with explanation   \n",
            "3  2017-09-13T12:00:00-05:00            MI  ...  Closed with explanation   \n",
            "4  2019-04-05T12:00:00-05:00            NY  ...  Closed with explanation   \n",
            "\n",
            "        _source.company _source.submitted_via _source.date_sent_to_company  \\\n",
            "0  JPMORGAN CHASE & CO.                   Web    2019-04-13T12:00:00-05:00   \n",
            "1  JPMORGAN CHASE & CO.                   Web    2019-05-01T12:00:00-05:00   \n",
            "2  JPMORGAN CHASE & CO.                   Web    2019-04-02T12:00:00-05:00   \n",
            "3  JPMORGAN CHASE & CO.                   Web    2017-09-14T12:00:00-05:00   \n",
            "4  JPMORGAN CHASE & CO.              Referral    2019-04-05T12:00:00-05:00   \n",
            "\n",
            "  _source.company_public_response                         _source.sub_product  \\\n",
            "0                            None                            Credit card debt   \n",
            "1                            None                            Credit card debt   \n",
            "2                            None  General-purpose credit card or charge card   \n",
            "3                            None                  Conventional home mortgage   \n",
            "4                            None  General-purpose credit card or charge card   \n",
            "\n",
            "  _source.timely                    _source.complaint_what_happened  \\\n",
            "0            Yes                                                      \n",
            "1            Yes  Good morning my name is XXXX XXXX and I apprec...   \n",
            "2            Yes  I upgraded my XXXX XXXX card in XX/XX/2018 and...   \n",
            "3            Yes                                                      \n",
            "4            Yes                                                      \n",
            "\n",
            "                                  _source.sub_issue  \\\n",
            "0                                 Debt is not yours   \n",
            "1  Didn't receive enough information to verify debt   \n",
            "2             Problem with rewards from credit card   \n",
            "3                                              None   \n",
            "4                         Charged too much interest   \n",
            "\n",
            "  _source.consumer_consent_provided  \n",
            "0              Consent not provided  \n",
            "1                  Consent provided  \n",
            "2                  Consent provided  \n",
            "3              Consent not provided  \n",
            "4                               N/A  \n",
            "\n",
            "[5 rows x 22 columns]\n"
          ]
        }
      ],
      "source": [
        "print(df.head())\n",
        "\n"
      ]
    },
    {
      "cell_type": "code",
      "execution_count": 11,
      "metadata": {
        "id": "Dwcty-wmJrFw"
      },
      "outputs": [
        {
          "name": "stdout",
          "output_type": "stream",
          "text": [
            "Index(['_index', '_type', '_id', '_score', '_source.tags', '_source.zip_code',\n",
            "       '_source.complaint_id', '_source.issue', '_source.date_received',\n",
            "       '_source.state', '_source.consumer_disputed', '_source.product',\n",
            "       '_source.company_response', '_source.company', '_source.submitted_via',\n",
            "       '_source.date_sent_to_company', '_source.company_public_response',\n",
            "       '_source.sub_product', '_source.timely',\n",
            "       '_source.complaint_what_happened', '_source.sub_issue',\n",
            "       '_source.consumer_consent_provided'],\n",
            "      dtype='object')\n"
          ]
        }
      ],
      "source": [
        "print(df.columns)\n"
      ]
    },
    {
      "cell_type": "code",
      "execution_count": 12,
      "metadata": {
        "id": "FYCtKXD1JrFw"
      },
      "outputs": [],
      "source": [
        "df.columns = df.columns.str.replace('_source.', '')\n"
      ]
    },
    {
      "cell_type": "code",
      "execution_count": 13,
      "metadata": {},
      "outputs": [],
      "source": [
        "df.columns = df.columns.str.lstrip('_')\n",
        "\n"
      ]
    },
    {
      "cell_type": "code",
      "execution_count": 14,
      "metadata": {},
      "outputs": [],
      "source": [
        "df.rename(columns={'product':'tag'}, inplace=True)"
      ]
    },
    {
      "cell_type": "code",
      "execution_count": 15,
      "metadata": {},
      "outputs": [
        {
          "data": {
            "text/plain": [
              "Index(['index', 'type', 'id', 'score', 'tags', 'zip_code', 'complaint_id',\n",
              "       'issue', 'date_received', 'state', 'consumer_disputed', 'tag',\n",
              "       'company_response', 'company', 'submitted_via', 'date_sent_to_company',\n",
              "       'company_public_response', 'sub_product', 'timely',\n",
              "       'complaint_what_happened', 'sub_issue', 'consumer_consent_provided'],\n",
              "      dtype='object')"
            ]
          },
          "execution_count": 15,
          "metadata": {},
          "output_type": "execute_result"
        }
      ],
      "source": [
        "df.columns"
      ]
    },
    {
      "cell_type": "code",
      "execution_count": 16,
      "metadata": {},
      "outputs": [],
      "source": [
        "df = df[['complaint_what_happened', 'tag']]"
      ]
    },
    {
      "cell_type": "code",
      "execution_count": 17,
      "metadata": {
        "id": "grQUPFL5JrFx"
      },
      "outputs": [],
      "source": [
        "# Check what values have nan in them\n",
        "\n",
        "df = df.replace('null', np.nan)\n",
        "\n",
        "\n"
      ]
    },
    {
      "cell_type": "code",
      "execution_count": 18,
      "metadata": {},
      "outputs": [
        {
          "name": "stdout",
          "output_type": "stream",
          "text": [
            "complaint_what_happened    0\n",
            "tag                        0\n",
            "dtype: int64\n"
          ]
        }
      ],
      "source": [
        "print(df.isnull().sum())\n",
        "\n"
      ]
    },
    {
      "cell_type": "code",
      "execution_count": 19,
      "metadata": {
        "id": "Jfxd8VSmJrFy"
      },
      "outputs": [
        {
          "data": {
            "text/html": [
              "<div>\n",
              "<style scoped>\n",
              "    .dataframe tbody tr th:only-of-type {\n",
              "        vertical-align: middle;\n",
              "    }\n",
              "\n",
              "    .dataframe tbody tr th {\n",
              "        vertical-align: top;\n",
              "    }\n",
              "\n",
              "    .dataframe thead th {\n",
              "        text-align: right;\n",
              "    }\n",
              "</style>\n",
              "<table border=\"1\" class=\"dataframe\">\n",
              "  <thead>\n",
              "    <tr style=\"text-align: right;\">\n",
              "      <th></th>\n",
              "      <th>complaint_what_happened</th>\n",
              "      <th>tag</th>\n",
              "    </tr>\n",
              "  </thead>\n",
              "  <tbody>\n",
              "    <tr>\n",
              "      <th>0</th>\n",
              "      <td></td>\n",
              "      <td>Debt collection</td>\n",
              "    </tr>\n",
              "    <tr>\n",
              "      <th>1</th>\n",
              "      <td>Good morning my name is XXXX XXXX and I apprec...</td>\n",
              "      <td>Debt collection</td>\n",
              "    </tr>\n",
              "    <tr>\n",
              "      <th>2</th>\n",
              "      <td>I upgraded my XXXX XXXX card in XX/XX/2018 and...</td>\n",
              "      <td>Credit card or prepaid card</td>\n",
              "    </tr>\n",
              "    <tr>\n",
              "      <th>3</th>\n",
              "      <td></td>\n",
              "      <td>Mortgage</td>\n",
              "    </tr>\n",
              "    <tr>\n",
              "      <th>4</th>\n",
              "      <td></td>\n",
              "      <td>Credit card or prepaid card</td>\n",
              "    </tr>\n",
              "  </tbody>\n",
              "</table>\n",
              "</div>"
            ],
            "text/plain": [
              "                             complaint_what_happened  \\\n",
              "0                                                      \n",
              "1  Good morning my name is XXXX XXXX and I apprec...   \n",
              "2  I upgraded my XXXX XXXX card in XX/XX/2018 and...   \n",
              "3                                                      \n",
              "4                                                      \n",
              "\n",
              "                           tag  \n",
              "0              Debt collection  \n",
              "1              Debt collection  \n",
              "2  Credit card or prepaid card  \n",
              "3                     Mortgage  \n",
              "4  Credit card or prepaid card  "
            ]
          },
          "execution_count": 19,
          "metadata": {},
          "output_type": "execute_result"
        }
      ],
      "source": [
        "#Remove all rows where complaints column is nan\n",
        "df = df.dropna(subset=['complaint_what_happened'])\n",
        "\n",
        "df.head()"
      ]
    },
    {
      "cell_type": "code",
      "execution_count": 20,
      "metadata": {},
      "outputs": [
        {
          "data": {
            "text/html": [
              "<div>\n",
              "<style scoped>\n",
              "    .dataframe tbody tr th:only-of-type {\n",
              "        vertical-align: middle;\n",
              "    }\n",
              "\n",
              "    .dataframe tbody tr th {\n",
              "        vertical-align: top;\n",
              "    }\n",
              "\n",
              "    .dataframe thead th {\n",
              "        text-align: right;\n",
              "    }\n",
              "</style>\n",
              "<table border=\"1\" class=\"dataframe\">\n",
              "  <thead>\n",
              "    <tr style=\"text-align: right;\">\n",
              "      <th></th>\n",
              "      <th>complaint_what_happened</th>\n",
              "      <th>tag</th>\n",
              "    </tr>\n",
              "  </thead>\n",
              "  <tbody>\n",
              "    <tr>\n",
              "      <th>1</th>\n",
              "      <td>Good morning my name is XXXX XXXX and I apprec...</td>\n",
              "      <td>Debt collection</td>\n",
              "    </tr>\n",
              "    <tr>\n",
              "      <th>2</th>\n",
              "      <td>I upgraded my XXXX XXXX card in XX/XX/2018 and...</td>\n",
              "      <td>Credit card or prepaid card</td>\n",
              "    </tr>\n",
              "    <tr>\n",
              "      <th>10</th>\n",
              "      <td>Chase Card was reported on XX/XX/2019. However...</td>\n",
              "      <td>Credit reporting, credit repair services, or o...</td>\n",
              "    </tr>\n",
              "    <tr>\n",
              "      <th>11</th>\n",
              "      <td>On XX/XX/2018, while trying to book a XXXX  XX...</td>\n",
              "      <td>Credit reporting, credit repair services, or o...</td>\n",
              "    </tr>\n",
              "    <tr>\n",
              "      <th>14</th>\n",
              "      <td>my grand son give me check for {$1600.00} i de...</td>\n",
              "      <td>Checking or savings account</td>\n",
              "    </tr>\n",
              "    <tr>\n",
              "      <th>...</th>\n",
              "      <td>...</td>\n",
              "      <td>...</td>\n",
              "    </tr>\n",
              "    <tr>\n",
              "      <th>78303</th>\n",
              "      <td>After being a Chase Card customer for well ove...</td>\n",
              "      <td>Credit card or prepaid card</td>\n",
              "    </tr>\n",
              "    <tr>\n",
              "      <th>78309</th>\n",
              "      <td>On Wednesday, XX/XX/XXXX I called Chas, my XXX...</td>\n",
              "      <td>Credit card or prepaid card</td>\n",
              "    </tr>\n",
              "    <tr>\n",
              "      <th>78310</th>\n",
              "      <td>I am not familiar with XXXX pay and did not un...</td>\n",
              "      <td>Checking or savings account</td>\n",
              "    </tr>\n",
              "    <tr>\n",
              "      <th>78311</th>\n",
              "      <td>I have had flawless credit for 30 yrs. I've ha...</td>\n",
              "      <td>Credit card or prepaid card</td>\n",
              "    </tr>\n",
              "    <tr>\n",
              "      <th>78312</th>\n",
              "      <td>Roughly 10+ years ago I closed out my accounts...</td>\n",
              "      <td>Payday loan</td>\n",
              "    </tr>\n",
              "  </tbody>\n",
              "</table>\n",
              "<p>21072 rows × 2 columns</p>\n",
              "</div>"
            ],
            "text/plain": [
              "                                 complaint_what_happened  \\\n",
              "1      Good morning my name is XXXX XXXX and I apprec...   \n",
              "2      I upgraded my XXXX XXXX card in XX/XX/2018 and...   \n",
              "10     Chase Card was reported on XX/XX/2019. However...   \n",
              "11     On XX/XX/2018, while trying to book a XXXX  XX...   \n",
              "14     my grand son give me check for {$1600.00} i de...   \n",
              "...                                                  ...   \n",
              "78303  After being a Chase Card customer for well ove...   \n",
              "78309  On Wednesday, XX/XX/XXXX I called Chas, my XXX...   \n",
              "78310  I am not familiar with XXXX pay and did not un...   \n",
              "78311  I have had flawless credit for 30 yrs. I've ha...   \n",
              "78312  Roughly 10+ years ago I closed out my accounts...   \n",
              "\n",
              "                                                     tag  \n",
              "1                                        Debt collection  \n",
              "2                            Credit card or prepaid card  \n",
              "10     Credit reporting, credit repair services, or o...  \n",
              "11     Credit reporting, credit repair services, or o...  \n",
              "14                           Checking or savings account  \n",
              "...                                                  ...  \n",
              "78303                        Credit card or prepaid card  \n",
              "78309                        Credit card or prepaid card  \n",
              "78310                        Checking or savings account  \n",
              "78311                        Credit card or prepaid card  \n",
              "78312                                        Payday loan  \n",
              "\n",
              "[21072 rows x 2 columns]"
            ]
          },
          "execution_count": 20,
          "metadata": {},
          "output_type": "execute_result"
        }
      ],
      "source": [
        "df = df[df['complaint_what_happened'].astype(bool)]\n",
        "df"
      ]
    },
    {
      "cell_type": "markdown",
      "metadata": {
        "id": "L944HZpsJrFy"
      },
      "source": [
        "## Prepare the text for topic modeling\n",
        "\n",
        "Once you have removed all the blank complaints, you need to:\n",
        "\n",
        "* Make the text lowercase\n",
        "* Remove text in square brackets\n",
        "* Remove punctuation\n",
        "* Remove words containing numbers\n",
        "\n",
        "\n",
        "Once you have done these cleaning operations you need to perform the following:\n",
        "* Lemmatize the texts\n",
        "* Extract the POS tags of the lemmatized text and remove all the words which have tags other than NN[tag == \"NN\"].\n"
      ]
    },
    {
      "cell_type": "code",
      "execution_count": 21,
      "metadata": {
        "id": "qm7SjjSkJrFz"
      },
      "outputs": [],
      "source": [
        "# Write your function here to clean the text and remove all the unnecessary elements.\n",
        "\n",
        "\n",
        "def clean_text(text):\n",
        "    # Make the text lowercase\n",
        "    text = text.lower()\n",
        "    \n",
        "    # Remove text in square brackets\n",
        "    text = re.sub(r'\\[.*?\\]', '', text)\n",
        "    \n",
        "    # Remove punctuation\n",
        "    text = text.translate(str.maketrans('', '', string.punctuation))\n",
        "    \n",
        "    # Remove words containing numbers\n",
        "    text = ' '.join([word for word in text.split() if not any(char.isdigit() for char in word)])\n",
        "    \n",
        "    # Remove text within curly braces\n",
        "    text = re.sub(r'{.*?}', '', text)\n",
        "    \n",
        "    # Remove line breaks\n",
        "    text = text.replace('\\n', ' ').replace('\\r', '')\n",
        "    \n",
        "    # Remove date\n",
        "    text = re.sub(r'\\d{1,2}/\\d{1,2}/\\d{2,4}', '', text)\n",
        "\n",
        "    # Remove words that have multiple 'XX'\n",
        "    text = ' '.join([word for word in text.split() if word.count('xx') <= 1])\n",
        "    \n",
        "    # Remove unnecessary white spaces\n",
        "    text = re.sub(' +', ' ', text)\n",
        "    \n",
        "    return text\n",
        "\n",
        "\n"
      ]
    },
    {
      "cell_type": "code",
      "execution_count": 22,
      "metadata": {},
      "outputs": [
        {
          "data": {
            "text/html": [
              "<div>\n",
              "<style scoped>\n",
              "    .dataframe tbody tr th:only-of-type {\n",
              "        vertical-align: middle;\n",
              "    }\n",
              "\n",
              "    .dataframe tbody tr th {\n",
              "        vertical-align: top;\n",
              "    }\n",
              "\n",
              "    .dataframe thead th {\n",
              "        text-align: right;\n",
              "    }\n",
              "</style>\n",
              "<table border=\"1\" class=\"dataframe\">\n",
              "  <thead>\n",
              "    <tr style=\"text-align: right;\">\n",
              "      <th></th>\n",
              "      <th>complaint_what_happened</th>\n",
              "      <th>tag</th>\n",
              "      <th>complaints</th>\n",
              "    </tr>\n",
              "  </thead>\n",
              "  <tbody>\n",
              "    <tr>\n",
              "      <th>1</th>\n",
              "      <td>Good morning my name is XXXX XXXX and I apprec...</td>\n",
              "      <td>Debt collection</td>\n",
              "      <td>good morning my name is and i appreciate it if...</td>\n",
              "    </tr>\n",
              "    <tr>\n",
              "      <th>2</th>\n",
              "      <td>I upgraded my XXXX XXXX card in XX/XX/2018 and...</td>\n",
              "      <td>Credit card or prepaid card</td>\n",
              "      <td>i upgraded my card in and was told by the agen...</td>\n",
              "    </tr>\n",
              "    <tr>\n",
              "      <th>10</th>\n",
              "      <td>Chase Card was reported on XX/XX/2019. However...</td>\n",
              "      <td>Credit reporting, credit repair services, or o...</td>\n",
              "      <td>chase card was reported on however fraudulent ...</td>\n",
              "    </tr>\n",
              "    <tr>\n",
              "      <th>11</th>\n",
              "      <td>On XX/XX/2018, while trying to book a XXXX  XX...</td>\n",
              "      <td>Credit reporting, credit repair services, or o...</td>\n",
              "      <td>on while trying to book a ticket i came across...</td>\n",
              "    </tr>\n",
              "    <tr>\n",
              "      <th>14</th>\n",
              "      <td>my grand son give me check for {$1600.00} i de...</td>\n",
              "      <td>Checking or savings account</td>\n",
              "      <td>my grand son give me check for i deposit it in...</td>\n",
              "    </tr>\n",
              "  </tbody>\n",
              "</table>\n",
              "</div>"
            ],
            "text/plain": [
              "                              complaint_what_happened  \\\n",
              "1   Good morning my name is XXXX XXXX and I apprec...   \n",
              "2   I upgraded my XXXX XXXX card in XX/XX/2018 and...   \n",
              "10  Chase Card was reported on XX/XX/2019. However...   \n",
              "11  On XX/XX/2018, while trying to book a XXXX  XX...   \n",
              "14  my grand son give me check for {$1600.00} i de...   \n",
              "\n",
              "                                                  tag  \\\n",
              "1                                     Debt collection   \n",
              "2                         Credit card or prepaid card   \n",
              "10  Credit reporting, credit repair services, or o...   \n",
              "11  Credit reporting, credit repair services, or o...   \n",
              "14                        Checking or savings account   \n",
              "\n",
              "                                           complaints  \n",
              "1   good morning my name is and i appreciate it if...  \n",
              "2   i upgraded my card in and was told by the agen...  \n",
              "10  chase card was reported on however fraudulent ...  \n",
              "11  on while trying to book a ticket i came across...  \n",
              "14  my grand son give me check for i deposit it in...  "
            ]
          },
          "execution_count": 22,
          "metadata": {},
          "output_type": "execute_result"
        }
      ],
      "source": [
        "# Apply data cleaning to the complaints_what_happened column\n",
        "\n",
        "df['complaints'] = df['complaint_what_happened'].apply(clean_text)\n",
        "df.head()"
      ]
    },
    {
      "cell_type": "code",
      "execution_count": 23,
      "metadata": {
        "id": "zgOu8t8HJrFz"
      },
      "outputs": [],
      "source": [
        "#Write your function to Lemmatize the texts\n",
        "def lemmatization(text):\n",
        "    tokens = word_tokenize(text)\n",
        "    wordnet_lemmetizer = WordNetLemmatizer()\n",
        "    lemmatized = [wordnet_lemmetizer.lemmatize(token) for token in tokens]\n",
        "    lemmatized_str = \" \".join(lemmatized)\n",
        "    return lemmatized_str"
      ]
    },
    {
      "cell_type": "code",
      "execution_count": 24,
      "metadata": {
        "id": "uXnN7aa_JrF0"
      },
      "outputs": [],
      "source": [
        "#Create a dataframe('df_clean') that will have only the complaints and the lemmatized complaints\n",
        "df_clean = pd.DataFrame({'complaints':df['complaints'], 'lemmatized':df['complaints'].apply(lemmatization)})"
      ]
    },
    {
      "cell_type": "code",
      "execution_count": 25,
      "metadata": {
        "id": "nOiDVvEIJrF0"
      },
      "outputs": [
        {
          "data": {
            "text/html": [
              "<div>\n",
              "<style scoped>\n",
              "    .dataframe tbody tr th:only-of-type {\n",
              "        vertical-align: middle;\n",
              "    }\n",
              "\n",
              "    .dataframe tbody tr th {\n",
              "        vertical-align: top;\n",
              "    }\n",
              "\n",
              "    .dataframe thead th {\n",
              "        text-align: right;\n",
              "    }\n",
              "</style>\n",
              "<table border=\"1\" class=\"dataframe\">\n",
              "  <thead>\n",
              "    <tr style=\"text-align: right;\">\n",
              "      <th></th>\n",
              "      <th>complaints</th>\n",
              "      <th>lemmatized</th>\n",
              "    </tr>\n",
              "  </thead>\n",
              "  <tbody>\n",
              "    <tr>\n",
              "      <th>1</th>\n",
              "      <td>good morning my name is and i appreciate it if...</td>\n",
              "      <td>good morning my name is and i appreciate it if...</td>\n",
              "    </tr>\n",
              "    <tr>\n",
              "      <th>2</th>\n",
              "      <td>i upgraded my card in and was told by the agen...</td>\n",
              "      <td>i upgraded my card in and wa told by the agent...</td>\n",
              "    </tr>\n",
              "    <tr>\n",
              "      <th>10</th>\n",
              "      <td>chase card was reported on however fraudulent ...</td>\n",
              "      <td>chase card wa reported on however fraudulent a...</td>\n",
              "    </tr>\n",
              "    <tr>\n",
              "      <th>11</th>\n",
              "      <td>on while trying to book a ticket i came across...</td>\n",
              "      <td>on while trying to book a ticket i came across...</td>\n",
              "    </tr>\n",
              "    <tr>\n",
              "      <th>14</th>\n",
              "      <td>my grand son give me check for i deposit it in...</td>\n",
              "      <td>my grand son give me check for i deposit it in...</td>\n",
              "    </tr>\n",
              "    <tr>\n",
              "      <th>...</th>\n",
              "      <td>...</td>\n",
              "      <td>...</td>\n",
              "    </tr>\n",
              "    <tr>\n",
              "      <th>78303</th>\n",
              "      <td>after being a chase card customer for well ove...</td>\n",
              "      <td>after being a chase card customer for well ove...</td>\n",
              "    </tr>\n",
              "    <tr>\n",
              "      <th>78309</th>\n",
              "      <td>on wednesday i called chas my visa credit card...</td>\n",
              "      <td>on wednesday i called chas my visa credit card...</td>\n",
              "    </tr>\n",
              "    <tr>\n",
              "      <th>78310</th>\n",
              "      <td>i am not familiar with pay and did not underst...</td>\n",
              "      <td>i am not familiar with pay and did not underst...</td>\n",
              "    </tr>\n",
              "    <tr>\n",
              "      <th>78311</th>\n",
              "      <td>i have had flawless credit for yrs ive had cha...</td>\n",
              "      <td>i have had flawless credit for yr ive had chas...</td>\n",
              "    </tr>\n",
              "    <tr>\n",
              "      <th>78312</th>\n",
              "      <td>roughly years ago i closed out my accounts wit...</td>\n",
              "      <td>roughly year ago i closed out my account with ...</td>\n",
              "    </tr>\n",
              "  </tbody>\n",
              "</table>\n",
              "<p>21072 rows × 2 columns</p>\n",
              "</div>"
            ],
            "text/plain": [
              "                                              complaints  \\\n",
              "1      good morning my name is and i appreciate it if...   \n",
              "2      i upgraded my card in and was told by the agen...   \n",
              "10     chase card was reported on however fraudulent ...   \n",
              "11     on while trying to book a ticket i came across...   \n",
              "14     my grand son give me check for i deposit it in...   \n",
              "...                                                  ...   \n",
              "78303  after being a chase card customer for well ove...   \n",
              "78309  on wednesday i called chas my visa credit card...   \n",
              "78310  i am not familiar with pay and did not underst...   \n",
              "78311  i have had flawless credit for yrs ive had cha...   \n",
              "78312  roughly years ago i closed out my accounts wit...   \n",
              "\n",
              "                                              lemmatized  \n",
              "1      good morning my name is and i appreciate it if...  \n",
              "2      i upgraded my card in and wa told by the agent...  \n",
              "10     chase card wa reported on however fraudulent a...  \n",
              "11     on while trying to book a ticket i came across...  \n",
              "14     my grand son give me check for i deposit it in...  \n",
              "...                                                  ...  \n",
              "78303  after being a chase card customer for well ove...  \n",
              "78309  on wednesday i called chas my visa credit card...  \n",
              "78310  i am not familiar with pay and did not underst...  \n",
              "78311  i have had flawless credit for yr ive had chas...  \n",
              "78312  roughly year ago i closed out my account with ...  \n",
              "\n",
              "[21072 rows x 2 columns]"
            ]
          },
          "execution_count": 25,
          "metadata": {},
          "output_type": "execute_result"
        }
      ],
      "source": [
        "df_clean"
      ]
    },
    {
      "cell_type": "code",
      "execution_count": 26,
      "metadata": {
        "id": "Kk7fc4DuJrF1"
      },
      "outputs": [],
      "source": [
        "#Write your function to extract the POS tags\n",
        "\n",
        "def pos_tag(text):\n",
        "  # write your code here\n",
        "    nn_words = []\n",
        "    doc = nlp(text)\n",
        "    for tok in doc:\n",
        "        if(tok.tag_ == 'NN'):\n",
        "            nn_words.append(tok.lemma_)\n",
        "    nn_words_str = \" \".join(nn_words)\n",
        "    return nn_words_str\n",
        "\n",
        "\n",
        "\n",
        "#this column should contain lemmatized text with all the words removed which have tags other than NN[tag == \"NN\"].\n",
        "df_clean[\"complaint_POS_removed\"] =  df_clean.apply(lambda x: pos_tag(x['lemmatized']), axis=1)\n"
      ]
    },
    {
      "cell_type": "code",
      "execution_count": 27,
      "metadata": {
        "id": "AjxfchvFJrF2"
      },
      "outputs": [
        {
          "data": {
            "text/html": [
              "<div>\n",
              "<style scoped>\n",
              "    .dataframe tbody tr th:only-of-type {\n",
              "        vertical-align: middle;\n",
              "    }\n",
              "\n",
              "    .dataframe tbody tr th {\n",
              "        vertical-align: top;\n",
              "    }\n",
              "\n",
              "    .dataframe thead th {\n",
              "        text-align: right;\n",
              "    }\n",
              "</style>\n",
              "<table border=\"1\" class=\"dataframe\">\n",
              "  <thead>\n",
              "    <tr style=\"text-align: right;\">\n",
              "      <th></th>\n",
              "      <th>complaints</th>\n",
              "      <th>lemmatized</th>\n",
              "      <th>complaint_POS_removed</th>\n",
              "    </tr>\n",
              "  </thead>\n",
              "  <tbody>\n",
              "    <tr>\n",
              "      <th>1</th>\n",
              "      <td>good morning my name is and i appreciate it if...</td>\n",
              "      <td>good morning my name is and i appreciate it if...</td>\n",
              "      <td>morning name stop debt verification statement ...</td>\n",
              "    </tr>\n",
              "    <tr>\n",
              "      <th>2</th>\n",
              "      <td>i upgraded my card in and was told by the agen...</td>\n",
              "      <td>i upgraded my card in and wa told by the agent...</td>\n",
              "      <td>card agent anniversary date agent wa informati...</td>\n",
              "    </tr>\n",
              "    <tr>\n",
              "      <th>10</th>\n",
              "      <td>chase card was reported on however fraudulent ...</td>\n",
              "      <td>chase card wa reported on however fraudulent a...</td>\n",
              "      <td>card application identity consent service cred...</td>\n",
              "    </tr>\n",
              "    <tr>\n",
              "      <th>11</th>\n",
              "      <td>on while trying to book a ticket i came across...</td>\n",
              "      <td>on while trying to book a ticket i came across...</td>\n",
              "      <td>ticket offer ticket reward card information of...</td>\n",
              "    </tr>\n",
              "    <tr>\n",
              "      <th>14</th>\n",
              "      <td>my grand son give me check for i deposit it in...</td>\n",
              "      <td>my grand son give me check for i deposit it in...</td>\n",
              "      <td>son check chase account fund chase bank accoun...</td>\n",
              "    </tr>\n",
              "    <tr>\n",
              "      <th>...</th>\n",
              "      <td>...</td>\n",
              "      <td>...</td>\n",
              "      <td>...</td>\n",
              "    </tr>\n",
              "    <tr>\n",
              "      <th>78303</th>\n",
              "      <td>after being a chase card customer for well ove...</td>\n",
              "      <td>after being a chase card customer for well ove...</td>\n",
              "      <td>chase card customer decade solicitation credit...</td>\n",
              "    </tr>\n",
              "    <tr>\n",
              "      <th>78309</th>\n",
              "      <td>on wednesday i called chas my visa credit card...</td>\n",
              "      <td>on wednesday i called chas my visa credit card...</td>\n",
              "      <td>visa credit card provider claim purchase prote...</td>\n",
              "    </tr>\n",
              "    <tr>\n",
              "      <th>78310</th>\n",
              "      <td>i am not familiar with pay and did not underst...</td>\n",
              "      <td>i am not familiar with pay and did not underst...</td>\n",
              "      <td>pay risk consumer chase bank app chase year ba...</td>\n",
              "    </tr>\n",
              "    <tr>\n",
              "      <th>78311</th>\n",
              "      <td>i have had flawless credit for yrs ive had cha...</td>\n",
              "      <td>i have had flawless credit for yr ive had chas...</td>\n",
              "      <td>credit yr credit card chase freedom problem ba...</td>\n",
              "    </tr>\n",
              "    <tr>\n",
              "      <th>78312</th>\n",
              "      <td>roughly years ago i closed out my accounts wit...</td>\n",
              "      <td>roughly year ago i closed out my account with ...</td>\n",
              "      <td>year account order line credit account payment...</td>\n",
              "    </tr>\n",
              "  </tbody>\n",
              "</table>\n",
              "<p>21072 rows × 3 columns</p>\n",
              "</div>"
            ],
            "text/plain": [
              "                                              complaints  \\\n",
              "1      good morning my name is and i appreciate it if...   \n",
              "2      i upgraded my card in and was told by the agen...   \n",
              "10     chase card was reported on however fraudulent ...   \n",
              "11     on while trying to book a ticket i came across...   \n",
              "14     my grand son give me check for i deposit it in...   \n",
              "...                                                  ...   \n",
              "78303  after being a chase card customer for well ove...   \n",
              "78309  on wednesday i called chas my visa credit card...   \n",
              "78310  i am not familiar with pay and did not underst...   \n",
              "78311  i have had flawless credit for yrs ive had cha...   \n",
              "78312  roughly years ago i closed out my accounts wit...   \n",
              "\n",
              "                                              lemmatized  \\\n",
              "1      good morning my name is and i appreciate it if...   \n",
              "2      i upgraded my card in and wa told by the agent...   \n",
              "10     chase card wa reported on however fraudulent a...   \n",
              "11     on while trying to book a ticket i came across...   \n",
              "14     my grand son give me check for i deposit it in...   \n",
              "...                                                  ...   \n",
              "78303  after being a chase card customer for well ove...   \n",
              "78309  on wednesday i called chas my visa credit card...   \n",
              "78310  i am not familiar with pay and did not underst...   \n",
              "78311  i have had flawless credit for yr ive had chas...   \n",
              "78312  roughly year ago i closed out my account with ...   \n",
              "\n",
              "                                   complaint_POS_removed  \n",
              "1      morning name stop debt verification statement ...  \n",
              "2      card agent anniversary date agent wa informati...  \n",
              "10     card application identity consent service cred...  \n",
              "11     ticket offer ticket reward card information of...  \n",
              "14     son check chase account fund chase bank accoun...  \n",
              "...                                                  ...  \n",
              "78303  chase card customer decade solicitation credit...  \n",
              "78309  visa credit card provider claim purchase prote...  \n",
              "78310  pay risk consumer chase bank app chase year ba...  \n",
              "78311  credit yr credit card chase freedom problem ba...  \n",
              "78312  year account order line credit account payment...  \n",
              "\n",
              "[21072 rows x 3 columns]"
            ]
          },
          "execution_count": 27,
          "metadata": {},
          "output_type": "execute_result"
        }
      ],
      "source": [
        "#The clean dataframe should now contain the raw complaint, lemmatized complaint and the complaint after removing POS tags.\n",
        "df_clean"
      ]
    },
    {
      "cell_type": "markdown",
      "metadata": {
        "id": "_7Un1AElJrF2"
      },
      "source": [
        "## Exploratory data analysis to get familiar with the data.\n",
        "\n",
        "Write the code in this task to perform the following:\n",
        "\n",
        "*   Visualise the data according to the 'Complaint' character length\n",
        "*   Using a word cloud find the top 40 words by frequency among all the articles after processing the text\n",
        "*   Find the top unigrams,bigrams and trigrams by frequency among all the complaints after processing the text. ‘\n",
        "\n",
        "\n"
      ]
    },
    {
      "cell_type": "code",
      "execution_count": 24,
      "metadata": {
        "id": "q-zaqJF6JrF2"
      },
      "outputs": [
        {
          "data": {
            "text/plain": [
              "<Axes: ylabel='Frequency'>"
            ]
          },
          "execution_count": 24,
          "metadata": {},
          "output_type": "execute_result"
        },
        {
          "data": {
            "image/png": "[encoded data removed]",
            "text/plain": [
              "<Figure size 640x480 with 1 Axes>"
            ]
          },
          "metadata": {},
          "output_type": "display_data"
        }
      ],
      "source": [
        "# Write your code here to visualise the data according to the 'Complaint' character length\n",
        "import matplotlib.pyplot as plt\n",
        "\n",
        "# Visualise the data according to the 'Complaint' character length\n",
        "df_clean['complaint_length'] = df_clean['complaint_POS_removed'].apply(len)\n",
        "df_clean['complaint_length'].plot(bins=50, kind='hist')\n",
        "\n"
      ]
    },
    {
      "cell_type": "markdown",
      "metadata": {
        "id": "T9jD_6SeJrF3"
      },
      "source": [
        "#### Find the top 40 words by frequency among all the articles after processing the text."
      ]
    },
    {
      "cell_type": "code",
      "execution_count": 3,
      "metadata": {},
      "outputs": [
        {
          "name": "stdout",
          "output_type": "stream",
          "text": [
            "\u001b[33mDEPRECATION: Configuring installation scheme with distutils config files is deprecated and will no longer work in the near future. If you are using a Homebrew or Linuxbrew Python, please see discussion at https://github.com/Homebrew/homebrew-core/issues/76621\u001b[0m\u001b[33m\n",
            "\u001b[0mRequirement already satisfied: wordcloud in /usr/local/lib/python3.9/site-packages (1.9.4)\n",
            "Requirement already satisfied: numpy>=1.6.1 in /usr/local/lib/python3.9/site-packages (from wordcloud) (1.23.5)\n",
            "Requirement already satisfied: pillow in /Users/lkshmsa/Library/Python/3.9/lib/python/site-packages (from wordcloud) (11.1.0)\n",
            "Requirement already satisfied: matplotlib in /Users/lkshmsa/Library/Python/3.9/lib/python/site-packages (from wordcloud) (3.9.4)\n",
            "Requirement already satisfied: contourpy>=1.0.1 in /Users/lkshmsa/Library/Python/3.9/lib/python/site-packages (from matplotlib->wordcloud) (1.3.0)\n",
            "Requirement already satisfied: cycler>=0.10 in /Users/lkshmsa/Library/Python/3.9/lib/python/site-packages (from matplotlib->wordcloud) (0.12.1)\n",
            "Requirement already satisfied: fonttools>=4.22.0 in /Users/lkshmsa/Library/Python/3.9/lib/python/site-packages (from matplotlib->wordcloud) (4.56.0)\n",
            "Requirement already satisfied: kiwisolver>=1.3.1 in /Users/lkshmsa/Library/Python/3.9/lib/python/site-packages (from matplotlib->wordcloud) (1.4.7)\n",
            "Requirement already satisfied: packaging>=20.0 in /Users/lkshmsa/Library/Python/3.9/lib/python/site-packages (from matplotlib->wordcloud) (23.0)\n",
            "Requirement already satisfied: pyparsing>=2.3.1 in /Users/lkshmsa/Library/Python/3.9/lib/python/site-packages (from matplotlib->wordcloud) (3.2.1)\n",
            "Requirement already satisfied: python-dateutil>=2.7 in /Users/lkshmsa/Library/Python/3.9/lib/python/site-packages (from matplotlib->wordcloud) (2.8.2)\n",
            "Requirement already satisfied: importlib-resources>=3.2.0 in /Users/lkshmsa/Library/Python/3.9/lib/python/site-packages (from matplotlib->wordcloud) (6.5.2)\n",
            "Requirement already satisfied: zipp>=3.1.0 in /Users/lkshmsa/Library/Python/3.9/lib/python/site-packages (from importlib-resources>=3.2.0->matplotlib->wordcloud) (3.15.0)\n",
            "Requirement already satisfied: six>=1.5 in /usr/local/lib/python3.9/site-packages (from python-dateutil>=2.7->matplotlib->wordcloud) (1.16.0)\n",
            "\u001b[33mDEPRECATION: Configuring installation scheme with distutils config files is deprecated and will no longer work in the near future. If you are using a Homebrew or Linuxbrew Python, please see discussion at https://github.com/Homebrew/homebrew-core/issues/76621\u001b[0m\u001b[33m\n",
            "\u001b[0m\n",
            "\u001b[1m[\u001b[0m\u001b[34;49mnotice\u001b[0m\u001b[1;39;49m]\u001b[0m\u001b[39;49m A new release of pip is available: \u001b[0m\u001b[31;49m24.2\u001b[0m\u001b[39;49m -> \u001b[0m\u001b[32;49m25.0.1\u001b[0m\n",
            "\u001b[1m[\u001b[0m\u001b[34;49mnotice\u001b[0m\u001b[1;39;49m]\u001b[0m\u001b[39;49m To update, run: \u001b[0m\u001b[32;49mpython3.9 -m pip install --upgrade pip\u001b[0m\n"
          ]
        }
      ],
      "source": [
        "!pip install wordcloud\n"
      ]
    },
    {
      "cell_type": "code",
      "execution_count": 28,
      "metadata": {
        "id": "QcfdvtfZJrF3"
      },
      "outputs": [
        {
          "data": {
            "image/png": "[encoded data removed]",
            "text/plain": [
              "<Figure size 1200x1200 with 1 Axes>"
            ]
          },
          "metadata": {},
          "output_type": "display_data"
        }
      ],
      "source": [
        "#Using a word cloud find the top 40 words by frequency among all the articles after processing the text\n",
        "from wordcloud import WordCloud, STOPWORDS\n",
        "wordcloud = WordCloud(max_words=40, random_state=1, stopwords=STOPWORDS)\n",
        "wordcloud.generate(str(df_clean['complaint_POS_removed']))\n",
        "plt.figure(figsize=(12,12))\n",
        "plt.imshow(wordcloud, interpolation=\"bilinear\")\n",
        "plt.axis(\"off\")\n",
        "plt.show()\n",
        "\n",
        "\n"
      ]
    },
    {
      "cell_type": "code",
      "execution_count": 35,
      "metadata": {
        "id": "OkSmc3UaJrF4"
      },
      "outputs": [
        {
          "data": {
            "text/html": [
              "<div>\n",
              "<style scoped>\n",
              "    .dataframe tbody tr th:only-of-type {\n",
              "        vertical-align: middle;\n",
              "    }\n",
              "\n",
              "    .dataframe tbody tr th {\n",
              "        vertical-align: top;\n",
              "    }\n",
              "\n",
              "    .dataframe thead th {\n",
              "        text-align: right;\n",
              "    }\n",
              "</style>\n",
              "<table border=\"1\" class=\"dataframe\">\n",
              "  <thead>\n",
              "    <tr style=\"text-align: right;\">\n",
              "      <th></th>\n",
              "      <th>complaints</th>\n",
              "      <th>lemmatized</th>\n",
              "      <th>complaint_POS_removed</th>\n",
              "      <th>Complaint_clean</th>\n",
              "    </tr>\n",
              "  </thead>\n",
              "  <tbody>\n",
              "    <tr>\n",
              "      <th>1</th>\n",
              "      <td>good morning my name is and i appreciate it if...</td>\n",
              "      <td>good morning my name is and i appreciate it if...</td>\n",
              "      <td>morning name stop debt verification statement ...</td>\n",
              "      <td>morning name stop debt verification statement ...</td>\n",
              "    </tr>\n",
              "    <tr>\n",
              "      <th>2</th>\n",
              "      <td>i upgraded my card in and was told by the agen...</td>\n",
              "      <td>i upgraded my card in and wa told by the agent...</td>\n",
              "      <td>card agent anniversary date agent wa informati...</td>\n",
              "      <td>card agent anniversary date agent wa informati...</td>\n",
              "    </tr>\n",
              "    <tr>\n",
              "      <th>10</th>\n",
              "      <td>chase card was reported on however fraudulent ...</td>\n",
              "      <td>chase card wa reported on however fraudulent a...</td>\n",
              "      <td>card application identity consent service cred...</td>\n",
              "      <td>card application identity consent service cred...</td>\n",
              "    </tr>\n",
              "    <tr>\n",
              "      <th>11</th>\n",
              "      <td>on while trying to book a ticket i came across...</td>\n",
              "      <td>on while trying to book a ticket i came across...</td>\n",
              "      <td>ticket offer ticket reward card information of...</td>\n",
              "      <td>ticket offer ticket reward card information of...</td>\n",
              "    </tr>\n",
              "    <tr>\n",
              "      <th>14</th>\n",
              "      <td>my grand son give me check for i deposit it in...</td>\n",
              "      <td>my grand son give me check for i deposit it in...</td>\n",
              "      <td>son check chase account fund chase bank accoun...</td>\n",
              "      <td>son check chase account fund chase bank accoun...</td>\n",
              "    </tr>\n",
              "    <tr>\n",
              "      <th>...</th>\n",
              "      <td>...</td>\n",
              "      <td>...</td>\n",
              "      <td>...</td>\n",
              "      <td>...</td>\n",
              "    </tr>\n",
              "    <tr>\n",
              "      <th>78303</th>\n",
              "      <td>after being a chase card customer for well ove...</td>\n",
              "      <td>after being a chase card customer for well ove...</td>\n",
              "      <td>chase card customer decade solicitation credit...</td>\n",
              "      <td>chase card customer decade solicitation credit...</td>\n",
              "    </tr>\n",
              "    <tr>\n",
              "      <th>78309</th>\n",
              "      <td>on wednesday i called chas my visa credit card...</td>\n",
              "      <td>on wednesday i called chas my visa credit card...</td>\n",
              "      <td>visa credit card provider claim purchase prote...</td>\n",
              "      <td>visa credit card provider claim purchase prote...</td>\n",
              "    </tr>\n",
              "    <tr>\n",
              "      <th>78310</th>\n",
              "      <td>i am not familiar with pay and did not underst...</td>\n",
              "      <td>i am not familiar with pay and did not underst...</td>\n",
              "      <td>pay risk consumer chase bank app chase year ba...</td>\n",
              "      <td>pay risk consumer chase bank app chase year ba...</td>\n",
              "    </tr>\n",
              "    <tr>\n",
              "      <th>78311</th>\n",
              "      <td>i have had flawless credit for yrs ive had cha...</td>\n",
              "      <td>i have had flawless credit for yr ive had chas...</td>\n",
              "      <td>credit yr credit card chase freedom problem ba...</td>\n",
              "      <td>credit yr credit card chase freedom problem ba...</td>\n",
              "    </tr>\n",
              "    <tr>\n",
              "      <th>78312</th>\n",
              "      <td>roughly years ago i closed out my accounts wit...</td>\n",
              "      <td>roughly year ago i closed out my account with ...</td>\n",
              "      <td>year account order line credit account payment...</td>\n",
              "      <td>year account order line credit account payment...</td>\n",
              "    </tr>\n",
              "  </tbody>\n",
              "</table>\n",
              "<p>21072 rows × 4 columns</p>\n",
              "</div>"
            ],
            "text/plain": [
              "                                              complaints  \\\n",
              "1      good morning my name is and i appreciate it if...   \n",
              "2      i upgraded my card in and was told by the agen...   \n",
              "10     chase card was reported on however fraudulent ...   \n",
              "11     on while trying to book a ticket i came across...   \n",
              "14     my grand son give me check for i deposit it in...   \n",
              "...                                                  ...   \n",
              "78303  after being a chase card customer for well ove...   \n",
              "78309  on wednesday i called chas my visa credit card...   \n",
              "78310  i am not familiar with pay and did not underst...   \n",
              "78311  i have had flawless credit for yrs ive had cha...   \n",
              "78312  roughly years ago i closed out my accounts wit...   \n",
              "\n",
              "                                              lemmatized  \\\n",
              "1      good morning my name is and i appreciate it if...   \n",
              "2      i upgraded my card in and wa told by the agent...   \n",
              "10     chase card wa reported on however fraudulent a...   \n",
              "11     on while trying to book a ticket i came across...   \n",
              "14     my grand son give me check for i deposit it in...   \n",
              "...                                                  ...   \n",
              "78303  after being a chase card customer for well ove...   \n",
              "78309  on wednesday i called chas my visa credit card...   \n",
              "78310  i am not familiar with pay and did not underst...   \n",
              "78311  i have had flawless credit for yr ive had chas...   \n",
              "78312  roughly year ago i closed out my account with ...   \n",
              "\n",
              "                                   complaint_POS_removed  \\\n",
              "1      morning name stop debt verification statement ...   \n",
              "2      card agent anniversary date agent wa informati...   \n",
              "10     card application identity consent service cred...   \n",
              "11     ticket offer ticket reward card information of...   \n",
              "14     son check chase account fund chase bank accoun...   \n",
              "...                                                  ...   \n",
              "78303  chase card customer decade solicitation credit...   \n",
              "78309  visa credit card provider claim purchase prote...   \n",
              "78310  pay risk consumer chase bank app chase year ba...   \n",
              "78311  credit yr credit card chase freedom problem ba...   \n",
              "78312  year account order line credit account payment...   \n",
              "\n",
              "                                         Complaint_clean  \n",
              "1      morning name stop debt verification statement ...  \n",
              "2      card agent anniversary date agent wa informati...  \n",
              "10     card application identity consent service cred...  \n",
              "11     ticket offer ticket reward card information of...  \n",
              "14     son check chase account fund chase bank accoun...  \n",
              "...                                                  ...  \n",
              "78303  chase card customer decade solicitation credit...  \n",
              "78309  visa credit card provider claim purchase prote...  \n",
              "78310  pay risk consumer chase bank app chase year ba...  \n",
              "78311  credit yr credit card chase freedom problem ba...  \n",
              "78312  year account order line credit account payment...  \n",
              "\n",
              "[21072 rows x 4 columns]"
            ]
          },
          "execution_count": 35,
          "metadata": {},
          "output_type": "execute_result"
        }
      ],
      "source": [
        "#Removing -PRON- from the text corpus\n",
        "df_clean['Complaint_clean'] = df_clean['complaint_POS_removed'].str.replace('-PRON-', '')\n",
        "df_clean"
      ]
    },
    {
      "cell_type": "markdown",
      "metadata": {
        "id": "5DfCSbbmJrF4"
      },
      "source": [
        "#### Find the top unigrams,bigrams and trigrams by frequency among all the complaints after processing the text."
      ]
    },
    {
      "cell_type": "code",
      "execution_count": 118,
      "metadata": {},
      "outputs": [],
      "source": [
        "def get_top_n_words(corpus, n=None,count=None):\n",
        "    vec = CountVectorizer(ngram_range=(n, n)).fit(corpus)\n",
        "    bag_of_words = vec.transform(corpus)\n",
        "    sum_words = bag_of_words.sum(axis=0) \n",
        "    words_freq = [(word, sum_words[0, idx]) for word, idx in vec.vocabulary_.items()]\n",
        "    words_freq =sorted(words_freq, key = lambda x: x[1], reverse=True)\n",
        "    return words_freq[:count]"
      ]
    },
    {
      "cell_type": "code",
      "execution_count": 119,
      "metadata": {},
      "outputs": [
        {
          "name": "stdout",
          "output_type": "stream",
          "text": [
            "chase 61464\n",
            "account 47754\n",
            "credit 32655\n",
            "card 30368\n",
            "bank 21710\n",
            "payment 21164\n",
            "time 16032\n",
            "day 12959\n",
            "charge 12006\n",
            "money 11950\n"
          ]
        },
        {
          "ename": "ValueError",
          "evalue": "Mime type rendering requires nbformat>=4.2.0 but it is not installed",
          "output_type": "error",
          "traceback": [
            "\u001b[0;31m---------------------------------------------------------------------------\u001b[0m",
            "\u001b[0;31mValueError\u001b[0m                                Traceback (most recent call last)",
            "File \u001b[0;32m~/Library/Python/3.9/lib/python/site-packages/IPython/core/formatters.py:922\u001b[0m, in \u001b[0;36mIPythonDisplayFormatter.__call__\u001b[0;34m(self, obj)\u001b[0m\n\u001b[1;32m    920\u001b[0m method \u001b[38;5;241m=\u001b[39m get_real_method(obj, \u001b[38;5;28mself\u001b[39m\u001b[38;5;241m.\u001b[39mprint_method)\n\u001b[1;32m    921\u001b[0m \u001b[38;5;28;01mif\u001b[39;00m method \u001b[38;5;129;01mis\u001b[39;00m \u001b[38;5;129;01mnot\u001b[39;00m \u001b[38;5;28;01mNone\u001b[39;00m:\n\u001b[0;32m--> 922\u001b[0m     \u001b[43mmethod\u001b[49m\u001b[43m(\u001b[49m\u001b[43m)\u001b[49m\n\u001b[1;32m    923\u001b[0m     \u001b[38;5;28;01mreturn\u001b[39;00m \u001b[38;5;28;01mTrue\u001b[39;00m\n",
            "File \u001b[0;32m/usr/local/lib/python3.9/site-packages/plotly/basedatatypes.py:833\u001b[0m, in \u001b[0;36mBaseFigure._ipython_display_\u001b[0;34m(self)\u001b[0m\n\u001b[1;32m    830\u001b[0m \u001b[38;5;28;01mimport\u001b[39;00m \u001b[38;5;21;01mplotly\u001b[39;00m\u001b[38;5;21;01m.\u001b[39;00m\u001b[38;5;21;01mio\u001b[39;00m \u001b[38;5;28;01mas\u001b[39;00m \u001b[38;5;21;01mpio\u001b[39;00m\n\u001b[1;32m    832\u001b[0m \u001b[38;5;28;01mif\u001b[39;00m pio\u001b[38;5;241m.\u001b[39mrenderers\u001b[38;5;241m.\u001b[39mrender_on_display \u001b[38;5;129;01mand\u001b[39;00m pio\u001b[38;5;241m.\u001b[39mrenderers\u001b[38;5;241m.\u001b[39mdefault:\n\u001b[0;32m--> 833\u001b[0m     \u001b[43mpio\u001b[49m\u001b[38;5;241;43m.\u001b[39;49m\u001b[43mshow\u001b[49m\u001b[43m(\u001b[49m\u001b[38;5;28;43mself\u001b[39;49m\u001b[43m)\u001b[49m\n\u001b[1;32m    834\u001b[0m \u001b[38;5;28;01melse\u001b[39;00m:\n\u001b[1;32m    835\u001b[0m     \u001b[38;5;28mprint\u001b[39m(\u001b[38;5;28mrepr\u001b[39m(\u001b[38;5;28mself\u001b[39m))\n",
            "File \u001b[0;32m/usr/local/lib/python3.9/site-packages/plotly/io/_renderers.py:425\u001b[0m, in \u001b[0;36mshow\u001b[0;34m(fig, renderer, validate, **kwargs)\u001b[0m\n\u001b[1;32m    420\u001b[0m     \u001b[38;5;28;01mraise\u001b[39;00m \u001b[38;5;167;01mValueError\u001b[39;00m(\n\u001b[1;32m    421\u001b[0m         \u001b[38;5;124m\"\u001b[39m\u001b[38;5;124mMime type rendering requires ipython but it is not installed\u001b[39m\u001b[38;5;124m\"\u001b[39m\n\u001b[1;32m    422\u001b[0m     )\n\u001b[1;32m    424\u001b[0m \u001b[38;5;28;01mif\u001b[39;00m \u001b[38;5;129;01mnot\u001b[39;00m nbformat \u001b[38;5;129;01mor\u001b[39;00m Version(nbformat\u001b[38;5;241m.\u001b[39m__version__) \u001b[38;5;241m<\u001b[39m Version(\u001b[38;5;124m\"\u001b[39m\u001b[38;5;124m4.2.0\u001b[39m\u001b[38;5;124m\"\u001b[39m):\n\u001b[0;32m--> 425\u001b[0m     \u001b[38;5;28;01mraise\u001b[39;00m \u001b[38;5;167;01mValueError\u001b[39;00m(\n\u001b[1;32m    426\u001b[0m         \u001b[38;5;124m\"\u001b[39m\u001b[38;5;124mMime type rendering requires nbformat>=4.2.0 but it is not installed\u001b[39m\u001b[38;5;124m\"\u001b[39m\n\u001b[1;32m    427\u001b[0m     )\n\u001b[1;32m    429\u001b[0m display_jupyter_version_warnings()\n\u001b[1;32m    431\u001b[0m ipython_display\u001b[38;5;241m.\u001b[39mdisplay(bundle, raw\u001b[38;5;241m=\u001b[39m\u001b[38;5;28;01mTrue\u001b[39;00m)\n",
            "\u001b[0;31mValueError\u001b[0m: Mime type rendering requires nbformat>=4.2.0 but it is not installed"
          ]
        },
        {
          "data": {
            "application/vnd.plotly.v1+json": {
              "config": {
                "plotlyServerURL": "https://plot.ly"
              },
              "data": [
                {
                  "hovertemplate": "x=%{x}<br>y=%{y}<extra></extra>",
                  "legendgroup": "",
                  "marker": {
                    "color": "#636efa",
                    "pattern": {
                      "shape": ""
                    }
                  },
                  "name": "",
                  "orientation": "v",
                  "showlegend": false,
                  "textposition": "auto",
                  "type": "bar",
                  "x": [
                    "chase",
                    "account",
                    "credit",
                    "card",
                    "bank",
                    "payment",
                    "time",
                    "day",
                    "charge",
                    "money"
                  ],
                  "xaxis": "x",
                  "y": {
                    "bdata": "GPAAAIq6AACPfwAAoHYAAM5UAACsUgAAoD4AAJ8yAADmLgAAri4AAA==",
                    "dtype": "i4"
                  },
                  "yaxis": "y"
                }
              ],
              "layout": {
                "barmode": "relative",
                "legend": {
                  "tracegroupgap": 0
                },
                "template": {
                  "data": {
                    "bar": [
                      {
                        "error_x": {
                          "color": "#2a3f5f"
                        },
                        "error_y": {
                          "color": "#2a3f5f"
                        },
                        "marker": {
                          "line": {
                            "color": "#E5ECF6",
                            "width": 0.5
                          },
                          "pattern": {
                            "fillmode": "overlay",
                            "size": 10,
                            "solidity": 0.2
                          }
                        },
                        "type": "bar"
                      }
                    ],
                    "barpolar": [
                      {
                        "marker": {
                          "line": {
                            "color": "#E5ECF6",
                            "width": 0.5
                          },
                          "pattern": {
                            "fillmode": "overlay",
                            "size": 10,
                            "solidity": 0.2
                          }
                        },
                        "type": "barpolar"
                      }
                    ],
                    "carpet": [
                      {
                        "aaxis": {
                          "endlinecolor": "#2a3f5f",
                          "gridcolor": "white",
                          "linecolor": "white",
                          "minorgridcolor": "white",
                          "startlinecolor": "#2a3f5f"
                        },
                        "baxis": {
                          "endlinecolor": "#2a3f5f",
                          "gridcolor": "white",
                          "linecolor": "white",
                          "minorgridcolor": "white",
                          "startlinecolor": "#2a3f5f"
                        },
                        "type": "carpet"
                      }
                    ],
                    "choropleth": [
                      {
                        "colorbar": {
                          "outlinewidth": 0,
                          "ticks": ""
                        },
                        "type": "choropleth"
                      }
                    ],
                    "contour": [
                      {
                        "colorbar": {
                          "outlinewidth": 0,
                          "ticks": ""
                        },
                        "colorscale": [
                          [
                            0,
                            "#0d0887"
                          ],
                          [
                            0.1111111111111111,
                            "#46039f"
                          ],
                          [
                            0.2222222222222222,
                            "#7201a8"
                          ],
                          [
                            0.3333333333333333,
                            "#9c179e"
                          ],
                          [
                            0.4444444444444444,
                            "#bd3786"
                          ],
                          [
                            0.5555555555555556,
                            "#d8576b"
                          ],
                          [
                            0.6666666666666666,
                            "#ed7953"
                          ],
                          [
                            0.7777777777777778,
                            "#fb9f3a"
                          ],
                          [
                            0.8888888888888888,
                            "#fdca26"
                          ],
                          [
                            1,
                            "#f0f921"
                          ]
                        ],
                        "type": "contour"
                      }
                    ],
                    "contourcarpet": [
                      {
                        "colorbar": {
                          "outlinewidth": 0,
                          "ticks": ""
                        },
                        "type": "contourcarpet"
                      }
                    ],
                    "heatmap": [
                      {
                        "colorbar": {
                          "outlinewidth": 0,
                          "ticks": ""
                        },
                        "colorscale": [
                          [
                            0,
                            "#0d0887"
                          ],
                          [
                            0.1111111111111111,
                            "#46039f"
                          ],
                          [
                            0.2222222222222222,
                            "#7201a8"
                          ],
                          [
                            0.3333333333333333,
                            "#9c179e"
                          ],
                          [
                            0.4444444444444444,
                            "#bd3786"
                          ],
                          [
                            0.5555555555555556,
                            "#d8576b"
                          ],
                          [
                            0.6666666666666666,
                            "#ed7953"
                          ],
                          [
                            0.7777777777777778,
                            "#fb9f3a"
                          ],
                          [
                            0.8888888888888888,
                            "#fdca26"
                          ],
                          [
                            1,
                            "#f0f921"
                          ]
                        ],
                        "type": "heatmap"
                      }
                    ],
                    "histogram": [
                      {
                        "marker": {
                          "pattern": {
                            "fillmode": "overlay",
                            "size": 10,
                            "solidity": 0.2
                          }
                        },
                        "type": "histogram"
                      }
                    ],
                    "histogram2d": [
                      {
                        "colorbar": {
                          "outlinewidth": 0,
                          "ticks": ""
                        },
                        "colorscale": [
                          [
                            0,
                            "#0d0887"
                          ],
                          [
                            0.1111111111111111,
                            "#46039f"
                          ],
                          [
                            0.2222222222222222,
                            "#7201a8"
                          ],
                          [
                            0.3333333333333333,
                            "#9c179e"
                          ],
                          [
                            0.4444444444444444,
                            "#bd3786"
                          ],
                          [
                            0.5555555555555556,
                            "#d8576b"
                          ],
                          [
                            0.6666666666666666,
                            "#ed7953"
                          ],
                          [
                            0.7777777777777778,
                            "#fb9f3a"
                          ],
                          [
                            0.8888888888888888,
                            "#fdca26"
                          ],
                          [
                            1,
                            "#f0f921"
                          ]
                        ],
                        "type": "histogram2d"
                      }
                    ],
                    "histogram2dcontour": [
                      {
                        "colorbar": {
                          "outlinewidth": 0,
                          "ticks": ""
                        },
                        "colorscale": [
                          [
                            0,
                            "#0d0887"
                          ],
                          [
                            0.1111111111111111,
                            "#46039f"
                          ],
                          [
                            0.2222222222222222,
                            "#7201a8"
                          ],
                          [
                            0.3333333333333333,
                            "#9c179e"
                          ],
                          [
                            0.4444444444444444,
                            "#bd3786"
                          ],
                          [
                            0.5555555555555556,
                            "#d8576b"
                          ],
                          [
                            0.6666666666666666,
                            "#ed7953"
                          ],
                          [
                            0.7777777777777778,
                            "#fb9f3a"
                          ],
                          [
                            0.8888888888888888,
                            "#fdca26"
                          ],
                          [
                            1,
                            "#f0f921"
                          ]
                        ],
                        "type": "histogram2dcontour"
                      }
                    ],
                    "mesh3d": [
                      {
                        "colorbar": {
                          "outlinewidth": 0,
                          "ticks": ""
                        },
                        "type": "mesh3d"
                      }
                    ],
                    "parcoords": [
                      {
                        "line": {
                          "colorbar": {
                            "outlinewidth": 0,
                            "ticks": ""
                          }
                        },
                        "type": "parcoords"
                      }
                    ],
                    "pie": [
                      {
                        "automargin": true,
                        "type": "pie"
                      }
                    ],
                    "scatter": [
                      {
                        "fillpattern": {
                          "fillmode": "overlay",
                          "size": 10,
                          "solidity": 0.2
                        },
                        "type": "scatter"
                      }
                    ],
                    "scatter3d": [
                      {
                        "line": {
                          "colorbar": {
                            "outlinewidth": 0,
                            "ticks": ""
                          }
                        },
                        "marker": {
                          "colorbar": {
                            "outlinewidth": 0,
                            "ticks": ""
                          }
                        },
                        "type": "scatter3d"
                      }
                    ],
                    "scattercarpet": [
                      {
                        "marker": {
                          "colorbar": {
                            "outlinewidth": 0,
                            "ticks": ""
                          }
                        },
                        "type": "scattercarpet"
                      }
                    ],
                    "scattergeo": [
                      {
                        "marker": {
                          "colorbar": {
                            "outlinewidth": 0,
                            "ticks": ""
                          }
                        },
                        "type": "scattergeo"
                      }
                    ],
                    "scattergl": [
                      {
                        "marker": {
                          "colorbar": {
                            "outlinewidth": 0,
                            "ticks": ""
                          }
                        },
                        "type": "scattergl"
                      }
                    ],
                    "scattermap": [
                      {
                        "marker": {
                          "colorbar": {
                            "outlinewidth": 0,
                            "ticks": ""
                          }
                        },
                        "type": "scattermap"
                      }
                    ],
                    "scattermapbox": [
                      {
                        "marker": {
                          "colorbar": {
                            "outlinewidth": 0,
                            "ticks": ""
                          }
                        },
                        "type": "scattermapbox"
                      }
                    ],
                    "scatterpolar": [
                      {
                        "marker": {
                          "colorbar": {
                            "outlinewidth": 0,
                            "ticks": ""
                          }
                        },
                        "type": "scatterpolar"
                      }
                    ],
                    "scatterpolargl": [
                      {
                        "marker": {
                          "colorbar": {
                            "outlinewidth": 0,
                            "ticks": ""
                          }
                        },
                        "type": "scatterpolargl"
                      }
                    ],
                    "scatterternary": [
                      {
                        "marker": {
                          "colorbar": {
                            "outlinewidth": 0,
                            "ticks": ""
                          }
                        },
                        "type": "scatterternary"
                      }
                    ],
                    "surface": [
                      {
                        "colorbar": {
                          "outlinewidth": 0,
                          "ticks": ""
                        },
                        "colorscale": [
                          [
                            0,
                            "#0d0887"
                          ],
                          [
                            0.1111111111111111,
                            "#46039f"
                          ],
                          [
                            0.2222222222222222,
                            "#7201a8"
                          ],
                          [
                            0.3333333333333333,
                            "#9c179e"
                          ],
                          [
                            0.4444444444444444,
                            "#bd3786"
                          ],
                          [
                            0.5555555555555556,
                            "#d8576b"
                          ],
                          [
                            0.6666666666666666,
                            "#ed7953"
                          ],
                          [
                            0.7777777777777778,
                            "#fb9f3a"
                          ],
                          [
                            0.8888888888888888,
                            "#fdca26"
                          ],
                          [
                            1,
                            "#f0f921"
                          ]
                        ],
                        "type": "surface"
                      }
                    ],
                    "table": [
                      {
                        "cells": {
                          "fill": {
                            "color": "#EBF0F8"
                          },
                          "line": {
                            "color": "white"
                          }
                        },
                        "header": {
                          "fill": {
                            "color": "#C8D4E3"
                          },
                          "line": {
                            "color": "white"
                          }
                        },
                        "type": "table"
                      }
                    ]
                  },
                  "layout": {
                    "annotationdefaults": {
                      "arrowcolor": "#2a3f5f",
                      "arrowhead": 0,
                      "arrowwidth": 1
                    },
                    "autotypenumbers": "strict",
                    "coloraxis": {
                      "colorbar": {
                        "outlinewidth": 0,
                        "ticks": ""
                      }
                    },
                    "colorscale": {
                      "diverging": [
                        [
                          0,
                          "#8e0152"
                        ],
                        [
                          0.1,
                          "#c51b7d"
                        ],
                        [
                          0.2,
                          "#de77ae"
                        ],
                        [
                          0.3,
                          "#f1b6da"
                        ],
                        [
                          0.4,
                          "#fde0ef"
                        ],
                        [
                          0.5,
                          "#f7f7f7"
                        ],
                        [
                          0.6,
                          "#e6f5d0"
                        ],
                        [
                          0.7,
                          "#b8e186"
                        ],
                        [
                          0.8,
                          "#7fbc41"
                        ],
                        [
                          0.9,
                          "#4d9221"
                        ],
                        [
                          1,
                          "#276419"
                        ]
                      ],
                      "sequential": [
                        [
                          0,
                          "#0d0887"
                        ],
                        [
                          0.1111111111111111,
                          "#46039f"
                        ],
                        [
                          0.2222222222222222,
                          "#7201a8"
                        ],
                        [
                          0.3333333333333333,
                          "#9c179e"
                        ],
                        [
                          0.4444444444444444,
                          "#bd3786"
                        ],
                        [
                          0.5555555555555556,
                          "#d8576b"
                        ],
                        [
                          0.6666666666666666,
                          "#ed7953"
                        ],
                        [
                          0.7777777777777778,
                          "#fb9f3a"
                        ],
                        [
                          0.8888888888888888,
                          "#fdca26"
                        ],
                        [
                          1,
                          "#f0f921"
                        ]
                      ],
                      "sequentialminus": [
                        [
                          0,
                          "#0d0887"
                        ],
                        [
                          0.1111111111111111,
                          "#46039f"
                        ],
                        [
                          0.2222222222222222,
                          "#7201a8"
                        ],
                        [
                          0.3333333333333333,
                          "#9c179e"
                        ],
                        [
                          0.4444444444444444,
                          "#bd3786"
                        ],
                        [
                          0.5555555555555556,
                          "#d8576b"
                        ],
                        [
                          0.6666666666666666,
                          "#ed7953"
                        ],
                        [
                          0.7777777777777778,
                          "#fb9f3a"
                        ],
                        [
                          0.8888888888888888,
                          "#fdca26"
                        ],
                        [
                          1,
                          "#f0f921"
                        ]
                      ]
                    },
                    "colorway": [
                      "#636efa",
                      "#EF553B",
                      "#00cc96",
                      "#ab63fa",
                      "#FFA15A",
                      "#19d3f3",
                      "#FF6692",
                      "#B6E880",
                      "#FF97FF",
                      "#FECB52"
                    ],
                    "font": {
                      "color": "#2a3f5f"
                    },
                    "geo": {
                      "bgcolor": "white",
                      "lakecolor": "white",
                      "landcolor": "#E5ECF6",
                      "showlakes": true,
                      "showland": true,
                      "subunitcolor": "white"
                    },
                    "hoverlabel": {
                      "align": "left"
                    },
                    "hovermode": "closest",
                    "mapbox": {
                      "style": "light"
                    },
                    "paper_bgcolor": "white",
                    "plot_bgcolor": "#E5ECF6",
                    "polar": {
                      "angularaxis": {
                        "gridcolor": "white",
                        "linecolor": "white",
                        "ticks": ""
                      },
                      "bgcolor": "#E5ECF6",
                      "radialaxis": {
                        "gridcolor": "white",
                        "linecolor": "white",
                        "ticks": ""
                      }
                    },
                    "scene": {
                      "xaxis": {
                        "backgroundcolor": "#E5ECF6",
                        "gridcolor": "white",
                        "gridwidth": 2,
                        "linecolor": "white",
                        "showbackground": true,
                        "ticks": "",
                        "zerolinecolor": "white"
                      },
                      "yaxis": {
                        "backgroundcolor": "#E5ECF6",
                        "gridcolor": "white",
                        "gridwidth": 2,
                        "linecolor": "white",
                        "showbackground": true,
                        "ticks": "",
                        "zerolinecolor": "white"
                      },
                      "zaxis": {
                        "backgroundcolor": "#E5ECF6",
                        "gridcolor": "white",
                        "gridwidth": 2,
                        "linecolor": "white",
                        "showbackground": true,
                        "ticks": "",
                        "zerolinecolor": "white"
                      }
                    },
                    "shapedefaults": {
                      "line": {
                        "color": "#2a3f5f"
                      }
                    },
                    "ternary": {
                      "aaxis": {
                        "gridcolor": "white",
                        "linecolor": "white",
                        "ticks": ""
                      },
                      "baxis": {
                        "gridcolor": "white",
                        "linecolor": "white",
                        "ticks": ""
                      },
                      "bgcolor": "#E5ECF6",
                      "caxis": {
                        "gridcolor": "white",
                        "linecolor": "white",
                        "ticks": ""
                      }
                    },
                    "title": {
                      "x": 0.05
                    },
                    "xaxis": {
                      "automargin": true,
                      "gridcolor": "white",
                      "linecolor": "white",
                      "ticks": "",
                      "title": {
                        "standoff": 15
                      },
                      "zerolinecolor": "white",
                      "zerolinewidth": 2
                    },
                    "yaxis": {
                      "automargin": true,
                      "gridcolor": "white",
                      "linecolor": "white",
                      "ticks": "",
                      "title": {
                        "standoff": 15
                      },
                      "zerolinecolor": "white",
                      "zerolinewidth": 2
                    }
                  }
                },
                "title": {
                  "text": "Top 10 Unigrams"
                },
                "xaxis": {
                  "anchor": "y",
                  "domain": [
                    0,
                    1
                  ],
                  "title": {
                    "text": "x"
                  }
                },
                "yaxis": {
                  "anchor": "x",
                  "domain": [
                    0,
                    1
                  ],
                  "title": {
                    "text": "y"
                  }
                }
              }
            },
            "text/html": [
              "<div>                        <script type=\"text/javascript\">window.PlotlyConfig = {MathJaxConfig: 'local'};</script>\n",
              "        <script charset=\"utf-8\" src=\"https://cdn.plot.ly/plotly-3.0.1.min.js\"></script>                <div id=\"2333f9fc-91ed-4d7c-be0c-cbfccee8a279\" class=\"plotly-graph-div\" style=\"height:100%; width:100%;\"></div>            <script type=\"text/javascript\">                window.PLOTLYENV=window.PLOTLYENV || {};                                if (document.getElementById(\"2333f9fc-91ed-4d7c-be0c-cbfccee8a279\")) {                    Plotly.newPlot(                        \"2333f9fc-91ed-4d7c-be0c-cbfccee8a279\",                        [{\"hovertemplate\":\"x=%{x}\\u003cbr\\u003ey=%{y}\\u003cextra\\u003e\\u003c\\u002fextra\\u003e\",\"legendgroup\":\"\",\"marker\":{\"color\":\"#636efa\",\"pattern\":{\"shape\":\"\"}},\"name\":\"\",\"orientation\":\"v\",\"showlegend\":false,\"textposition\":\"auto\",\"x\":[\"chase\",\"account\",\"credit\",\"card\",\"bank\",\"payment\",\"time\",\"day\",\"charge\",\"money\"],\"xaxis\":\"x\",\"y\":{\"dtype\":\"i4\",\"bdata\":\"GPAAAIq6AACPfwAAoHYAAM5UAACsUgAAoD4AAJ8yAADmLgAAri4AAA==\"},\"yaxis\":\"y\",\"type\":\"bar\"}],                        {\"template\":{\"data\":{\"histogram2dcontour\":[{\"type\":\"histogram2dcontour\",\"colorbar\":{\"outlinewidth\":0,\"ticks\":\"\"},\"colorscale\":[[0.0,\"#0d0887\"],[0.1111111111111111,\"#46039f\"],[0.2222222222222222,\"#7201a8\"],[0.3333333333333333,\"#9c179e\"],[0.4444444444444444,\"#bd3786\"],[0.5555555555555556,\"#d8576b\"],[0.6666666666666666,\"#ed7953\"],[0.7777777777777778,\"#fb9f3a\"],[0.8888888888888888,\"#fdca26\"],[1.0,\"#f0f921\"]]}],\"choropleth\":[{\"type\":\"choropleth\",\"colorbar\":{\"outlinewidth\":0,\"ticks\":\"\"}}],\"histogram2d\":[{\"type\":\"histogram2d\",\"colorbar\":{\"outlinewidth\":0,\"ticks\":\"\"},\"colorscale\":[[0.0,\"#0d0887\"],[0.1111111111111111,\"#46039f\"],[0.2222222222222222,\"#7201a8\"],[0.3333333333333333,\"#9c179e\"],[0.4444444444444444,\"#bd3786\"],[0.5555555555555556,\"#d8576b\"],[0.6666666666666666,\"#ed7953\"],[0.7777777777777778,\"#fb9f3a\"],[0.8888888888888888,\"#fdca26\"],[1.0,\"#f0f921\"]]}],\"heatmap\":[{\"type\":\"heatmap\",\"colorbar\":{\"outlinewidth\":0,\"ticks\":\"\"},\"colorscale\":[[0.0,\"#0d0887\"],[0.1111111111111111,\"#46039f\"],[0.2222222222222222,\"#7201a8\"],[0.3333333333333333,\"#9c179e\"],[0.4444444444444444,\"#bd3786\"],[0.5555555555555556,\"#d8576b\"],[0.6666666666666666,\"#ed7953\"],[0.7777777777777778,\"#fb9f3a\"],[0.8888888888888888,\"#fdca26\"],[1.0,\"#f0f921\"]]}],\"contourcarpet\":[{\"type\":\"contourcarpet\",\"colorbar\":{\"outlinewidth\":0,\"ticks\":\"\"}}],\"contour\":[{\"type\":\"contour\",\"colorbar\":{\"outlinewidth\":0,\"ticks\":\"\"},\"colorscale\":[[0.0,\"#0d0887\"],[0.1111111111111111,\"#46039f\"],[0.2222222222222222,\"#7201a8\"],[0.3333333333333333,\"#9c179e\"],[0.4444444444444444,\"#bd3786\"],[0.5555555555555556,\"#d8576b\"],[0.6666666666666666,\"#ed7953\"],[0.7777777777777778,\"#fb9f3a\"],[0.8888888888888888,\"#fdca26\"],[1.0,\"#f0f921\"]]}],\"surface\":[{\"type\":\"surface\",\"colorbar\":{\"outlinewidth\":0,\"ticks\":\"\"},\"colorscale\":[[0.0,\"#0d0887\"],[0.1111111111111111,\"#46039f\"],[0.2222222222222222,\"#7201a8\"],[0.3333333333333333,\"#9c179e\"],[0.4444444444444444,\"#bd3786\"],[0.5555555555555556,\"#d8576b\"],[0.6666666666666666,\"#ed7953\"],[0.7777777777777778,\"#fb9f3a\"],[0.8888888888888888,\"#fdca26\"],[1.0,\"#f0f921\"]]}],\"mesh3d\":[{\"type\":\"mesh3d\",\"colorbar\":{\"outlinewidth\":0,\"ticks\":\"\"}}],\"scatter\":[{\"fillpattern\":{\"fillmode\":\"overlay\",\"size\":10,\"solidity\":0.2},\"type\":\"scatter\"}],\"parcoords\":[{\"type\":\"parcoords\",\"line\":{\"colorbar\":{\"outlinewidth\":0,\"ticks\":\"\"}}}],\"scatterpolargl\":[{\"type\":\"scatterpolargl\",\"marker\":{\"colorbar\":{\"outlinewidth\":0,\"ticks\":\"\"}}}],\"bar\":[{\"error_x\":{\"color\":\"#2a3f5f\"},\"error_y\":{\"color\":\"#2a3f5f\"},\"marker\":{\"line\":{\"color\":\"#E5ECF6\",\"width\":0.5},\"pattern\":{\"fillmode\":\"overlay\",\"size\":10,\"solidity\":0.2}},\"type\":\"bar\"}],\"scattergeo\":[{\"type\":\"scattergeo\",\"marker\":{\"colorbar\":{\"outlinewidth\":0,\"ticks\":\"\"}}}],\"scatterpolar\":[{\"type\":\"scatterpolar\",\"marker\":{\"colorbar\":{\"outlinewidth\":0,\"ticks\":\"\"}}}],\"histogram\":[{\"marker\":{\"pattern\":{\"fillmode\":\"overlay\",\"size\":10,\"solidity\":0.2}},\"type\":\"histogram\"}],\"scattergl\":[{\"type\":\"scattergl\",\"marker\":{\"colorbar\":{\"outlinewidth\":0,\"ticks\":\"\"}}}],\"scatter3d\":[{\"type\":\"scatter3d\",\"line\":{\"colorbar\":{\"outlinewidth\":0,\"ticks\":\"\"}},\"marker\":{\"colorbar\":{\"outlinewidth\":0,\"ticks\":\"\"}}}],\"scattermap\":[{\"type\":\"scattermap\",\"marker\":{\"colorbar\":{\"outlinewidth\":0,\"ticks\":\"\"}}}],\"scattermapbox\":[{\"type\":\"scattermapbox\",\"marker\":{\"colorbar\":{\"outlinewidth\":0,\"ticks\":\"\"}}}],\"scatterternary\":[{\"type\":\"scatterternary\",\"marker\":{\"colorbar\":{\"outlinewidth\":0,\"ticks\":\"\"}}}],\"scattercarpet\":[{\"type\":\"scattercarpet\",\"marker\":{\"colorbar\":{\"outlinewidth\":0,\"ticks\":\"\"}}}],\"carpet\":[{\"aaxis\":{\"endlinecolor\":\"#2a3f5f\",\"gridcolor\":\"white\",\"linecolor\":\"white\",\"minorgridcolor\":\"white\",\"startlinecolor\":\"#2a3f5f\"},\"baxis\":{\"endlinecolor\":\"#2a3f5f\",\"gridcolor\":\"white\",\"linecolor\":\"white\",\"minorgridcolor\":\"white\",\"startlinecolor\":\"#2a3f5f\"},\"type\":\"carpet\"}],\"table\":[{\"cells\":{\"fill\":{\"color\":\"#EBF0F8\"},\"line\":{\"color\":\"white\"}},\"header\":{\"fill\":{\"color\":\"#C8D4E3\"},\"line\":{\"color\":\"white\"}},\"type\":\"table\"}],\"barpolar\":[{\"marker\":{\"line\":{\"color\":\"#E5ECF6\",\"width\":0.5},\"pattern\":{\"fillmode\":\"overlay\",\"size\":10,\"solidity\":0.2}},\"type\":\"barpolar\"}],\"pie\":[{\"automargin\":true,\"type\":\"pie\"}]},\"layout\":{\"autotypenumbers\":\"strict\",\"colorway\":[\"#636efa\",\"#EF553B\",\"#00cc96\",\"#ab63fa\",\"#FFA15A\",\"#19d3f3\",\"#FF6692\",\"#B6E880\",\"#FF97FF\",\"#FECB52\"],\"font\":{\"color\":\"#2a3f5f\"},\"hovermode\":\"closest\",\"hoverlabel\":{\"align\":\"left\"},\"paper_bgcolor\":\"white\",\"plot_bgcolor\":\"#E5ECF6\",\"polar\":{\"bgcolor\":\"#E5ECF6\",\"angularaxis\":{\"gridcolor\":\"white\",\"linecolor\":\"white\",\"ticks\":\"\"},\"radialaxis\":{\"gridcolor\":\"white\",\"linecolor\":\"white\",\"ticks\":\"\"}},\"ternary\":{\"bgcolor\":\"#E5ECF6\",\"aaxis\":{\"gridcolor\":\"white\",\"linecolor\":\"white\",\"ticks\":\"\"},\"baxis\":{\"gridcolor\":\"white\",\"linecolor\":\"white\",\"ticks\":\"\"},\"caxis\":{\"gridcolor\":\"white\",\"linecolor\":\"white\",\"ticks\":\"\"}},\"coloraxis\":{\"colorbar\":{\"outlinewidth\":0,\"ticks\":\"\"}},\"colorscale\":{\"sequential\":[[0.0,\"#0d0887\"],[0.1111111111111111,\"#46039f\"],[0.2222222222222222,\"#7201a8\"],[0.3333333333333333,\"#9c179e\"],[0.4444444444444444,\"#bd3786\"],[0.5555555555555556,\"#d8576b\"],[0.6666666666666666,\"#ed7953\"],[0.7777777777777778,\"#fb9f3a\"],[0.8888888888888888,\"#fdca26\"],[1.0,\"#f0f921\"]],\"sequentialminus\":[[0.0,\"#0d0887\"],[0.1111111111111111,\"#46039f\"],[0.2222222222222222,\"#7201a8\"],[0.3333333333333333,\"#9c179e\"],[0.4444444444444444,\"#bd3786\"],[0.5555555555555556,\"#d8576b\"],[0.6666666666666666,\"#ed7953\"],[0.7777777777777778,\"#fb9f3a\"],[0.8888888888888888,\"#fdca26\"],[1.0,\"#f0f921\"]],\"diverging\":[[0,\"#8e0152\"],[0.1,\"#c51b7d\"],[0.2,\"#de77ae\"],[0.3,\"#f1b6da\"],[0.4,\"#fde0ef\"],[0.5,\"#f7f7f7\"],[0.6,\"#e6f5d0\"],[0.7,\"#b8e186\"],[0.8,\"#7fbc41\"],[0.9,\"#4d9221\"],[1,\"#276419\"]]},\"xaxis\":{\"gridcolor\":\"white\",\"linecolor\":\"white\",\"ticks\":\"\",\"title\":{\"standoff\":15},\"zerolinecolor\":\"white\",\"automargin\":true,\"zerolinewidth\":2},\"yaxis\":{\"gridcolor\":\"white\",\"linecolor\":\"white\",\"ticks\":\"\",\"title\":{\"standoff\":15},\"zerolinecolor\":\"white\",\"automargin\":true,\"zerolinewidth\":2},\"scene\":{\"xaxis\":{\"backgroundcolor\":\"#E5ECF6\",\"gridcolor\":\"white\",\"linecolor\":\"white\",\"showbackground\":true,\"ticks\":\"\",\"zerolinecolor\":\"white\",\"gridwidth\":2},\"yaxis\":{\"backgroundcolor\":\"#E5ECF6\",\"gridcolor\":\"white\",\"linecolor\":\"white\",\"showbackground\":true,\"ticks\":\"\",\"zerolinecolor\":\"white\",\"gridwidth\":2},\"zaxis\":{\"backgroundcolor\":\"#E5ECF6\",\"gridcolor\":\"white\",\"linecolor\":\"white\",\"showbackground\":true,\"ticks\":\"\",\"zerolinecolor\":\"white\",\"gridwidth\":2}},\"shapedefaults\":{\"line\":{\"color\":\"#2a3f5f\"}},\"annotationdefaults\":{\"arrowcolor\":\"#2a3f5f\",\"arrowhead\":0,\"arrowwidth\":1},\"geo\":{\"bgcolor\":\"white\",\"landcolor\":\"#E5ECF6\",\"subunitcolor\":\"white\",\"showland\":true,\"showlakes\":true,\"lakecolor\":\"white\"},\"title\":{\"x\":0.05},\"mapbox\":{\"style\":\"light\"}}},\"xaxis\":{\"anchor\":\"y\",\"domain\":[0.0,1.0],\"title\":{\"text\":\"x\"}},\"yaxis\":{\"anchor\":\"x\",\"domain\":[0.0,1.0],\"title\":{\"text\":\"y\"}},\"legend\":{\"tracegroupgap\":0},\"title\":{\"text\":\"Top 10 Unigrams\"},\"barmode\":\"relative\"},                        {\"responsive\": true}                    )                };            </script>        </div>"
            ],
            "text/plain": [
              "Figure({\n",
              "    'data': [{'hovertemplate': 'x=%{x}<br>y=%{y}<extra></extra>',\n",
              "              'legendgroup': '',\n",
              "              'marker': {'color': '#636efa', 'pattern': {'shape': ''}},\n",
              "              'name': '',\n",
              "              'orientation': 'v',\n",
              "              'showlegend': False,\n",
              "              'textposition': 'auto',\n",
              "              'type': 'bar',\n",
              "              'x': array(['chase', 'account', 'credit', 'card', 'bank', 'payment', 'time', 'day',\n",
              "                          'charge', 'money'], dtype=object),\n",
              "              'xaxis': 'x',\n",
              "              'y': {'bdata': 'GPAAAIq6AACPfwAAoHYAAM5UAACsUgAAoD4AAJ8yAADmLgAAri4AAA==', 'dtype': 'i4'},\n",
              "              'yaxis': 'y'}],\n",
              "    'layout': {'barmode': 'relative',\n",
              "               'legend': {'tracegroupgap': 0},\n",
              "               'template': '...',\n",
              "               'title': {'text': 'Top 10 Unigrams'},\n",
              "               'xaxis': {'anchor': 'y', 'domain': [0.0, 1.0], 'title': {'text': 'x'}},\n",
              "               'yaxis': {'anchor': 'x', 'domain': [0.0, 1.0], 'title': {'text': 'y'}}}\n",
              "})"
            ]
          },
          "execution_count": 119,
          "metadata": {},
          "output_type": "execute_result"
        }
      ],
      "source": [
        "#Print the top 10 words in the unigram frequency and plot the same using a bar graph\n",
        "unigram = get_top_n_words(df_clean['Complaint_clean'], 1,10)\n",
        "for word, freq in unigram:\n",
        "    print(word, freq)\n",
        "px.bar(x=[word for word, freq in unigram], y=[freq for word, freq in unigram], title='Top 10 Unigrams')"
      ]
    },
    {
      "cell_type": "code",
      "execution_count": 120,
      "metadata": {},
      "outputs": [
        {
          "name": "stdout",
          "output_type": "stream",
          "text": [
            "credit card 12873\n",
            "credit report 3872\n",
            "chase bank 3810\n",
            "account chase 3708\n",
            "chase account 3505\n",
            "chase credit 3384\n",
            "customer service 3077\n",
            "account account 2702\n",
            "checking account 2631\n",
            "bank account 2581\n"
          ]
        },
        {
          "ename": "ValueError",
          "evalue": "Mime type rendering requires nbformat>=4.2.0 but it is not installed",
          "output_type": "error",
          "traceback": [
            "\u001b[0;31m---------------------------------------------------------------------------\u001b[0m",
            "\u001b[0;31mValueError\u001b[0m                                Traceback (most recent call last)",
            "File \u001b[0;32m~/Library/Python/3.9/lib/python/site-packages/IPython/core/formatters.py:922\u001b[0m, in \u001b[0;36mIPythonDisplayFormatter.__call__\u001b[0;34m(self, obj)\u001b[0m\n\u001b[1;32m    920\u001b[0m method \u001b[38;5;241m=\u001b[39m get_real_method(obj, \u001b[38;5;28mself\u001b[39m\u001b[38;5;241m.\u001b[39mprint_method)\n\u001b[1;32m    921\u001b[0m \u001b[38;5;28;01mif\u001b[39;00m method \u001b[38;5;129;01mis\u001b[39;00m \u001b[38;5;129;01mnot\u001b[39;00m \u001b[38;5;28;01mNone\u001b[39;00m:\n\u001b[0;32m--> 922\u001b[0m     \u001b[43mmethod\u001b[49m\u001b[43m(\u001b[49m\u001b[43m)\u001b[49m\n\u001b[1;32m    923\u001b[0m     \u001b[38;5;28;01mreturn\u001b[39;00m \u001b[38;5;28;01mTrue\u001b[39;00m\n",
            "File \u001b[0;32m/usr/local/lib/python3.9/site-packages/plotly/basedatatypes.py:833\u001b[0m, in \u001b[0;36mBaseFigure._ipython_display_\u001b[0;34m(self)\u001b[0m\n\u001b[1;32m    830\u001b[0m \u001b[38;5;28;01mimport\u001b[39;00m \u001b[38;5;21;01mplotly\u001b[39;00m\u001b[38;5;21;01m.\u001b[39;00m\u001b[38;5;21;01mio\u001b[39;00m \u001b[38;5;28;01mas\u001b[39;00m \u001b[38;5;21;01mpio\u001b[39;00m\n\u001b[1;32m    832\u001b[0m \u001b[38;5;28;01mif\u001b[39;00m pio\u001b[38;5;241m.\u001b[39mrenderers\u001b[38;5;241m.\u001b[39mrender_on_display \u001b[38;5;129;01mand\u001b[39;00m pio\u001b[38;5;241m.\u001b[39mrenderers\u001b[38;5;241m.\u001b[39mdefault:\n\u001b[0;32m--> 833\u001b[0m     \u001b[43mpio\u001b[49m\u001b[38;5;241;43m.\u001b[39;49m\u001b[43mshow\u001b[49m\u001b[43m(\u001b[49m\u001b[38;5;28;43mself\u001b[39;49m\u001b[43m)\u001b[49m\n\u001b[1;32m    834\u001b[0m \u001b[38;5;28;01melse\u001b[39;00m:\n\u001b[1;32m    835\u001b[0m     \u001b[38;5;28mprint\u001b[39m(\u001b[38;5;28mrepr\u001b[39m(\u001b[38;5;28mself\u001b[39m))\n",
            "File \u001b[0;32m/usr/local/lib/python3.9/site-packages/plotly/io/_renderers.py:425\u001b[0m, in \u001b[0;36mshow\u001b[0;34m(fig, renderer, validate, **kwargs)\u001b[0m\n\u001b[1;32m    420\u001b[0m     \u001b[38;5;28;01mraise\u001b[39;00m \u001b[38;5;167;01mValueError\u001b[39;00m(\n\u001b[1;32m    421\u001b[0m         \u001b[38;5;124m\"\u001b[39m\u001b[38;5;124mMime type rendering requires ipython but it is not installed\u001b[39m\u001b[38;5;124m\"\u001b[39m\n\u001b[1;32m    422\u001b[0m     )\n\u001b[1;32m    424\u001b[0m \u001b[38;5;28;01mif\u001b[39;00m \u001b[38;5;129;01mnot\u001b[39;00m nbformat \u001b[38;5;129;01mor\u001b[39;00m Version(nbformat\u001b[38;5;241m.\u001b[39m__version__) \u001b[38;5;241m<\u001b[39m Version(\u001b[38;5;124m\"\u001b[39m\u001b[38;5;124m4.2.0\u001b[39m\u001b[38;5;124m\"\u001b[39m):\n\u001b[0;32m--> 425\u001b[0m     \u001b[38;5;28;01mraise\u001b[39;00m \u001b[38;5;167;01mValueError\u001b[39;00m(\n\u001b[1;32m    426\u001b[0m         \u001b[38;5;124m\"\u001b[39m\u001b[38;5;124mMime type rendering requires nbformat>=4.2.0 but it is not installed\u001b[39m\u001b[38;5;124m\"\u001b[39m\n\u001b[1;32m    427\u001b[0m     )\n\u001b[1;32m    429\u001b[0m display_jupyter_version_warnings()\n\u001b[1;32m    431\u001b[0m ipython_display\u001b[38;5;241m.\u001b[39mdisplay(bundle, raw\u001b[38;5;241m=\u001b[39m\u001b[38;5;28;01mTrue\u001b[39;00m)\n",
            "\u001b[0;31mValueError\u001b[0m: Mime type rendering requires nbformat>=4.2.0 but it is not installed"
          ]
        },
        {
          "data": {
            "application/vnd.plotly.v1+json": {
              "config": {
                "plotlyServerURL": "https://plot.ly"
              },
              "data": [
                {
                  "hovertemplate": "x=%{x}<br>y=%{y}<extra></extra>",
                  "legendgroup": "",
                  "marker": {
                    "color": "#636efa",
                    "pattern": {
                      "shape": ""
                    }
                  },
                  "name": "",
                  "orientation": "v",
                  "showlegend": false,
                  "textposition": "auto",
                  "type": "bar",
                  "x": [
                    "credit card",
                    "credit report",
                    "chase bank",
                    "account chase",
                    "chase account",
                    "chase credit",
                    "customer service",
                    "account account",
                    "checking account",
                    "bank account"
                  ],
                  "xaxis": "x",
                  "y": {
                    "bdata": "STIgD+IOfA6xDTgNBQyOCkcKFQo=",
                    "dtype": "i2"
                  },
                  "yaxis": "y"
                }
              ],
              "layout": {
                "barmode": "relative",
                "legend": {
                  "tracegroupgap": 0
                },
                "template": {
                  "data": {
                    "bar": [
                      {
                        "error_x": {
                          "color": "#2a3f5f"
                        },
                        "error_y": {
                          "color": "#2a3f5f"
                        },
                        "marker": {
                          "line": {
                            "color": "#E5ECF6",
                            "width": 0.5
                          },
                          "pattern": {
                            "fillmode": "overlay",
                            "size": 10,
                            "solidity": 0.2
                          }
                        },
                        "type": "bar"
                      }
                    ],
                    "barpolar": [
                      {
                        "marker": {
                          "line": {
                            "color": "#E5ECF6",
                            "width": 0.5
                          },
                          "pattern": {
                            "fillmode": "overlay",
                            "size": 10,
                            "solidity": 0.2
                          }
                        },
                        "type": "barpolar"
                      }
                    ],
                    "carpet": [
                      {
                        "aaxis": {
                          "endlinecolor": "#2a3f5f",
                          "gridcolor": "white",
                          "linecolor": "white",
                          "minorgridcolor": "white",
                          "startlinecolor": "#2a3f5f"
                        },
                        "baxis": {
                          "endlinecolor": "#2a3f5f",
                          "gridcolor": "white",
                          "linecolor": "white",
                          "minorgridcolor": "white",
                          "startlinecolor": "#2a3f5f"
                        },
                        "type": "carpet"
                      }
                    ],
                    "choropleth": [
                      {
                        "colorbar": {
                          "outlinewidth": 0,
                          "ticks": ""
                        },
                        "type": "choropleth"
                      }
                    ],
                    "contour": [
                      {
                        "colorbar": {
                          "outlinewidth": 0,
                          "ticks": ""
                        },
                        "colorscale": [
                          [
                            0,
                            "#0d0887"
                          ],
                          [
                            0.1111111111111111,
                            "#46039f"
                          ],
                          [
                            0.2222222222222222,
                            "#7201a8"
                          ],
                          [
                            0.3333333333333333,
                            "#9c179e"
                          ],
                          [
                            0.4444444444444444,
                            "#bd3786"
                          ],
                          [
                            0.5555555555555556,
                            "#d8576b"
                          ],
                          [
                            0.6666666666666666,
                            "#ed7953"
                          ],
                          [
                            0.7777777777777778,
                            "#fb9f3a"
                          ],
                          [
                            0.8888888888888888,
                            "#fdca26"
                          ],
                          [
                            1,
                            "#f0f921"
                          ]
                        ],
                        "type": "contour"
                      }
                    ],
                    "contourcarpet": [
                      {
                        "colorbar": {
                          "outlinewidth": 0,
                          "ticks": ""
                        },
                        "type": "contourcarpet"
                      }
                    ],
                    "heatmap": [
                      {
                        "colorbar": {
                          "outlinewidth": 0,
                          "ticks": ""
                        },
                        "colorscale": [
                          [
                            0,
                            "#0d0887"
                          ],
                          [
                            0.1111111111111111,
                            "#46039f"
                          ],
                          [
                            0.2222222222222222,
                            "#7201a8"
                          ],
                          [
                            0.3333333333333333,
                            "#9c179e"
                          ],
                          [
                            0.4444444444444444,
                            "#bd3786"
                          ],
                          [
                            0.5555555555555556,
                            "#d8576b"
                          ],
                          [
                            0.6666666666666666,
                            "#ed7953"
                          ],
                          [
                            0.7777777777777778,
                            "#fb9f3a"
                          ],
                          [
                            0.8888888888888888,
                            "#fdca26"
                          ],
                          [
                            1,
                            "#f0f921"
                          ]
                        ],
                        "type": "heatmap"
                      }
                    ],
                    "histogram": [
                      {
                        "marker": {
                          "pattern": {
                            "fillmode": "overlay",
                            "size": 10,
                            "solidity": 0.2
                          }
                        },
                        "type": "histogram"
                      }
                    ],
                    "histogram2d": [
                      {
                        "colorbar": {
                          "outlinewidth": 0,
                          "ticks": ""
                        },
                        "colorscale": [
                          [
                            0,
                            "#0d0887"
                          ],
                          [
                            0.1111111111111111,
                            "#46039f"
                          ],
                          [
                            0.2222222222222222,
                            "#7201a8"
                          ],
                          [
                            0.3333333333333333,
                            "#9c179e"
                          ],
                          [
                            0.4444444444444444,
                            "#bd3786"
                          ],
                          [
                            0.5555555555555556,
                            "#d8576b"
                          ],
                          [
                            0.6666666666666666,
                            "#ed7953"
                          ],
                          [
                            0.7777777777777778,
                            "#fb9f3a"
                          ],
                          [
                            0.8888888888888888,
                            "#fdca26"
                          ],
                          [
                            1,
                            "#f0f921"
                          ]
                        ],
                        "type": "histogram2d"
                      }
                    ],
                    "histogram2dcontour": [
                      {
                        "colorbar": {
                          "outlinewidth": 0,
                          "ticks": ""
                        },
                        "colorscale": [
                          [
                            0,
                            "#0d0887"
                          ],
                          [
                            0.1111111111111111,
                            "#46039f"
                          ],
                          [
                            0.2222222222222222,
                            "#7201a8"
                          ],
                          [
                            0.3333333333333333,
                            "#9c179e"
                          ],
                          [
                            0.4444444444444444,
                            "#bd3786"
                          ],
                          [
                            0.5555555555555556,
                            "#d8576b"
                          ],
                          [
                            0.6666666666666666,
                            "#ed7953"
                          ],
                          [
                            0.7777777777777778,
                            "#fb9f3a"
                          ],
                          [
                            0.8888888888888888,
                            "#fdca26"
                          ],
                          [
                            1,
                            "#f0f921"
                          ]
                        ],
                        "type": "histogram2dcontour"
                      }
                    ],
                    "mesh3d": [
                      {
                        "colorbar": {
                          "outlinewidth": 0,
                          "ticks": ""
                        },
                        "type": "mesh3d"
                      }
                    ],
                    "parcoords": [
                      {
                        "line": {
                          "colorbar": {
                            "outlinewidth": 0,
                            "ticks": ""
                          }
                        },
                        "type": "parcoords"
                      }
                    ],
                    "pie": [
                      {
                        "automargin": true,
                        "type": "pie"
                      }
                    ],
                    "scatter": [
                      {
                        "fillpattern": {
                          "fillmode": "overlay",
                          "size": 10,
                          "solidity": 0.2
                        },
                        "type": "scatter"
                      }
                    ],
                    "scatter3d": [
                      {
                        "line": {
                          "colorbar": {
                            "outlinewidth": 0,
                            "ticks": ""
                          }
                        },
                        "marker": {
                          "colorbar": {
                            "outlinewidth": 0,
                            "ticks": ""
                          }
                        },
                        "type": "scatter3d"
                      }
                    ],
                    "scattercarpet": [
                      {
                        "marker": {
                          "colorbar": {
                            "outlinewidth": 0,
                            "ticks": ""
                          }
                        },
                        "type": "scattercarpet"
                      }
                    ],
                    "scattergeo": [
                      {
                        "marker": {
                          "colorbar": {
                            "outlinewidth": 0,
                            "ticks": ""
                          }
                        },
                        "type": "scattergeo"
                      }
                    ],
                    "scattergl": [
                      {
                        "marker": {
                          "colorbar": {
                            "outlinewidth": 0,
                            "ticks": ""
                          }
                        },
                        "type": "scattergl"
                      }
                    ],
                    "scattermap": [
                      {
                        "marker": {
                          "colorbar": {
                            "outlinewidth": 0,
                            "ticks": ""
                          }
                        },
                        "type": "scattermap"
                      }
                    ],
                    "scattermapbox": [
                      {
                        "marker": {
                          "colorbar": {
                            "outlinewidth": 0,
                            "ticks": ""
                          }
                        },
                        "type": "scattermapbox"
                      }
                    ],
                    "scatterpolar": [
                      {
                        "marker": {
                          "colorbar": {
                            "outlinewidth": 0,
                            "ticks": ""
                          }
                        },
                        "type": "scatterpolar"
                      }
                    ],
                    "scatterpolargl": [
                      {
                        "marker": {
                          "colorbar": {
                            "outlinewidth": 0,
                            "ticks": ""
                          }
                        },
                        "type": "scatterpolargl"
                      }
                    ],
                    "scatterternary": [
                      {
                        "marker": {
                          "colorbar": {
                            "outlinewidth": 0,
                            "ticks": ""
                          }
                        },
                        "type": "scatterternary"
                      }
                    ],
                    "surface": [
                      {
                        "colorbar": {
                          "outlinewidth": 0,
                          "ticks": ""
                        },
                        "colorscale": [
                          [
                            0,
                            "#0d0887"
                          ],
                          [
                            0.1111111111111111,
                            "#46039f"
                          ],
                          [
                            0.2222222222222222,
                            "#7201a8"
                          ],
                          [
                            0.3333333333333333,
                            "#9c179e"
                          ],
                          [
                            0.4444444444444444,
                            "#bd3786"
                          ],
                          [
                            0.5555555555555556,
                            "#d8576b"
                          ],
                          [
                            0.6666666666666666,
                            "#ed7953"
                          ],
                          [
                            0.7777777777777778,
                            "#fb9f3a"
                          ],
                          [
                            0.8888888888888888,
                            "#fdca26"
                          ],
                          [
                            1,
                            "#f0f921"
                          ]
                        ],
                        "type": "surface"
                      }
                    ],
                    "table": [
                      {
                        "cells": {
                          "fill": {
                            "color": "#EBF0F8"
                          },
                          "line": {
                            "color": "white"
                          }
                        },
                        "header": {
                          "fill": {
                            "color": "#C8D4E3"
                          },
                          "line": {
                            "color": "white"
                          }
                        },
                        "type": "table"
                      }
                    ]
                  },
                  "layout": {
                    "annotationdefaults": {
                      "arrowcolor": "#2a3f5f",
                      "arrowhead": 0,
                      "arrowwidth": 1
                    },
                    "autotypenumbers": "strict",
                    "coloraxis": {
                      "colorbar": {
                        "outlinewidth": 0,
                        "ticks": ""
                      }
                    },
                    "colorscale": {
                      "diverging": [
                        [
                          0,
                          "#8e0152"
                        ],
                        [
                          0.1,
                          "#c51b7d"
                        ],
                        [
                          0.2,
                          "#de77ae"
                        ],
                        [
                          0.3,
                          "#f1b6da"
                        ],
                        [
                          0.4,
                          "#fde0ef"
                        ],
                        [
                          0.5,
                          "#f7f7f7"
                        ],
                        [
                          0.6,
                          "#e6f5d0"
                        ],
                        [
                          0.7,
                          "#b8e186"
                        ],
                        [
                          0.8,
                          "#7fbc41"
                        ],
                        [
                          0.9,
                          "#4d9221"
                        ],
                        [
                          1,
                          "#276419"
                        ]
                      ],
                      "sequential": [
                        [
                          0,
                          "#0d0887"
                        ],
                        [
                          0.1111111111111111,
                          "#46039f"
                        ],
                        [
                          0.2222222222222222,
                          "#7201a8"
                        ],
                        [
                          0.3333333333333333,
                          "#9c179e"
                        ],
                        [
                          0.4444444444444444,
                          "#bd3786"
                        ],
                        [
                          0.5555555555555556,
                          "#d8576b"
                        ],
                        [
                          0.6666666666666666,
                          "#ed7953"
                        ],
                        [
                          0.7777777777777778,
                          "#fb9f3a"
                        ],
                        [
                          0.8888888888888888,
                          "#fdca26"
                        ],
                        [
                          1,
                          "#f0f921"
                        ]
                      ],
                      "sequentialminus": [
                        [
                          0,
                          "#0d0887"
                        ],
                        [
                          0.1111111111111111,
                          "#46039f"
                        ],
                        [
                          0.2222222222222222,
                          "#7201a8"
                        ],
                        [
                          0.3333333333333333,
                          "#9c179e"
                        ],
                        [
                          0.4444444444444444,
                          "#bd3786"
                        ],
                        [
                          0.5555555555555556,
                          "#d8576b"
                        ],
                        [
                          0.6666666666666666,
                          "#ed7953"
                        ],
                        [
                          0.7777777777777778,
                          "#fb9f3a"
                        ],
                        [
                          0.8888888888888888,
                          "#fdca26"
                        ],
                        [
                          1,
                          "#f0f921"
                        ]
                      ]
                    },
                    "colorway": [
                      "#636efa",
                      "#EF553B",
                      "#00cc96",
                      "#ab63fa",
                      "#FFA15A",
                      "#19d3f3",
                      "#FF6692",
                      "#B6E880",
                      "#FF97FF",
                      "#FECB52"
                    ],
                    "font": {
                      "color": "#2a3f5f"
                    },
                    "geo": {
                      "bgcolor": "white",
                      "lakecolor": "white",
                      "landcolor": "#E5ECF6",
                      "showlakes": true,
                      "showland": true,
                      "subunitcolor": "white"
                    },
                    "hoverlabel": {
                      "align": "left"
                    },
                    "hovermode": "closest",
                    "mapbox": {
                      "style": "light"
                    },
                    "paper_bgcolor": "white",
                    "plot_bgcolor": "#E5ECF6",
                    "polar": {
                      "angularaxis": {
                        "gridcolor": "white",
                        "linecolor": "white",
                        "ticks": ""
                      },
                      "bgcolor": "#E5ECF6",
                      "radialaxis": {
                        "gridcolor": "white",
                        "linecolor": "white",
                        "ticks": ""
                      }
                    },
                    "scene": {
                      "xaxis": {
                        "backgroundcolor": "#E5ECF6",
                        "gridcolor": "white",
                        "gridwidth": 2,
                        "linecolor": "white",
                        "showbackground": true,
                        "ticks": "",
                        "zerolinecolor": "white"
                      },
                      "yaxis": {
                        "backgroundcolor": "#E5ECF6",
                        "gridcolor": "white",
                        "gridwidth": 2,
                        "linecolor": "white",
                        "showbackground": true,
                        "ticks": "",
                        "zerolinecolor": "white"
                      },
                      "zaxis": {
                        "backgroundcolor": "#E5ECF6",
                        "gridcolor": "white",
                        "gridwidth": 2,
                        "linecolor": "white",
                        "showbackground": true,
                        "ticks": "",
                        "zerolinecolor": "white"
                      }
                    },
                    "shapedefaults": {
                      "line": {
                        "color": "#2a3f5f"
                      }
                    },
                    "ternary": {
                      "aaxis": {
                        "gridcolor": "white",
                        "linecolor": "white",
                        "ticks": ""
                      },
                      "baxis": {
                        "gridcolor": "white",
                        "linecolor": "white",
                        "ticks": ""
                      },
                      "bgcolor": "#E5ECF6",
                      "caxis": {
                        "gridcolor": "white",
                        "linecolor": "white",
                        "ticks": ""
                      }
                    },
                    "title": {
                      "x": 0.05
                    },
                    "xaxis": {
                      "automargin": true,
                      "gridcolor": "white",
                      "linecolor": "white",
                      "ticks": "",
                      "title": {
                        "standoff": 15
                      },
                      "zerolinecolor": "white",
                      "zerolinewidth": 2
                    },
                    "yaxis": {
                      "automargin": true,
                      "gridcolor": "white",
                      "linecolor": "white",
                      "ticks": "",
                      "title": {
                        "standoff": 15
                      },
                      "zerolinecolor": "white",
                      "zerolinewidth": 2
                    }
                  }
                },
                "title": {
                  "text": "Top 10 Bigrams"
                },
                "xaxis": {
                  "anchor": "y",
                  "domain": [
                    0,
                    1
                  ],
                  "title": {
                    "text": "x"
                  }
                },
                "yaxis": {
                  "anchor": "x",
                  "domain": [
                    0,
                    1
                  ],
                  "title": {
                    "text": "y"
                  }
                }
              }
            },
            "text/html": [
              "<div>                        <script type=\"text/javascript\">window.PlotlyConfig = {MathJaxConfig: 'local'};</script>\n",
              "        <script charset=\"utf-8\" src=\"https://cdn.plot.ly/plotly-3.0.1.min.js\"></script>                <div id=\"243e3a95-895b-4453-be17-f6df7ffa85af\" class=\"plotly-graph-div\" style=\"height:100%; width:100%;\"></div>            <script type=\"text/javascript\">                window.PLOTLYENV=window.PLOTLYENV || {};                                if (document.getElementById(\"243e3a95-895b-4453-be17-f6df7ffa85af\")) {                    Plotly.newPlot(                        \"243e3a95-895b-4453-be17-f6df7ffa85af\",                        [{\"hovertemplate\":\"x=%{x}\\u003cbr\\u003ey=%{y}\\u003cextra\\u003e\\u003c\\u002fextra\\u003e\",\"legendgroup\":\"\",\"marker\":{\"color\":\"#636efa\",\"pattern\":{\"shape\":\"\"}},\"name\":\"\",\"orientation\":\"v\",\"showlegend\":false,\"textposition\":\"auto\",\"x\":[\"credit card\",\"credit report\",\"chase bank\",\"account chase\",\"chase account\",\"chase credit\",\"customer service\",\"account account\",\"checking account\",\"bank account\"],\"xaxis\":\"x\",\"y\":{\"dtype\":\"i2\",\"bdata\":\"STIgD+IOfA6xDTgNBQyOCkcKFQo=\"},\"yaxis\":\"y\",\"type\":\"bar\"}],                        {\"template\":{\"data\":{\"histogram2dcontour\":[{\"type\":\"histogram2dcontour\",\"colorbar\":{\"outlinewidth\":0,\"ticks\":\"\"},\"colorscale\":[[0.0,\"#0d0887\"],[0.1111111111111111,\"#46039f\"],[0.2222222222222222,\"#7201a8\"],[0.3333333333333333,\"#9c179e\"],[0.4444444444444444,\"#bd3786\"],[0.5555555555555556,\"#d8576b\"],[0.6666666666666666,\"#ed7953\"],[0.7777777777777778,\"#fb9f3a\"],[0.8888888888888888,\"#fdca26\"],[1.0,\"#f0f921\"]]}],\"choropleth\":[{\"type\":\"choropleth\",\"colorbar\":{\"outlinewidth\":0,\"ticks\":\"\"}}],\"histogram2d\":[{\"type\":\"histogram2d\",\"colorbar\":{\"outlinewidth\":0,\"ticks\":\"\"},\"colorscale\":[[0.0,\"#0d0887\"],[0.1111111111111111,\"#46039f\"],[0.2222222222222222,\"#7201a8\"],[0.3333333333333333,\"#9c179e\"],[0.4444444444444444,\"#bd3786\"],[0.5555555555555556,\"#d8576b\"],[0.6666666666666666,\"#ed7953\"],[0.7777777777777778,\"#fb9f3a\"],[0.8888888888888888,\"#fdca26\"],[1.0,\"#f0f921\"]]}],\"heatmap\":[{\"type\":\"heatmap\",\"colorbar\":{\"outlinewidth\":0,\"ticks\":\"\"},\"colorscale\":[[0.0,\"#0d0887\"],[0.1111111111111111,\"#46039f\"],[0.2222222222222222,\"#7201a8\"],[0.3333333333333333,\"#9c179e\"],[0.4444444444444444,\"#bd3786\"],[0.5555555555555556,\"#d8576b\"],[0.6666666666666666,\"#ed7953\"],[0.7777777777777778,\"#fb9f3a\"],[0.8888888888888888,\"#fdca26\"],[1.0,\"#f0f921\"]]}],\"contourcarpet\":[{\"type\":\"contourcarpet\",\"colorbar\":{\"outlinewidth\":0,\"ticks\":\"\"}}],\"contour\":[{\"type\":\"contour\",\"colorbar\":{\"outlinewidth\":0,\"ticks\":\"\"},\"colorscale\":[[0.0,\"#0d0887\"],[0.1111111111111111,\"#46039f\"],[0.2222222222222222,\"#7201a8\"],[0.3333333333333333,\"#9c179e\"],[0.4444444444444444,\"#bd3786\"],[0.5555555555555556,\"#d8576b\"],[0.6666666666666666,\"#ed7953\"],[0.7777777777777778,\"#fb9f3a\"],[0.8888888888888888,\"#fdca26\"],[1.0,\"#f0f921\"]]}],\"surface\":[{\"type\":\"surface\",\"colorbar\":{\"outlinewidth\":0,\"ticks\":\"\"},\"colorscale\":[[0.0,\"#0d0887\"],[0.1111111111111111,\"#46039f\"],[0.2222222222222222,\"#7201a8\"],[0.3333333333333333,\"#9c179e\"],[0.4444444444444444,\"#bd3786\"],[0.5555555555555556,\"#d8576b\"],[0.6666666666666666,\"#ed7953\"],[0.7777777777777778,\"#fb9f3a\"],[0.8888888888888888,\"#fdca26\"],[1.0,\"#f0f921\"]]}],\"mesh3d\":[{\"type\":\"mesh3d\",\"colorbar\":{\"outlinewidth\":0,\"ticks\":\"\"}}],\"scatter\":[{\"fillpattern\":{\"fillmode\":\"overlay\",\"size\":10,\"solidity\":0.2},\"type\":\"scatter\"}],\"parcoords\":[{\"type\":\"parcoords\",\"line\":{\"colorbar\":{\"outlinewidth\":0,\"ticks\":\"\"}}}],\"scatterpolargl\":[{\"type\":\"scatterpolargl\",\"marker\":{\"colorbar\":{\"outlinewidth\":0,\"ticks\":\"\"}}}],\"bar\":[{\"error_x\":{\"color\":\"#2a3f5f\"},\"error_y\":{\"color\":\"#2a3f5f\"},\"marker\":{\"line\":{\"color\":\"#E5ECF6\",\"width\":0.5},\"pattern\":{\"fillmode\":\"overlay\",\"size\":10,\"solidity\":0.2}},\"type\":\"bar\"}],\"scattergeo\":[{\"type\":\"scattergeo\",\"marker\":{\"colorbar\":{\"outlinewidth\":0,\"ticks\":\"\"}}}],\"scatterpolar\":[{\"type\":\"scatterpolar\",\"marker\":{\"colorbar\":{\"outlinewidth\":0,\"ticks\":\"\"}}}],\"histogram\":[{\"marker\":{\"pattern\":{\"fillmode\":\"overlay\",\"size\":10,\"solidity\":0.2}},\"type\":\"histogram\"}],\"scattergl\":[{\"type\":\"scattergl\",\"marker\":{\"colorbar\":{\"outlinewidth\":0,\"ticks\":\"\"}}}],\"scatter3d\":[{\"type\":\"scatter3d\",\"line\":{\"colorbar\":{\"outlinewidth\":0,\"ticks\":\"\"}},\"marker\":{\"colorbar\":{\"outlinewidth\":0,\"ticks\":\"\"}}}],\"scattermap\":[{\"type\":\"scattermap\",\"marker\":{\"colorbar\":{\"outlinewidth\":0,\"ticks\":\"\"}}}],\"scattermapbox\":[{\"type\":\"scattermapbox\",\"marker\":{\"colorbar\":{\"outlinewidth\":0,\"ticks\":\"\"}}}],\"scatterternary\":[{\"type\":\"scatterternary\",\"marker\":{\"colorbar\":{\"outlinewidth\":0,\"ticks\":\"\"}}}],\"scattercarpet\":[{\"type\":\"scattercarpet\",\"marker\":{\"colorbar\":{\"outlinewidth\":0,\"ticks\":\"\"}}}],\"carpet\":[{\"aaxis\":{\"endlinecolor\":\"#2a3f5f\",\"gridcolor\":\"white\",\"linecolor\":\"white\",\"minorgridcolor\":\"white\",\"startlinecolor\":\"#2a3f5f\"},\"baxis\":{\"endlinecolor\":\"#2a3f5f\",\"gridcolor\":\"white\",\"linecolor\":\"white\",\"minorgridcolor\":\"white\",\"startlinecolor\":\"#2a3f5f\"},\"type\":\"carpet\"}],\"table\":[{\"cells\":{\"fill\":{\"color\":\"#EBF0F8\"},\"line\":{\"color\":\"white\"}},\"header\":{\"fill\":{\"color\":\"#C8D4E3\"},\"line\":{\"color\":\"white\"}},\"type\":\"table\"}],\"barpolar\":[{\"marker\":{\"line\":{\"color\":\"#E5ECF6\",\"width\":0.5},\"pattern\":{\"fillmode\":\"overlay\",\"size\":10,\"solidity\":0.2}},\"type\":\"barpolar\"}],\"pie\":[{\"automargin\":true,\"type\":\"pie\"}]},\"layout\":{\"autotypenumbers\":\"strict\",\"colorway\":[\"#636efa\",\"#EF553B\",\"#00cc96\",\"#ab63fa\",\"#FFA15A\",\"#19d3f3\",\"#FF6692\",\"#B6E880\",\"#FF97FF\",\"#FECB52\"],\"font\":{\"color\":\"#2a3f5f\"},\"hovermode\":\"closest\",\"hoverlabel\":{\"align\":\"left\"},\"paper_bgcolor\":\"white\",\"plot_bgcolor\":\"#E5ECF6\",\"polar\":{\"bgcolor\":\"#E5ECF6\",\"angularaxis\":{\"gridcolor\":\"white\",\"linecolor\":\"white\",\"ticks\":\"\"},\"radialaxis\":{\"gridcolor\":\"white\",\"linecolor\":\"white\",\"ticks\":\"\"}},\"ternary\":{\"bgcolor\":\"#E5ECF6\",\"aaxis\":{\"gridcolor\":\"white\",\"linecolor\":\"white\",\"ticks\":\"\"},\"baxis\":{\"gridcolor\":\"white\",\"linecolor\":\"white\",\"ticks\":\"\"},\"caxis\":{\"gridcolor\":\"white\",\"linecolor\":\"white\",\"ticks\":\"\"}},\"coloraxis\":{\"colorbar\":{\"outlinewidth\":0,\"ticks\":\"\"}},\"colorscale\":{\"sequential\":[[0.0,\"#0d0887\"],[0.1111111111111111,\"#46039f\"],[0.2222222222222222,\"#7201a8\"],[0.3333333333333333,\"#9c179e\"],[0.4444444444444444,\"#bd3786\"],[0.5555555555555556,\"#d8576b\"],[0.6666666666666666,\"#ed7953\"],[0.7777777777777778,\"#fb9f3a\"],[0.8888888888888888,\"#fdca26\"],[1.0,\"#f0f921\"]],\"sequentialminus\":[[0.0,\"#0d0887\"],[0.1111111111111111,\"#46039f\"],[0.2222222222222222,\"#7201a8\"],[0.3333333333333333,\"#9c179e\"],[0.4444444444444444,\"#bd3786\"],[0.5555555555555556,\"#d8576b\"],[0.6666666666666666,\"#ed7953\"],[0.7777777777777778,\"#fb9f3a\"],[0.8888888888888888,\"#fdca26\"],[1.0,\"#f0f921\"]],\"diverging\":[[0,\"#8e0152\"],[0.1,\"#c51b7d\"],[0.2,\"#de77ae\"],[0.3,\"#f1b6da\"],[0.4,\"#fde0ef\"],[0.5,\"#f7f7f7\"],[0.6,\"#e6f5d0\"],[0.7,\"#b8e186\"],[0.8,\"#7fbc41\"],[0.9,\"#4d9221\"],[1,\"#276419\"]]},\"xaxis\":{\"gridcolor\":\"white\",\"linecolor\":\"white\",\"ticks\":\"\",\"title\":{\"standoff\":15},\"zerolinecolor\":\"white\",\"automargin\":true,\"zerolinewidth\":2},\"yaxis\":{\"gridcolor\":\"white\",\"linecolor\":\"white\",\"ticks\":\"\",\"title\":{\"standoff\":15},\"zerolinecolor\":\"white\",\"automargin\":true,\"zerolinewidth\":2},\"scene\":{\"xaxis\":{\"backgroundcolor\":\"#E5ECF6\",\"gridcolor\":\"white\",\"linecolor\":\"white\",\"showbackground\":true,\"ticks\":\"\",\"zerolinecolor\":\"white\",\"gridwidth\":2},\"yaxis\":{\"backgroundcolor\":\"#E5ECF6\",\"gridcolor\":\"white\",\"linecolor\":\"white\",\"showbackground\":true,\"ticks\":\"\",\"zerolinecolor\":\"white\",\"gridwidth\":2},\"zaxis\":{\"backgroundcolor\":\"#E5ECF6\",\"gridcolor\":\"white\",\"linecolor\":\"white\",\"showbackground\":true,\"ticks\":\"\",\"zerolinecolor\":\"white\",\"gridwidth\":2}},\"shapedefaults\":{\"line\":{\"color\":\"#2a3f5f\"}},\"annotationdefaults\":{\"arrowcolor\":\"#2a3f5f\",\"arrowhead\":0,\"arrowwidth\":1},\"geo\":{\"bgcolor\":\"white\",\"landcolor\":\"#E5ECF6\",\"subunitcolor\":\"white\",\"showland\":true,\"showlakes\":true,\"lakecolor\":\"white\"},\"title\":{\"x\":0.05},\"mapbox\":{\"style\":\"light\"}}},\"xaxis\":{\"anchor\":\"y\",\"domain\":[0.0,1.0],\"title\":{\"text\":\"x\"}},\"yaxis\":{\"anchor\":\"x\",\"domain\":[0.0,1.0],\"title\":{\"text\":\"y\"}},\"legend\":{\"tracegroupgap\":0},\"title\":{\"text\":\"Top 10 Bigrams\"},\"barmode\":\"relative\"},                        {\"responsive\": true}                    )                };            </script>        </div>"
            ],
            "text/plain": [
              "Figure({\n",
              "    'data': [{'hovertemplate': 'x=%{x}<br>y=%{y}<extra></extra>',\n",
              "              'legendgroup': '',\n",
              "              'marker': {'color': '#636efa', 'pattern': {'shape': ''}},\n",
              "              'name': '',\n",
              "              'orientation': 'v',\n",
              "              'showlegend': False,\n",
              "              'textposition': 'auto',\n",
              "              'type': 'bar',\n",
              "              'x': array(['credit card', 'credit report', 'chase bank', 'account chase',\n",
              "                          'chase account', 'chase credit', 'customer service', 'account account',\n",
              "                          'checking account', 'bank account'], dtype=object),\n",
              "              'xaxis': 'x',\n",
              "              'y': {'bdata': 'STIgD+IOfA6xDTgNBQyOCkcKFQo=', 'dtype': 'i2'},\n",
              "              'yaxis': 'y'}],\n",
              "    'layout': {'barmode': 'relative',\n",
              "               'legend': {'tracegroupgap': 0},\n",
              "               'template': '...',\n",
              "               'title': {'text': 'Top 10 Bigrams'},\n",
              "               'xaxis': {'anchor': 'y', 'domain': [0.0, 1.0], 'title': {'text': 'x'}},\n",
              "               'yaxis': {'anchor': 'x', 'domain': [0.0, 1.0], 'title': {'text': 'y'}}}\n",
              "})"
            ]
          },
          "execution_count": 120,
          "metadata": {},
          "output_type": "execute_result"
        }
      ],
      "source": [
        "#Print the top 10 words in the bigram frequency and plot the same using a bar graph\n",
        "bigram = get_top_n_words(df_clean['Complaint_clean'], 2,10)\n",
        "for word, freq in bigram:\n",
        "    print(word, freq)\n",
        "px.bar(x=[word for word, freq in bigram], y=[freq for word, freq in bigram], title='Top 10 Bigrams')"
      ]
    },
    {
      "cell_type": "code",
      "execution_count": 121,
      "metadata": {},
      "outputs": [
        {
          "name": "stdout",
          "output_type": "stream",
          "text": [
            "chase credit card 2251\n",
            "credit card account 1120\n",
            "credit card company 994\n",
            "credit card chase 873\n",
            "chase customer service 628\n",
            "inquiry credit report 558\n",
            "credit card credit 535\n",
            "chase bank account 468\n",
            "account credit card 465\n",
            "card credit card 438\n",
            "account chase account 395\n",
            "charge credit card 380\n",
            "credit report credit 377\n",
            "credit reporting agency 371\n",
            "customer service representative 351\n",
            "account credit report 343\n",
            "credit reporting act 331\n",
            "credit card payment 315\n",
            "checking account chase 297\n",
            "chase account chase 285\n",
            "account chase bank 278\n",
            "bank credit card 273\n",
            "credit card card 270\n",
            "credit card balance 269\n",
            "credit report chase 266\n",
            "payment credit card 251\n",
            "victim identity theft 250\n",
            "chase card service 245\n",
            "credit card bank 241\n",
            "credit card charge 232\n"
          ]
        },
        {
          "ename": "ValueError",
          "evalue": "Mime type rendering requires nbformat>=4.2.0 but it is not installed",
          "output_type": "error",
          "traceback": [
            "\u001b[0;31m---------------------------------------------------------------------------\u001b[0m",
            "\u001b[0;31mValueError\u001b[0m                                Traceback (most recent call last)",
            "File \u001b[0;32m~/Library/Python/3.9/lib/python/site-packages/IPython/core/formatters.py:922\u001b[0m, in \u001b[0;36mIPythonDisplayFormatter.__call__\u001b[0;34m(self, obj)\u001b[0m\n\u001b[1;32m    920\u001b[0m method \u001b[38;5;241m=\u001b[39m get_real_method(obj, \u001b[38;5;28mself\u001b[39m\u001b[38;5;241m.\u001b[39mprint_method)\n\u001b[1;32m    921\u001b[0m \u001b[38;5;28;01mif\u001b[39;00m method \u001b[38;5;129;01mis\u001b[39;00m \u001b[38;5;129;01mnot\u001b[39;00m \u001b[38;5;28;01mNone\u001b[39;00m:\n\u001b[0;32m--> 922\u001b[0m     \u001b[43mmethod\u001b[49m\u001b[43m(\u001b[49m\u001b[43m)\u001b[49m\n\u001b[1;32m    923\u001b[0m     \u001b[38;5;28;01mreturn\u001b[39;00m \u001b[38;5;28;01mTrue\u001b[39;00m\n",
            "File \u001b[0;32m/usr/local/lib/python3.9/site-packages/plotly/basedatatypes.py:833\u001b[0m, in \u001b[0;36mBaseFigure._ipython_display_\u001b[0;34m(self)\u001b[0m\n\u001b[1;32m    830\u001b[0m \u001b[38;5;28;01mimport\u001b[39;00m \u001b[38;5;21;01mplotly\u001b[39;00m\u001b[38;5;21;01m.\u001b[39;00m\u001b[38;5;21;01mio\u001b[39;00m \u001b[38;5;28;01mas\u001b[39;00m \u001b[38;5;21;01mpio\u001b[39;00m\n\u001b[1;32m    832\u001b[0m \u001b[38;5;28;01mif\u001b[39;00m pio\u001b[38;5;241m.\u001b[39mrenderers\u001b[38;5;241m.\u001b[39mrender_on_display \u001b[38;5;129;01mand\u001b[39;00m pio\u001b[38;5;241m.\u001b[39mrenderers\u001b[38;5;241m.\u001b[39mdefault:\n\u001b[0;32m--> 833\u001b[0m     \u001b[43mpio\u001b[49m\u001b[38;5;241;43m.\u001b[39;49m\u001b[43mshow\u001b[49m\u001b[43m(\u001b[49m\u001b[38;5;28;43mself\u001b[39;49m\u001b[43m)\u001b[49m\n\u001b[1;32m    834\u001b[0m \u001b[38;5;28;01melse\u001b[39;00m:\n\u001b[1;32m    835\u001b[0m     \u001b[38;5;28mprint\u001b[39m(\u001b[38;5;28mrepr\u001b[39m(\u001b[38;5;28mself\u001b[39m))\n",
            "File \u001b[0;32m/usr/local/lib/python3.9/site-packages/plotly/io/_renderers.py:425\u001b[0m, in \u001b[0;36mshow\u001b[0;34m(fig, renderer, validate, **kwargs)\u001b[0m\n\u001b[1;32m    420\u001b[0m     \u001b[38;5;28;01mraise\u001b[39;00m \u001b[38;5;167;01mValueError\u001b[39;00m(\n\u001b[1;32m    421\u001b[0m         \u001b[38;5;124m\"\u001b[39m\u001b[38;5;124mMime type rendering requires ipython but it is not installed\u001b[39m\u001b[38;5;124m\"\u001b[39m\n\u001b[1;32m    422\u001b[0m     )\n\u001b[1;32m    424\u001b[0m \u001b[38;5;28;01mif\u001b[39;00m \u001b[38;5;129;01mnot\u001b[39;00m nbformat \u001b[38;5;129;01mor\u001b[39;00m Version(nbformat\u001b[38;5;241m.\u001b[39m__version__) \u001b[38;5;241m<\u001b[39m Version(\u001b[38;5;124m\"\u001b[39m\u001b[38;5;124m4.2.0\u001b[39m\u001b[38;5;124m\"\u001b[39m):\n\u001b[0;32m--> 425\u001b[0m     \u001b[38;5;28;01mraise\u001b[39;00m \u001b[38;5;167;01mValueError\u001b[39;00m(\n\u001b[1;32m    426\u001b[0m         \u001b[38;5;124m\"\u001b[39m\u001b[38;5;124mMime type rendering requires nbformat>=4.2.0 but it is not installed\u001b[39m\u001b[38;5;124m\"\u001b[39m\n\u001b[1;32m    427\u001b[0m     )\n\u001b[1;32m    429\u001b[0m display_jupyter_version_warnings()\n\u001b[1;32m    431\u001b[0m ipython_display\u001b[38;5;241m.\u001b[39mdisplay(bundle, raw\u001b[38;5;241m=\u001b[39m\u001b[38;5;28;01mTrue\u001b[39;00m)\n",
            "\u001b[0;31mValueError\u001b[0m: Mime type rendering requires nbformat>=4.2.0 but it is not installed"
          ]
        },
        {
          "data": {
            "application/vnd.plotly.v1+json": {
              "config": {
                "plotlyServerURL": "https://plot.ly"
              },
              "data": [
                {
                  "hovertemplate": "x=%{x}<br>y=%{y}<extra></extra>",
                  "legendgroup": "",
                  "marker": {
                    "color": "#636efa",
                    "pattern": {
                      "shape": ""
                    }
                  },
                  "name": "",
                  "orientation": "v",
                  "showlegend": false,
                  "textposition": "auto",
                  "type": "bar",
                  "x": [
                    "chase credit card",
                    "credit card account",
                    "credit card company",
                    "credit card chase",
                    "chase customer service",
                    "inquiry credit report",
                    "credit card credit",
                    "chase bank account",
                    "account credit card",
                    "card credit card",
                    "account chase account",
                    "charge credit card",
                    "credit report credit",
                    "credit reporting agency",
                    "customer service representative",
                    "account credit report",
                    "credit reporting act",
                    "credit card payment",
                    "checking account chase",
                    "chase account chase",
                    "account chase bank",
                    "bank credit card",
                    "credit card card",
                    "credit card balance",
                    "credit report chase",
                    "payment credit card",
                    "victim identity theft",
                    "chase card service",
                    "credit card bank",
                    "credit card charge"
                  ],
                  "xaxis": "x",
                  "y": {
                    "bdata": "ywhgBOIDaQN0Ai4CFwLUAdEBtgGLAXwBeQFzAV8BVwFLATsBKQEdARYBEQEOAQ0BCgH7APoA9QDxAOgA",
                    "dtype": "i2"
                  },
                  "yaxis": "y"
                }
              ],
              "layout": {
                "barmode": "relative",
                "legend": {
                  "tracegroupgap": 0
                },
                "template": {
                  "data": {
                    "bar": [
                      {
                        "error_x": {
                          "color": "#2a3f5f"
                        },
                        "error_y": {
                          "color": "#2a3f5f"
                        },
                        "marker": {
                          "line": {
                            "color": "#E5ECF6",
                            "width": 0.5
                          },
                          "pattern": {
                            "fillmode": "overlay",
                            "size": 10,
                            "solidity": 0.2
                          }
                        },
                        "type": "bar"
                      }
                    ],
                    "barpolar": [
                      {
                        "marker": {
                          "line": {
                            "color": "#E5ECF6",
                            "width": 0.5
                          },
                          "pattern": {
                            "fillmode": "overlay",
                            "size": 10,
                            "solidity": 0.2
                          }
                        },
                        "type": "barpolar"
                      }
                    ],
                    "carpet": [
                      {
                        "aaxis": {
                          "endlinecolor": "#2a3f5f",
                          "gridcolor": "white",
                          "linecolor": "white",
                          "minorgridcolor": "white",
                          "startlinecolor": "#2a3f5f"
                        },
                        "baxis": {
                          "endlinecolor": "#2a3f5f",
                          "gridcolor": "white",
                          "linecolor": "white",
                          "minorgridcolor": "white",
                          "startlinecolor": "#2a3f5f"
                        },
                        "type": "carpet"
                      }
                    ],
                    "choropleth": [
                      {
                        "colorbar": {
                          "outlinewidth": 0,
                          "ticks": ""
                        },
                        "type": "choropleth"
                      }
                    ],
                    "contour": [
                      {
                        "colorbar": {
                          "outlinewidth": 0,
                          "ticks": ""
                        },
                        "colorscale": [
                          [
                            0,
                            "#0d0887"
                          ],
                          [
                            0.1111111111111111,
                            "#46039f"
                          ],
                          [
                            0.2222222222222222,
                            "#7201a8"
                          ],
                          [
                            0.3333333333333333,
                            "#9c179e"
                          ],
                          [
                            0.4444444444444444,
                            "#bd3786"
                          ],
                          [
                            0.5555555555555556,
                            "#d8576b"
                          ],
                          [
                            0.6666666666666666,
                            "#ed7953"
                          ],
                          [
                            0.7777777777777778,
                            "#fb9f3a"
                          ],
                          [
                            0.8888888888888888,
                            "#fdca26"
                          ],
                          [
                            1,
                            "#f0f921"
                          ]
                        ],
                        "type": "contour"
                      }
                    ],
                    "contourcarpet": [
                      {
                        "colorbar": {
                          "outlinewidth": 0,
                          "ticks": ""
                        },
                        "type": "contourcarpet"
                      }
                    ],
                    "heatmap": [
                      {
                        "colorbar": {
                          "outlinewidth": 0,
                          "ticks": ""
                        },
                        "colorscale": [
                          [
                            0,
                            "#0d0887"
                          ],
                          [
                            0.1111111111111111,
                            "#46039f"
                          ],
                          [
                            0.2222222222222222,
                            "#7201a8"
                          ],
                          [
                            0.3333333333333333,
                            "#9c179e"
                          ],
                          [
                            0.4444444444444444,
                            "#bd3786"
                          ],
                          [
                            0.5555555555555556,
                            "#d8576b"
                          ],
                          [
                            0.6666666666666666,
                            "#ed7953"
                          ],
                          [
                            0.7777777777777778,
                            "#fb9f3a"
                          ],
                          [
                            0.8888888888888888,
                            "#fdca26"
                          ],
                          [
                            1,
                            "#f0f921"
                          ]
                        ],
                        "type": "heatmap"
                      }
                    ],
                    "histogram": [
                      {
                        "marker": {
                          "pattern": {
                            "fillmode": "overlay",
                            "size": 10,
                            "solidity": 0.2
                          }
                        },
                        "type": "histogram"
                      }
                    ],
                    "histogram2d": [
                      {
                        "colorbar": {
                          "outlinewidth": 0,
                          "ticks": ""
                        },
                        "colorscale": [
                          [
                            0,
                            "#0d0887"
                          ],
                          [
                            0.1111111111111111,
                            "#46039f"
                          ],
                          [
                            0.2222222222222222,
                            "#7201a8"
                          ],
                          [
                            0.3333333333333333,
                            "#9c179e"
                          ],
                          [
                            0.4444444444444444,
                            "#bd3786"
                          ],
                          [
                            0.5555555555555556,
                            "#d8576b"
                          ],
                          [
                            0.6666666666666666,
                            "#ed7953"
                          ],
                          [
                            0.7777777777777778,
                            "#fb9f3a"
                          ],
                          [
                            0.8888888888888888,
                            "#fdca26"
                          ],
                          [
                            1,
                            "#f0f921"
                          ]
                        ],
                        "type": "histogram2d"
                      }
                    ],
                    "histogram2dcontour": [
                      {
                        "colorbar": {
                          "outlinewidth": 0,
                          "ticks": ""
                        },
                        "colorscale": [
                          [
                            0,
                            "#0d0887"
                          ],
                          [
                            0.1111111111111111,
                            "#46039f"
                          ],
                          [
                            0.2222222222222222,
                            "#7201a8"
                          ],
                          [
                            0.3333333333333333,
                            "#9c179e"
                          ],
                          [
                            0.4444444444444444,
                            "#bd3786"
                          ],
                          [
                            0.5555555555555556,
                            "#d8576b"
                          ],
                          [
                            0.6666666666666666,
                            "#ed7953"
                          ],
                          [
                            0.7777777777777778,
                            "#fb9f3a"
                          ],
                          [
                            0.8888888888888888,
                            "#fdca26"
                          ],
                          [
                            1,
                            "#f0f921"
                          ]
                        ],
                        "type": "histogram2dcontour"
                      }
                    ],
                    "mesh3d": [
                      {
                        "colorbar": {
                          "outlinewidth": 0,
                          "ticks": ""
                        },
                        "type": "mesh3d"
                      }
                    ],
                    "parcoords": [
                      {
                        "line": {
                          "colorbar": {
                            "outlinewidth": 0,
                            "ticks": ""
                          }
                        },
                        "type": "parcoords"
                      }
                    ],
                    "pie": [
                      {
                        "automargin": true,
                        "type": "pie"
                      }
                    ],
                    "scatter": [
                      {
                        "fillpattern": {
                          "fillmode": "overlay",
                          "size": 10,
                          "solidity": 0.2
                        },
                        "type": "scatter"
                      }
                    ],
                    "scatter3d": [
                      {
                        "line": {
                          "colorbar": {
                            "outlinewidth": 0,
                            "ticks": ""
                          }
                        },
                        "marker": {
                          "colorbar": {
                            "outlinewidth": 0,
                            "ticks": ""
                          }
                        },
                        "type": "scatter3d"
                      }
                    ],
                    "scattercarpet": [
                      {
                        "marker": {
                          "colorbar": {
                            "outlinewidth": 0,
                            "ticks": ""
                          }
                        },
                        "type": "scattercarpet"
                      }
                    ],
                    "scattergeo": [
                      {
                        "marker": {
                          "colorbar": {
                            "outlinewidth": 0,
                            "ticks": ""
                          }
                        },
                        "type": "scattergeo"
                      }
                    ],
                    "scattergl": [
                      {
                        "marker": {
                          "colorbar": {
                            "outlinewidth": 0,
                            "ticks": ""
                          }
                        },
                        "type": "scattergl"
                      }
                    ],
                    "scattermap": [
                      {
                        "marker": {
                          "colorbar": {
                            "outlinewidth": 0,
                            "ticks": ""
                          }
                        },
                        "type": "scattermap"
                      }
                    ],
                    "scattermapbox": [
                      {
                        "marker": {
                          "colorbar": {
                            "outlinewidth": 0,
                            "ticks": ""
                          }
                        },
                        "type": "scattermapbox"
                      }
                    ],
                    "scatterpolar": [
                      {
                        "marker": {
                          "colorbar": {
                            "outlinewidth": 0,
                            "ticks": ""
                          }
                        },
                        "type": "scatterpolar"
                      }
                    ],
                    "scatterpolargl": [
                      {
                        "marker": {
                          "colorbar": {
                            "outlinewidth": 0,
                            "ticks": ""
                          }
                        },
                        "type": "scatterpolargl"
                      }
                    ],
                    "scatterternary": [
                      {
                        "marker": {
                          "colorbar": {
                            "outlinewidth": 0,
                            "ticks": ""
                          }
                        },
                        "type": "scatterternary"
                      }
                    ],
                    "surface": [
                      {
                        "colorbar": {
                          "outlinewidth": 0,
                          "ticks": ""
                        },
                        "colorscale": [
                          [
                            0,
                            "#0d0887"
                          ],
                          [
                            0.1111111111111111,
                            "#46039f"
                          ],
                          [
                            0.2222222222222222,
                            "#7201a8"
                          ],
                          [
                            0.3333333333333333,
                            "#9c179e"
                          ],
                          [
                            0.4444444444444444,
                            "#bd3786"
                          ],
                          [
                            0.5555555555555556,
                            "#d8576b"
                          ],
                          [
                            0.6666666666666666,
                            "#ed7953"
                          ],
                          [
                            0.7777777777777778,
                            "#fb9f3a"
                          ],
                          [
                            0.8888888888888888,
                            "#fdca26"
                          ],
                          [
                            1,
                            "#f0f921"
                          ]
                        ],
                        "type": "surface"
                      }
                    ],
                    "table": [
                      {
                        "cells": {
                          "fill": {
                            "color": "#EBF0F8"
                          },
                          "line": {
                            "color": "white"
                          }
                        },
                        "header": {
                          "fill": {
                            "color": "#C8D4E3"
                          },
                          "line": {
                            "color": "white"
                          }
                        },
                        "type": "table"
                      }
                    ]
                  },
                  "layout": {
                    "annotationdefaults": {
                      "arrowcolor": "#2a3f5f",
                      "arrowhead": 0,
                      "arrowwidth": 1
                    },
                    "autotypenumbers": "strict",
                    "coloraxis": {
                      "colorbar": {
                        "outlinewidth": 0,
                        "ticks": ""
                      }
                    },
                    "colorscale": {
                      "diverging": [
                        [
                          0,
                          "#8e0152"
                        ],
                        [
                          0.1,
                          "#c51b7d"
                        ],
                        [
                          0.2,
                          "#de77ae"
                        ],
                        [
                          0.3,
                          "#f1b6da"
                        ],
                        [
                          0.4,
                          "#fde0ef"
                        ],
                        [
                          0.5,
                          "#f7f7f7"
                        ],
                        [
                          0.6,
                          "#e6f5d0"
                        ],
                        [
                          0.7,
                          "#b8e186"
                        ],
                        [
                          0.8,
                          "#7fbc41"
                        ],
                        [
                          0.9,
                          "#4d9221"
                        ],
                        [
                          1,
                          "#276419"
                        ]
                      ],
                      "sequential": [
                        [
                          0,
                          "#0d0887"
                        ],
                        [
                          0.1111111111111111,
                          "#46039f"
                        ],
                        [
                          0.2222222222222222,
                          "#7201a8"
                        ],
                        [
                          0.3333333333333333,
                          "#9c179e"
                        ],
                        [
                          0.4444444444444444,
                          "#bd3786"
                        ],
                        [
                          0.5555555555555556,
                          "#d8576b"
                        ],
                        [
                          0.6666666666666666,
                          "#ed7953"
                        ],
                        [
                          0.7777777777777778,
                          "#fb9f3a"
                        ],
                        [
                          0.8888888888888888,
                          "#fdca26"
                        ],
                        [
                          1,
                          "#f0f921"
                        ]
                      ],
                      "sequentialminus": [
                        [
                          0,
                          "#0d0887"
                        ],
                        [
                          0.1111111111111111,
                          "#46039f"
                        ],
                        [
                          0.2222222222222222,
                          "#7201a8"
                        ],
                        [
                          0.3333333333333333,
                          "#9c179e"
                        ],
                        [
                          0.4444444444444444,
                          "#bd3786"
                        ],
                        [
                          0.5555555555555556,
                          "#d8576b"
                        ],
                        [
                          0.6666666666666666,
                          "#ed7953"
                        ],
                        [
                          0.7777777777777778,
                          "#fb9f3a"
                        ],
                        [
                          0.8888888888888888,
                          "#fdca26"
                        ],
                        [
                          1,
                          "#f0f921"
                        ]
                      ]
                    },
                    "colorway": [
                      "#636efa",
                      "#EF553B",
                      "#00cc96",
                      "#ab63fa",
                      "#FFA15A",
                      "#19d3f3",
                      "#FF6692",
                      "#B6E880",
                      "#FF97FF",
                      "#FECB52"
                    ],
                    "font": {
                      "color": "#2a3f5f"
                    },
                    "geo": {
                      "bgcolor": "white",
                      "lakecolor": "white",
                      "landcolor": "#E5ECF6",
                      "showlakes": true,
                      "showland": true,
                      "subunitcolor": "white"
                    },
                    "hoverlabel": {
                      "align": "left"
                    },
                    "hovermode": "closest",
                    "mapbox": {
                      "style": "light"
                    },
                    "paper_bgcolor": "white",
                    "plot_bgcolor": "#E5ECF6",
                    "polar": {
                      "angularaxis": {
                        "gridcolor": "white",
                        "linecolor": "white",
                        "ticks": ""
                      },
                      "bgcolor": "#E5ECF6",
                      "radialaxis": {
                        "gridcolor": "white",
                        "linecolor": "white",
                        "ticks": ""
                      }
                    },
                    "scene": {
                      "xaxis": {
                        "backgroundcolor": "#E5ECF6",
                        "gridcolor": "white",
                        "gridwidth": 2,
                        "linecolor": "white",
                        "showbackground": true,
                        "ticks": "",
                        "zerolinecolor": "white"
                      },
                      "yaxis": {
                        "backgroundcolor": "#E5ECF6",
                        "gridcolor": "white",
                        "gridwidth": 2,
                        "linecolor": "white",
                        "showbackground": true,
                        "ticks": "",
                        "zerolinecolor": "white"
                      },
                      "zaxis": {
                        "backgroundcolor": "#E5ECF6",
                        "gridcolor": "white",
                        "gridwidth": 2,
                        "linecolor": "white",
                        "showbackground": true,
                        "ticks": "",
                        "zerolinecolor": "white"
                      }
                    },
                    "shapedefaults": {
                      "line": {
                        "color": "#2a3f5f"
                      }
                    },
                    "ternary": {
                      "aaxis": {
                        "gridcolor": "white",
                        "linecolor": "white",
                        "ticks": ""
                      },
                      "baxis": {
                        "gridcolor": "white",
                        "linecolor": "white",
                        "ticks": ""
                      },
                      "bgcolor": "#E5ECF6",
                      "caxis": {
                        "gridcolor": "white",
                        "linecolor": "white",
                        "ticks": ""
                      }
                    },
                    "title": {
                      "x": 0.05
                    },
                    "xaxis": {
                      "automargin": true,
                      "gridcolor": "white",
                      "linecolor": "white",
                      "ticks": "",
                      "title": {
                        "standoff": 15
                      },
                      "zerolinecolor": "white",
                      "zerolinewidth": 2
                    },
                    "yaxis": {
                      "automargin": true,
                      "gridcolor": "white",
                      "linecolor": "white",
                      "ticks": "",
                      "title": {
                        "standoff": 15
                      },
                      "zerolinecolor": "white",
                      "zerolinewidth": 2
                    }
                  }
                },
                "title": {
                  "text": "Top 30 Trigram"
                },
                "xaxis": {
                  "anchor": "y",
                  "domain": [
                    0,
                    1
                  ],
                  "title": {
                    "text": "x"
                  }
                },
                "yaxis": {
                  "anchor": "x",
                  "domain": [
                    0,
                    1
                  ],
                  "title": {
                    "text": "y"
                  }
                }
              }
            },
            "text/html": [
              "<div>                        <script type=\"text/javascript\">window.PlotlyConfig = {MathJaxConfig: 'local'};</script>\n",
              "        <script charset=\"utf-8\" src=\"https://cdn.plot.ly/plotly-3.0.1.min.js\"></script>                <div id=\"c999fe6d-a35e-47a6-8bc9-93ff129d5c11\" class=\"plotly-graph-div\" style=\"height:100%; width:100%;\"></div>            <script type=\"text/javascript\">                window.PLOTLYENV=window.PLOTLYENV || {};                                if (document.getElementById(\"c999fe6d-a35e-47a6-8bc9-93ff129d5c11\")) {                    Plotly.newPlot(                        \"c999fe6d-a35e-47a6-8bc9-93ff129d5c11\",                        [{\"hovertemplate\":\"x=%{x}\\u003cbr\\u003ey=%{y}\\u003cextra\\u003e\\u003c\\u002fextra\\u003e\",\"legendgroup\":\"\",\"marker\":{\"color\":\"#636efa\",\"pattern\":{\"shape\":\"\"}},\"name\":\"\",\"orientation\":\"v\",\"showlegend\":false,\"textposition\":\"auto\",\"x\":[\"chase credit card\",\"credit card account\",\"credit card company\",\"credit card chase\",\"chase customer service\",\"inquiry credit report\",\"credit card credit\",\"chase bank account\",\"account credit card\",\"card credit card\",\"account chase account\",\"charge credit card\",\"credit report credit\",\"credit reporting agency\",\"customer service representative\",\"account credit report\",\"credit reporting act\",\"credit card payment\",\"checking account chase\",\"chase account chase\",\"account chase bank\",\"bank credit card\",\"credit card card\",\"credit card balance\",\"credit report chase\",\"payment credit card\",\"victim identity theft\",\"chase card service\",\"credit card bank\",\"credit card charge\"],\"xaxis\":\"x\",\"y\":{\"dtype\":\"i2\",\"bdata\":\"ywhgBOIDaQN0Ai4CFwLUAdEBtgGLAXwBeQFzAV8BVwFLATsBKQEdARYBEQEOAQ0BCgH7APoA9QDxAOgA\"},\"yaxis\":\"y\",\"type\":\"bar\"}],                        {\"template\":{\"data\":{\"histogram2dcontour\":[{\"type\":\"histogram2dcontour\",\"colorbar\":{\"outlinewidth\":0,\"ticks\":\"\"},\"colorscale\":[[0.0,\"#0d0887\"],[0.1111111111111111,\"#46039f\"],[0.2222222222222222,\"#7201a8\"],[0.3333333333333333,\"#9c179e\"],[0.4444444444444444,\"#bd3786\"],[0.5555555555555556,\"#d8576b\"],[0.6666666666666666,\"#ed7953\"],[0.7777777777777778,\"#fb9f3a\"],[0.8888888888888888,\"#fdca26\"],[1.0,\"#f0f921\"]]}],\"choropleth\":[{\"type\":\"choropleth\",\"colorbar\":{\"outlinewidth\":0,\"ticks\":\"\"}}],\"histogram2d\":[{\"type\":\"histogram2d\",\"colorbar\":{\"outlinewidth\":0,\"ticks\":\"\"},\"colorscale\":[[0.0,\"#0d0887\"],[0.1111111111111111,\"#46039f\"],[0.2222222222222222,\"#7201a8\"],[0.3333333333333333,\"#9c179e\"],[0.4444444444444444,\"#bd3786\"],[0.5555555555555556,\"#d8576b\"],[0.6666666666666666,\"#ed7953\"],[0.7777777777777778,\"#fb9f3a\"],[0.8888888888888888,\"#fdca26\"],[1.0,\"#f0f921\"]]}],\"heatmap\":[{\"type\":\"heatmap\",\"colorbar\":{\"outlinewidth\":0,\"ticks\":\"\"},\"colorscale\":[[0.0,\"#0d0887\"],[0.1111111111111111,\"#46039f\"],[0.2222222222222222,\"#7201a8\"],[0.3333333333333333,\"#9c179e\"],[0.4444444444444444,\"#bd3786\"],[0.5555555555555556,\"#d8576b\"],[0.6666666666666666,\"#ed7953\"],[0.7777777777777778,\"#fb9f3a\"],[0.8888888888888888,\"#fdca26\"],[1.0,\"#f0f921\"]]}],\"contourcarpet\":[{\"type\":\"contourcarpet\",\"colorbar\":{\"outlinewidth\":0,\"ticks\":\"\"}}],\"contour\":[{\"type\":\"contour\",\"colorbar\":{\"outlinewidth\":0,\"ticks\":\"\"},\"colorscale\":[[0.0,\"#0d0887\"],[0.1111111111111111,\"#46039f\"],[0.2222222222222222,\"#7201a8\"],[0.3333333333333333,\"#9c179e\"],[0.4444444444444444,\"#bd3786\"],[0.5555555555555556,\"#d8576b\"],[0.6666666666666666,\"#ed7953\"],[0.7777777777777778,\"#fb9f3a\"],[0.8888888888888888,\"#fdca26\"],[1.0,\"#f0f921\"]]}],\"surface\":[{\"type\":\"surface\",\"colorbar\":{\"outlinewidth\":0,\"ticks\":\"\"},\"colorscale\":[[0.0,\"#0d0887\"],[0.1111111111111111,\"#46039f\"],[0.2222222222222222,\"#7201a8\"],[0.3333333333333333,\"#9c179e\"],[0.4444444444444444,\"#bd3786\"],[0.5555555555555556,\"#d8576b\"],[0.6666666666666666,\"#ed7953\"],[0.7777777777777778,\"#fb9f3a\"],[0.8888888888888888,\"#fdca26\"],[1.0,\"#f0f921\"]]}],\"mesh3d\":[{\"type\":\"mesh3d\",\"colorbar\":{\"outlinewidth\":0,\"ticks\":\"\"}}],\"scatter\":[{\"fillpattern\":{\"fillmode\":\"overlay\",\"size\":10,\"solidity\":0.2},\"type\":\"scatter\"}],\"parcoords\":[{\"type\":\"parcoords\",\"line\":{\"colorbar\":{\"outlinewidth\":0,\"ticks\":\"\"}}}],\"scatterpolargl\":[{\"type\":\"scatterpolargl\",\"marker\":{\"colorbar\":{\"outlinewidth\":0,\"ticks\":\"\"}}}],\"bar\":[{\"error_x\":{\"color\":\"#2a3f5f\"},\"error_y\":{\"color\":\"#2a3f5f\"},\"marker\":{\"line\":{\"color\":\"#E5ECF6\",\"width\":0.5},\"pattern\":{\"fillmode\":\"overlay\",\"size\":10,\"solidity\":0.2}},\"type\":\"bar\"}],\"scattergeo\":[{\"type\":\"scattergeo\",\"marker\":{\"colorbar\":{\"outlinewidth\":0,\"ticks\":\"\"}}}],\"scatterpolar\":[{\"type\":\"scatterpolar\",\"marker\":{\"colorbar\":{\"outlinewidth\":0,\"ticks\":\"\"}}}],\"histogram\":[{\"marker\":{\"pattern\":{\"fillmode\":\"overlay\",\"size\":10,\"solidity\":0.2}},\"type\":\"histogram\"}],\"scattergl\":[{\"type\":\"scattergl\",\"marker\":{\"colorbar\":{\"outlinewidth\":0,\"ticks\":\"\"}}}],\"scatter3d\":[{\"type\":\"scatter3d\",\"line\":{\"colorbar\":{\"outlinewidth\":0,\"ticks\":\"\"}},\"marker\":{\"colorbar\":{\"outlinewidth\":0,\"ticks\":\"\"}}}],\"scattermap\":[{\"type\":\"scattermap\",\"marker\":{\"colorbar\":{\"outlinewidth\":0,\"ticks\":\"\"}}}],\"scattermapbox\":[{\"type\":\"scattermapbox\",\"marker\":{\"colorbar\":{\"outlinewidth\":0,\"ticks\":\"\"}}}],\"scatterternary\":[{\"type\":\"scatterternary\",\"marker\":{\"colorbar\":{\"outlinewidth\":0,\"ticks\":\"\"}}}],\"scattercarpet\":[{\"type\":\"scattercarpet\",\"marker\":{\"colorbar\":{\"outlinewidth\":0,\"ticks\":\"\"}}}],\"carpet\":[{\"aaxis\":{\"endlinecolor\":\"#2a3f5f\",\"gridcolor\":\"white\",\"linecolor\":\"white\",\"minorgridcolor\":\"white\",\"startlinecolor\":\"#2a3f5f\"},\"baxis\":{\"endlinecolor\":\"#2a3f5f\",\"gridcolor\":\"white\",\"linecolor\":\"white\",\"minorgridcolor\":\"white\",\"startlinecolor\":\"#2a3f5f\"},\"type\":\"carpet\"}],\"table\":[{\"cells\":{\"fill\":{\"color\":\"#EBF0F8\"},\"line\":{\"color\":\"white\"}},\"header\":{\"fill\":{\"color\":\"#C8D4E3\"},\"line\":{\"color\":\"white\"}},\"type\":\"table\"}],\"barpolar\":[{\"marker\":{\"line\":{\"color\":\"#E5ECF6\",\"width\":0.5},\"pattern\":{\"fillmode\":\"overlay\",\"size\":10,\"solidity\":0.2}},\"type\":\"barpolar\"}],\"pie\":[{\"automargin\":true,\"type\":\"pie\"}]},\"layout\":{\"autotypenumbers\":\"strict\",\"colorway\":[\"#636efa\",\"#EF553B\",\"#00cc96\",\"#ab63fa\",\"#FFA15A\",\"#19d3f3\",\"#FF6692\",\"#B6E880\",\"#FF97FF\",\"#FECB52\"],\"font\":{\"color\":\"#2a3f5f\"},\"hovermode\":\"closest\",\"hoverlabel\":{\"align\":\"left\"},\"paper_bgcolor\":\"white\",\"plot_bgcolor\":\"#E5ECF6\",\"polar\":{\"bgcolor\":\"#E5ECF6\",\"angularaxis\":{\"gridcolor\":\"white\",\"linecolor\":\"white\",\"ticks\":\"\"},\"radialaxis\":{\"gridcolor\":\"white\",\"linecolor\":\"white\",\"ticks\":\"\"}},\"ternary\":{\"bgcolor\":\"#E5ECF6\",\"aaxis\":{\"gridcolor\":\"white\",\"linecolor\":\"white\",\"ticks\":\"\"},\"baxis\":{\"gridcolor\":\"white\",\"linecolor\":\"white\",\"ticks\":\"\"},\"caxis\":{\"gridcolor\":\"white\",\"linecolor\":\"white\",\"ticks\":\"\"}},\"coloraxis\":{\"colorbar\":{\"outlinewidth\":0,\"ticks\":\"\"}},\"colorscale\":{\"sequential\":[[0.0,\"#0d0887\"],[0.1111111111111111,\"#46039f\"],[0.2222222222222222,\"#7201a8\"],[0.3333333333333333,\"#9c179e\"],[0.4444444444444444,\"#bd3786\"],[0.5555555555555556,\"#d8576b\"],[0.6666666666666666,\"#ed7953\"],[0.7777777777777778,\"#fb9f3a\"],[0.8888888888888888,\"#fdca26\"],[1.0,\"#f0f921\"]],\"sequentialminus\":[[0.0,\"#0d0887\"],[0.1111111111111111,\"#46039f\"],[0.2222222222222222,\"#7201a8\"],[0.3333333333333333,\"#9c179e\"],[0.4444444444444444,\"#bd3786\"],[0.5555555555555556,\"#d8576b\"],[0.6666666666666666,\"#ed7953\"],[0.7777777777777778,\"#fb9f3a\"],[0.8888888888888888,\"#fdca26\"],[1.0,\"#f0f921\"]],\"diverging\":[[0,\"#8e0152\"],[0.1,\"#c51b7d\"],[0.2,\"#de77ae\"],[0.3,\"#f1b6da\"],[0.4,\"#fde0ef\"],[0.5,\"#f7f7f7\"],[0.6,\"#e6f5d0\"],[0.7,\"#b8e186\"],[0.8,\"#7fbc41\"],[0.9,\"#4d9221\"],[1,\"#276419\"]]},\"xaxis\":{\"gridcolor\":\"white\",\"linecolor\":\"white\",\"ticks\":\"\",\"title\":{\"standoff\":15},\"zerolinecolor\":\"white\",\"automargin\":true,\"zerolinewidth\":2},\"yaxis\":{\"gridcolor\":\"white\",\"linecolor\":\"white\",\"ticks\":\"\",\"title\":{\"standoff\":15},\"zerolinecolor\":\"white\",\"automargin\":true,\"zerolinewidth\":2},\"scene\":{\"xaxis\":{\"backgroundcolor\":\"#E5ECF6\",\"gridcolor\":\"white\",\"linecolor\":\"white\",\"showbackground\":true,\"ticks\":\"\",\"zerolinecolor\":\"white\",\"gridwidth\":2},\"yaxis\":{\"backgroundcolor\":\"#E5ECF6\",\"gridcolor\":\"white\",\"linecolor\":\"white\",\"showbackground\":true,\"ticks\":\"\",\"zerolinecolor\":\"white\",\"gridwidth\":2},\"zaxis\":{\"backgroundcolor\":\"#E5ECF6\",\"gridcolor\":\"white\",\"linecolor\":\"white\",\"showbackground\":true,\"ticks\":\"\",\"zerolinecolor\":\"white\",\"gridwidth\":2}},\"shapedefaults\":{\"line\":{\"color\":\"#2a3f5f\"}},\"annotationdefaults\":{\"arrowcolor\":\"#2a3f5f\",\"arrowhead\":0,\"arrowwidth\":1},\"geo\":{\"bgcolor\":\"white\",\"landcolor\":\"#E5ECF6\",\"subunitcolor\":\"white\",\"showland\":true,\"showlakes\":true,\"lakecolor\":\"white\"},\"title\":{\"x\":0.05},\"mapbox\":{\"style\":\"light\"}}},\"xaxis\":{\"anchor\":\"y\",\"domain\":[0.0,1.0],\"title\":{\"text\":\"x\"}},\"yaxis\":{\"anchor\":\"x\",\"domain\":[0.0,1.0],\"title\":{\"text\":\"y\"}},\"legend\":{\"tracegroupgap\":0},\"title\":{\"text\":\"Top 30 Trigram\"},\"barmode\":\"relative\"},                        {\"responsive\": true}                    )                };            </script>        </div>"
            ],
            "text/plain": [
              "Figure({\n",
              "    'data': [{'hovertemplate': 'x=%{x}<br>y=%{y}<extra></extra>',\n",
              "              'legendgroup': '',\n",
              "              'marker': {'color': '#636efa', 'pattern': {'shape': ''}},\n",
              "              'name': '',\n",
              "              'orientation': 'v',\n",
              "              'showlegend': False,\n",
              "              'textposition': 'auto',\n",
              "              'type': 'bar',\n",
              "              'x': array(['chase credit card', 'credit card account', 'credit card company',\n",
              "                          'credit card chase', 'chase customer service', 'inquiry credit report',\n",
              "                          'credit card credit', 'chase bank account', 'account credit card',\n",
              "                          'card credit card', 'account chase account', 'charge credit card',\n",
              "                          'credit report credit', 'credit reporting agency',\n",
              "                          'customer service representative', 'account credit report',\n",
              "                          'credit reporting act', 'credit card payment', 'checking account chase',\n",
              "                          'chase account chase', 'account chase bank', 'bank credit card',\n",
              "                          'credit card card', 'credit card balance', 'credit report chase',\n",
              "                          'payment credit card', 'victim identity theft', 'chase card service',\n",
              "                          'credit card bank', 'credit card charge'], dtype=object),\n",
              "              'xaxis': 'x',\n",
              "              'y': {'bdata': 'ywhgBOIDaQN0Ai4CFwLUAdEBtgGLAXwBeQFzAV8BVwFLATsBKQEdARYBEQEOAQ0BCgH7APoA9QDxAOgA',\n",
              "                    'dtype': 'i2'},\n",
              "              'yaxis': 'y'}],\n",
              "    'layout': {'barmode': 'relative',\n",
              "               'legend': {'tracegroupgap': 0},\n",
              "               'template': '...',\n",
              "               'title': {'text': 'Top 30 Trigram'},\n",
              "               'xaxis': {'anchor': 'y', 'domain': [0.0, 1.0], 'title': {'text': 'x'}},\n",
              "               'yaxis': {'anchor': 'x', 'domain': [0.0, 1.0], 'title': {'text': 'y'}}}\n",
              "})"
            ]
          },
          "execution_count": 121,
          "metadata": {},
          "output_type": "execute_result"
        }
      ],
      "source": [
        "#Print the top 30 words in the trigram frequency and plot the same using a bar graph\n",
        "trigram = get_top_n_words(df_clean['Complaint_clean'], 3,30)\n",
        "for word, freq in trigram:\n",
        "    print(word, freq)\n",
        "px.bar(x=[word for word, freq in trigram], y=[freq for word, freq in trigram], title='Top 30 Trigram')"
      ]
    },
    {
      "cell_type": "markdown",
      "metadata": {
        "id": "yUXzFji0JrF_"
      },
      "source": [
        "## The personal details of customer has been masked in the dataset with xxxx. Let's remove the masked text as this will be of no use for our analysis"
      ]
    },
    {
      "cell_type": "code",
      "execution_count": 38,
      "metadata": {
        "id": "wKda-a_IJrF_"
      },
      "outputs": [],
      "source": [
        "df_clean['Complaint_clean'] = df_clean['Complaint_clean'].str.replace('xxxx','')"
      ]
    },
    {
      "cell_type": "code",
      "execution_count": 39,
      "metadata": {
        "id": "9UIFk8fQJrF_"
      },
      "outputs": [
        {
          "data": {
            "text/html": [
              "<div>\n",
              "<style scoped>\n",
              "    .dataframe tbody tr th:only-of-type {\n",
              "        vertical-align: middle;\n",
              "    }\n",
              "\n",
              "    .dataframe tbody tr th {\n",
              "        vertical-align: top;\n",
              "    }\n",
              "\n",
              "    .dataframe thead th {\n",
              "        text-align: right;\n",
              "    }\n",
              "</style>\n",
              "<table border=\"1\" class=\"dataframe\">\n",
              "  <thead>\n",
              "    <tr style=\"text-align: right;\">\n",
              "      <th></th>\n",
              "      <th>complaints</th>\n",
              "      <th>lemmatized</th>\n",
              "      <th>complaint_POS_removed</th>\n",
              "      <th>Complaint_clean</th>\n",
              "    </tr>\n",
              "  </thead>\n",
              "  <tbody>\n",
              "    <tr>\n",
              "      <th>1</th>\n",
              "      <td>good morning my name is and i appreciate it if...</td>\n",
              "      <td>good morning my name is and i appreciate it if...</td>\n",
              "      <td>morning name stop debt verification statement ...</td>\n",
              "      <td>morning name stop debt verification statement ...</td>\n",
              "    </tr>\n",
              "    <tr>\n",
              "      <th>2</th>\n",
              "      <td>i upgraded my card in and was told by the agen...</td>\n",
              "      <td>i upgraded my card in and wa told by the agent...</td>\n",
              "      <td>card agent anniversary date agent wa informati...</td>\n",
              "      <td>card agent anniversary date agent wa informati...</td>\n",
              "    </tr>\n",
              "    <tr>\n",
              "      <th>10</th>\n",
              "      <td>chase card was reported on however fraudulent ...</td>\n",
              "      <td>chase card wa reported on however fraudulent a...</td>\n",
              "      <td>card application identity consent service cred...</td>\n",
              "      <td>card application identity consent service cred...</td>\n",
              "    </tr>\n",
              "    <tr>\n",
              "      <th>11</th>\n",
              "      <td>on while trying to book a ticket i came across...</td>\n",
              "      <td>on while trying to book a ticket i came across...</td>\n",
              "      <td>ticket offer ticket reward card information of...</td>\n",
              "      <td>ticket offer ticket reward card information of...</td>\n",
              "    </tr>\n",
              "    <tr>\n",
              "      <th>14</th>\n",
              "      <td>my grand son give me check for i deposit it in...</td>\n",
              "      <td>my grand son give me check for i deposit it in...</td>\n",
              "      <td>son check chase account fund chase bank accoun...</td>\n",
              "      <td>son check chase account fund chase bank accoun...</td>\n",
              "    </tr>\n",
              "    <tr>\n",
              "      <th>...</th>\n",
              "      <td>...</td>\n",
              "      <td>...</td>\n",
              "      <td>...</td>\n",
              "      <td>...</td>\n",
              "    </tr>\n",
              "    <tr>\n",
              "      <th>78303</th>\n",
              "      <td>after being a chase card customer for well ove...</td>\n",
              "      <td>after being a chase card customer for well ove...</td>\n",
              "      <td>chase card customer decade solicitation credit...</td>\n",
              "      <td>chase card customer decade solicitation credit...</td>\n",
              "    </tr>\n",
              "    <tr>\n",
              "      <th>78309</th>\n",
              "      <td>on wednesday i called chas my visa credit card...</td>\n",
              "      <td>on wednesday i called chas my visa credit card...</td>\n",
              "      <td>visa credit card provider claim purchase prote...</td>\n",
              "      <td>visa credit card provider claim purchase prote...</td>\n",
              "    </tr>\n",
              "    <tr>\n",
              "      <th>78310</th>\n",
              "      <td>i am not familiar with pay and did not underst...</td>\n",
              "      <td>i am not familiar with pay and did not underst...</td>\n",
              "      <td>pay risk consumer chase bank app chase year ba...</td>\n",
              "      <td>pay risk consumer chase bank app chase year ba...</td>\n",
              "    </tr>\n",
              "    <tr>\n",
              "      <th>78311</th>\n",
              "      <td>i have had flawless credit for yrs ive had cha...</td>\n",
              "      <td>i have had flawless credit for yr ive had chas...</td>\n",
              "      <td>credit yr credit card chase freedom problem ba...</td>\n",
              "      <td>credit yr credit card chase freedom problem ba...</td>\n",
              "    </tr>\n",
              "    <tr>\n",
              "      <th>78312</th>\n",
              "      <td>roughly years ago i closed out my accounts wit...</td>\n",
              "      <td>roughly year ago i closed out my account with ...</td>\n",
              "      <td>year account order line credit account payment...</td>\n",
              "      <td>year account order line credit account payment...</td>\n",
              "    </tr>\n",
              "  </tbody>\n",
              "</table>\n",
              "<p>21072 rows × 4 columns</p>\n",
              "</div>"
            ],
            "text/plain": [
              "                                              complaints  \\\n",
              "1      good morning my name is and i appreciate it if...   \n",
              "2      i upgraded my card in and was told by the agen...   \n",
              "10     chase card was reported on however fraudulent ...   \n",
              "11     on while trying to book a ticket i came across...   \n",
              "14     my grand son give me check for i deposit it in...   \n",
              "...                                                  ...   \n",
              "78303  after being a chase card customer for well ove...   \n",
              "78309  on wednesday i called chas my visa credit card...   \n",
              "78310  i am not familiar with pay and did not underst...   \n",
              "78311  i have had flawless credit for yrs ive had cha...   \n",
              "78312  roughly years ago i closed out my accounts wit...   \n",
              "\n",
              "                                              lemmatized  \\\n",
              "1      good morning my name is and i appreciate it if...   \n",
              "2      i upgraded my card in and wa told by the agent...   \n",
              "10     chase card wa reported on however fraudulent a...   \n",
              "11     on while trying to book a ticket i came across...   \n",
              "14     my grand son give me check for i deposit it in...   \n",
              "...                                                  ...   \n",
              "78303  after being a chase card customer for well ove...   \n",
              "78309  on wednesday i called chas my visa credit card...   \n",
              "78310  i am not familiar with pay and did not underst...   \n",
              "78311  i have had flawless credit for yr ive had chas...   \n",
              "78312  roughly year ago i closed out my account with ...   \n",
              "\n",
              "                                   complaint_POS_removed  \\\n",
              "1      morning name stop debt verification statement ...   \n",
              "2      card agent anniversary date agent wa informati...   \n",
              "10     card application identity consent service cred...   \n",
              "11     ticket offer ticket reward card information of...   \n",
              "14     son check chase account fund chase bank accoun...   \n",
              "...                                                  ...   \n",
              "78303  chase card customer decade solicitation credit...   \n",
              "78309  visa credit card provider claim purchase prote...   \n",
              "78310  pay risk consumer chase bank app chase year ba...   \n",
              "78311  credit yr credit card chase freedom problem ba...   \n",
              "78312  year account order line credit account payment...   \n",
              "\n",
              "                                         Complaint_clean  \n",
              "1      morning name stop debt verification statement ...  \n",
              "2      card agent anniversary date agent wa informati...  \n",
              "10     card application identity consent service cred...  \n",
              "11     ticket offer ticket reward card information of...  \n",
              "14     son check chase account fund chase bank accoun...  \n",
              "...                                                  ...  \n",
              "78303  chase card customer decade solicitation credit...  \n",
              "78309  visa credit card provider claim purchase prote...  \n",
              "78310  pay risk consumer chase bank app chase year ba...  \n",
              "78311  credit yr credit card chase freedom problem ba...  \n",
              "78312  year account order line credit account payment...  \n",
              "\n",
              "[21072 rows x 4 columns]"
            ]
          },
          "execution_count": 39,
          "metadata": {},
          "output_type": "execute_result"
        }
      ],
      "source": [
        "#All masked texts has been removed\n",
        "df_clean"
      ]
    },
    {
      "cell_type": "markdown",
      "metadata": {
        "id": "k-I0k0QtJrGA"
      },
      "source": [
        "## Feature Extraction\n",
        "Convert the raw texts to a matrix of TF-IDF features\n",
        "\n",
        "**max_df** is used for removing terms that appear too frequently, also known as \"corpus-specific stop words\"\n",
        "max_df = 0.95 means \"ignore terms that appear in more than 95% of the complaints\"\n",
        "\n",
        "**min_df** is used for removing terms that appear too infrequently\n",
        "min_df = 2 means \"ignore terms that appear in less than 2 complaints\""
      ]
    },
    {
      "cell_type": "code",
      "execution_count": 40,
      "metadata": {
        "id": "Y8fGwaCPJrGA"
      },
      "outputs": [],
      "source": [
        "#Write your code here to initialise the TfidfVectorizer\n",
        "tfidf = TfidfVectorizer(max_df=0.95, min_df=2, stop_words='english')\n"
      ]
    },
    {
      "cell_type": "markdown",
      "metadata": {
        "id": "yYzD85nTJrGA"
      },
      "source": [
        "#### Create a document term matrix using fit_transform\n",
        "\n",
        "The contents of a document term matrix are tuples of (complaint_id,token_id) tf-idf score:\n",
        "The tuples that are not there have a tf-idf score of 0"
      ]
    },
    {
      "cell_type": "code",
      "execution_count": 41,
      "metadata": {
        "id": "ffzdDpp_JrGB"
      },
      "outputs": [],
      "source": [
        "#Write your code here to create the Document Term Matrix by transforming the complaints column present in df_clean.\n",
        "dtm = tfidf.fit_transform(df_clean['Complaint_clean'])"
      ]
    },
    {
      "cell_type": "markdown",
      "metadata": {
        "id": "7Q9lwvNEJrGB"
      },
      "source": [
        "## Topic Modelling using NMF\n",
        "\n",
        "Non-Negative Matrix Factorization (NMF) is an unsupervised technique so there are no labeling of topics that the model will be trained on. The way it works is that, NMF decomposes (or factorizes) high-dimensional vectors into a lower-dimensional representation. These lower-dimensional vectors are non-negative which also means their coefficients are non-negative.\n",
        "\n",
        "In this task you have to perform the following:\n",
        "\n",
        "* Find the best number of clusters\n",
        "* Apply the best number to create word clusters\n",
        "* Inspect & validate the correction of each cluster wrt the complaints\n",
        "* Correct the labels if needed\n",
        "* Map the clusters to topics/cluster names"
      ]
    },
    {
      "cell_type": "code",
      "execution_count": 42,
      "metadata": {
        "id": "amLT4omWJrGB"
      },
      "outputs": [],
      "source": [
        "from sklearn.decomposition import NMF"
      ]
    },
    {
      "cell_type": "markdown",
      "metadata": {
        "id": "0wYR1xUTJrGD"
      },
      "source": [
        "## Manual Topic Modeling\n",
        "You need to do take the trial & error approach to find the best num of topics for your NMF model.\n",
        "\n",
        "The only parameter that is required is the number of components i.e. the number of topics we want. This is the most crucial step in the whole topic modeling process and will greatly affect how good your final topics are."
      ]
    },
    {
      "cell_type": "code",
      "execution_count": 43,
      "metadata": {
        "id": "sgd2A6bhJrGD"
      },
      "outputs": [],
      "source": [
        "#Load your nmf_model with the n_components i.e 5\n",
        "num_topics = 5#write the value you want to test out\n",
        "\n",
        "#keep the random_state =40\n",
        "nmf_model = NMF(random_state=40, n_components=num_topics)#write your code here"
      ]
    },
    {
      "cell_type": "code",
      "execution_count": 44,
      "metadata": {
        "id": "VPMDYbt_JrGE"
      },
      "outputs": [
        {
          "data": {
            "text/plain": [
              "6151"
            ]
          },
          "execution_count": 44,
          "metadata": {},
          "output_type": "execute_result"
        }
      ],
      "source": [
        "nmf_model.fit(dtm)\n",
        "len(tfidf.get_feature_names_out())"
      ]
    },
    {
      "cell_type": "code",
      "execution_count": 45,
      "metadata": {
        "id": "16kRfat5JrGE"
      },
      "outputs": [
        {
          "data": {
            "text/html": [
              "<div>\n",
              "<style scoped>\n",
              "    .dataframe tbody tr th:only-of-type {\n",
              "        vertical-align: middle;\n",
              "    }\n",
              "\n",
              "    .dataframe tbody tr th {\n",
              "        vertical-align: top;\n",
              "    }\n",
              "\n",
              "    .dataframe thead th {\n",
              "        text-align: right;\n",
              "    }\n",
              "</style>\n",
              "<table border=\"1\" class=\"dataframe\">\n",
              "  <thead>\n",
              "    <tr style=\"text-align: right;\">\n",
              "      <th></th>\n",
              "      <th>Word 1</th>\n",
              "      <th>Word 2</th>\n",
              "      <th>Word 3</th>\n",
              "      <th>Word 4</th>\n",
              "      <th>Word 5</th>\n",
              "      <th>Word 6</th>\n",
              "      <th>Word 7</th>\n",
              "      <th>Word 8</th>\n",
              "      <th>Word 9</th>\n",
              "      <th>Word 10</th>\n",
              "      <th>Word 11</th>\n",
              "      <th>Word 12</th>\n",
              "      <th>Word 13</th>\n",
              "      <th>Word 14</th>\n",
              "      <th>Word 15</th>\n",
              "    </tr>\n",
              "  </thead>\n",
              "  <tbody>\n",
              "    <tr>\n",
              "      <th>Topic 1</th>\n",
              "      <td>account</td>\n",
              "      <td>check</td>\n",
              "      <td>bank</td>\n",
              "      <td>money</td>\n",
              "      <td>chase</td>\n",
              "      <td>fund</td>\n",
              "      <td>deposit</td>\n",
              "      <td>branch</td>\n",
              "      <td>checking</td>\n",
              "      <td>day</td>\n",
              "      <td>fee</td>\n",
              "      <td>business</td>\n",
              "      <td>number</td>\n",
              "      <td>customer</td>\n",
              "      <td>balance</td>\n",
              "    </tr>\n",
              "    <tr>\n",
              "      <th>Topic 2</th>\n",
              "      <td>card</td>\n",
              "      <td>credit</td>\n",
              "      <td>chase</td>\n",
              "      <td>balance</td>\n",
              "      <td>account</td>\n",
              "      <td>fee</td>\n",
              "      <td>limit</td>\n",
              "      <td>score</td>\n",
              "      <td>year</td>\n",
              "      <td>month</td>\n",
              "      <td>point</td>\n",
              "      <td>purchase</td>\n",
              "      <td>offer</td>\n",
              "      <td>service</td>\n",
              "      <td>reason</td>\n",
              "    </tr>\n",
              "    <tr>\n",
              "      <th>Topic 3</th>\n",
              "      <td>payment</td>\n",
              "      <td>loan</td>\n",
              "      <td>mortgage</td>\n",
              "      <td>chase</td>\n",
              "      <td>month</td>\n",
              "      <td>home</td>\n",
              "      <td>modification</td>\n",
              "      <td>time</td>\n",
              "      <td>year</td>\n",
              "      <td>rate</td>\n",
              "      <td>balance</td>\n",
              "      <td>property</td>\n",
              "      <td>statement</td>\n",
              "      <td>fee</td>\n",
              "      <td>day</td>\n",
              "    </tr>\n",
              "    <tr>\n",
              "      <th>Topic 4</th>\n",
              "      <td>inquiry</td>\n",
              "      <td>report</td>\n",
              "      <td>credit</td>\n",
              "      <td>bureau</td>\n",
              "      <td>company</td>\n",
              "      <td>information</td>\n",
              "      <td>reporting</td>\n",
              "      <td>identity</td>\n",
              "      <td>debt</td>\n",
              "      <td>score</td>\n",
              "      <td>theft</td>\n",
              "      <td>letter</td>\n",
              "      <td>account</td>\n",
              "      <td>application</td>\n",
              "      <td>file</td>\n",
              "    </tr>\n",
              "    <tr>\n",
              "      <th>Topic 5</th>\n",
              "      <td>charge</td>\n",
              "      <td>chase</td>\n",
              "      <td>transaction</td>\n",
              "      <td>dispute</td>\n",
              "      <td>claim</td>\n",
              "      <td>fraud</td>\n",
              "      <td>merchant</td>\n",
              "      <td>letter</td>\n",
              "      <td>email</td>\n",
              "      <td>service</td>\n",
              "      <td>time</td>\n",
              "      <td>information</td>\n",
              "      <td>phone</td>\n",
              "      <td>purchase</td>\n",
              "      <td>company</td>\n",
              "    </tr>\n",
              "  </tbody>\n",
              "</table>\n",
              "</div>"
            ],
            "text/plain": [
              "          Word 1  Word 2       Word 3   Word 4   Word 5       Word 6  \\\n",
              "Topic 1  account   check         bank    money    chase         fund   \n",
              "Topic 2     card  credit        chase  balance  account          fee   \n",
              "Topic 3  payment    loan     mortgage    chase    month         home   \n",
              "Topic 4  inquiry  report       credit   bureau  company  information   \n",
              "Topic 5   charge   chase  transaction  dispute    claim        fraud   \n",
              "\n",
              "               Word 7    Word 8    Word 9  Word 10  Word 11      Word 12  \\\n",
              "Topic 1       deposit    branch  checking      day      fee     business   \n",
              "Topic 2         limit     score      year    month    point     purchase   \n",
              "Topic 3  modification      time      year     rate  balance     property   \n",
              "Topic 4     reporting  identity      debt    score    theft       letter   \n",
              "Topic 5      merchant    letter     email  service     time  information   \n",
              "\n",
              "           Word 13      Word 14  Word 15  \n",
              "Topic 1     number     customer  balance  \n",
              "Topic 2      offer      service   reason  \n",
              "Topic 3  statement          fee      day  \n",
              "Topic 4    account  application     file  \n",
              "Topic 5      phone     purchase  company  "
            ]
          },
          "execution_count": 45,
          "metadata": {},
          "output_type": "execute_result"
        }
      ],
      "source": [
        "#Print the Top15 words for each of the topics\n",
        "words = np.array(tfidf.get_feature_names_out())\n",
        "topic_words_df = pd.DataFrame(np.zeros((num_topics, 15)), index=[f'Topic {i + 1}' for i in range(num_topics)],\n",
        "                           columns=[f'Word {i + 1}' for i in range(15)]).astype(str)\n",
        "\n",
        "for i in range(num_topics):\n",
        "    ix = nmf_model.components_[i].argsort()[::-1][:15]\n",
        "    topic_words_df.iloc[i] = words[ix]\n",
        "\n",
        "topic_words_df\n"
      ]
    },
    {
      "cell_type": "code",
      "execution_count": 47,
      "metadata": {
        "id": "0OIT7LmFJrGF"
      },
      "outputs": [
        {
          "data": {
            "text/plain": [
              "array([0, 1, 1, ..., 4, 1, 2])"
            ]
          },
          "execution_count": 47,
          "metadata": {},
          "output_type": "execute_result"
        }
      ],
      "source": [
        "#Create the best topic for each complaint in terms of integer value 0,1,2,3 & 4\n",
        "\n",
        "topic_results = nmf_model.transform(dtm)\n",
        "topic_results.argmax(axis=1)"
      ]
    },
    {
      "cell_type": "code",
      "execution_count": 48,
      "metadata": {
        "id": "peyYv-ORJrGF"
      },
      "outputs": [],
      "source": [
        "#Assign the best topic to each of the cmplaints in Topic Column\n",
        "\n",
        "df_clean['Topic'] = topic_results.argmax(axis=1)#write your code to assign topics to each rows."
      ]
    },
    {
      "cell_type": "code",
      "execution_count": 49,
      "metadata": {
        "id": "fLh_Gf3nJrGF"
      },
      "outputs": [
        {
          "data": {
            "text/html": [
              "<div>\n",
              "<style scoped>\n",
              "    .dataframe tbody tr th:only-of-type {\n",
              "        vertical-align: middle;\n",
              "    }\n",
              "\n",
              "    .dataframe tbody tr th {\n",
              "        vertical-align: top;\n",
              "    }\n",
              "\n",
              "    .dataframe thead th {\n",
              "        text-align: right;\n",
              "    }\n",
              "</style>\n",
              "<table border=\"1\" class=\"dataframe\">\n",
              "  <thead>\n",
              "    <tr style=\"text-align: right;\">\n",
              "      <th></th>\n",
              "      <th>complaints</th>\n",
              "      <th>lemmatized</th>\n",
              "      <th>complaint_POS_removed</th>\n",
              "      <th>Complaint_clean</th>\n",
              "      <th>Topic</th>\n",
              "    </tr>\n",
              "  </thead>\n",
              "  <tbody>\n",
              "    <tr>\n",
              "      <th>1</th>\n",
              "      <td>good morning my name is and i appreciate it if...</td>\n",
              "      <td>good morning my name is and i appreciate it if...</td>\n",
              "      <td>morning name stop debt verification statement ...</td>\n",
              "      <td>morning name stop debt verification statement ...</td>\n",
              "      <td>0</td>\n",
              "    </tr>\n",
              "    <tr>\n",
              "      <th>2</th>\n",
              "      <td>i upgraded my card in and was told by the agen...</td>\n",
              "      <td>i upgraded my card in and wa told by the agent...</td>\n",
              "      <td>card agent anniversary date agent wa informati...</td>\n",
              "      <td>card agent anniversary date agent wa informati...</td>\n",
              "      <td>1</td>\n",
              "    </tr>\n",
              "    <tr>\n",
              "      <th>10</th>\n",
              "      <td>chase card was reported on however fraudulent ...</td>\n",
              "      <td>chase card wa reported on however fraudulent a...</td>\n",
              "      <td>card application identity consent service cred...</td>\n",
              "      <td>card application identity consent service cred...</td>\n",
              "      <td>1</td>\n",
              "    </tr>\n",
              "    <tr>\n",
              "      <th>11</th>\n",
              "      <td>on while trying to book a ticket i came across...</td>\n",
              "      <td>on while trying to book a ticket i came across...</td>\n",
              "      <td>ticket offer ticket reward card information of...</td>\n",
              "      <td>ticket offer ticket reward card information of...</td>\n",
              "      <td>3</td>\n",
              "    </tr>\n",
              "    <tr>\n",
              "      <th>14</th>\n",
              "      <td>my grand son give me check for i deposit it in...</td>\n",
              "      <td>my grand son give me check for i deposit it in...</td>\n",
              "      <td>son check chase account fund chase bank accoun...</td>\n",
              "      <td>son check chase account fund chase bank accoun...</td>\n",
              "      <td>0</td>\n",
              "    </tr>\n",
              "  </tbody>\n",
              "</table>\n",
              "</div>"
            ],
            "text/plain": [
              "                                           complaints  \\\n",
              "1   good morning my name is and i appreciate it if...   \n",
              "2   i upgraded my card in and was told by the agen...   \n",
              "10  chase card was reported on however fraudulent ...   \n",
              "11  on while trying to book a ticket i came across...   \n",
              "14  my grand son give me check for i deposit it in...   \n",
              "\n",
              "                                           lemmatized  \\\n",
              "1   good morning my name is and i appreciate it if...   \n",
              "2   i upgraded my card in and wa told by the agent...   \n",
              "10  chase card wa reported on however fraudulent a...   \n",
              "11  on while trying to book a ticket i came across...   \n",
              "14  my grand son give me check for i deposit it in...   \n",
              "\n",
              "                                complaint_POS_removed  \\\n",
              "1   morning name stop debt verification statement ...   \n",
              "2   card agent anniversary date agent wa informati...   \n",
              "10  card application identity consent service cred...   \n",
              "11  ticket offer ticket reward card information of...   \n",
              "14  son check chase account fund chase bank accoun...   \n",
              "\n",
              "                                      Complaint_clean  Topic  \n",
              "1   morning name stop debt verification statement ...      0  \n",
              "2   card agent anniversary date agent wa informati...      1  \n",
              "10  card application identity consent service cred...      1  \n",
              "11  ticket offer ticket reward card information of...      3  \n",
              "14  son check chase account fund chase bank accoun...      0  "
            ]
          },
          "execution_count": 49,
          "metadata": {},
          "output_type": "execute_result"
        }
      ],
      "source": [
        "df_clean.head()"
      ]
    },
    {
      "cell_type": "code",
      "execution_count": 71,
      "metadata": {
        "id": "aQKpufSPJrGG"
      },
      "outputs": [
        {
          "data": {
            "text/html": [
              "<div>\n",
              "<style scoped>\n",
              "    .dataframe tbody tr th:only-of-type {\n",
              "        vertical-align: middle;\n",
              "    }\n",
              "\n",
              "    .dataframe tbody tr th {\n",
              "        vertical-align: top;\n",
              "    }\n",
              "\n",
              "    .dataframe thead th {\n",
              "        text-align: right;\n",
              "    }\n",
              "</style>\n",
              "<table border=\"1\" class=\"dataframe\">\n",
              "  <thead>\n",
              "    <tr style=\"text-align: right;\">\n",
              "      <th></th>\n",
              "      <th>complaints</th>\n",
              "      <th>lemmatized</th>\n",
              "      <th>complaint_POS_removed</th>\n",
              "      <th>complaint_length</th>\n",
              "      <th>Complaint_clean</th>\n",
              "      <th>Topic</th>\n",
              "    </tr>\n",
              "  </thead>\n",
              "  <tbody>\n",
              "    <tr>\n",
              "      <th>57</th>\n",
              "      <td>i have been trying to do a loan modification w...</td>\n",
              "      <td>i have been trying to do a loan modification w...</td>\n",
              "      <td>loan modification chase runaround payment doc</td>\n",
              "      <td>45</td>\n",
              "      <td>loan modification chase runaround payment doc</td>\n",
              "      <td>0</td>\n",
              "    </tr>\n",
              "    <tr>\n",
              "      <th>20</th>\n",
              "      <td>during the summer months i experience a declin...</td>\n",
              "      <td>during the summer month i experience a decline...</td>\n",
              "      <td>summer month decline income employment month p...</td>\n",
              "      <td>576</td>\n",
              "      <td>summer month decline income employment month p...</td>\n",
              "      <td>0</td>\n",
              "    </tr>\n",
              "    <tr>\n",
              "      <th>21</th>\n",
              "      <td>on i made a payment to an online retailer usin...</td>\n",
              "      <td>on i made a payment to an online retailer usin...</td>\n",
              "      <td>payment retailer chase pay chase website scam ...</td>\n",
              "      <td>1089</td>\n",
              "      <td>payment retailer chase pay chase website scam ...</td>\n",
              "      <td>0</td>\n",
              "    </tr>\n",
              "    <tr>\n",
              "      <th>48</th>\n",
              "      <td>jp morgan chase bank please answer the followi...</td>\n",
              "      <td>jp morgan chase bank please answer the followi...</td>\n",
              "      <td>question chase information reason information ...</td>\n",
              "      <td>300</td>\n",
              "      <td>question chase information reason information ...</td>\n",
              "      <td>0</td>\n",
              "    </tr>\n",
              "    <tr>\n",
              "      <th>43</th>\n",
              "      <td>chase sent me an email today with the innocuou...</td>\n",
              "      <td>chase sent me an email today with the innocuou...</td>\n",
              "      <td>chase email today title information change cha...</td>\n",
              "      <td>239</td>\n",
              "      <td>chase email today title information change cha...</td>\n",
              "      <td>0</td>\n",
              "    </tr>\n",
              "    <tr>\n",
              "      <th>2</th>\n",
              "      <td>i upgraded my card in and was told by the agen...</td>\n",
              "      <td>i upgraded my card in and wa told by the agent...</td>\n",
              "      <td>card agent anniversary date agent wa informati...</td>\n",
              "      <td>103</td>\n",
              "      <td>card agent anniversary date agent wa informati...</td>\n",
              "      <td>1</td>\n",
              "    </tr>\n",
              "    <tr>\n",
              "      <th>10</th>\n",
              "      <td>chase card was reported on however fraudulent ...</td>\n",
              "      <td>chase card wa reported on however fraudulent a...</td>\n",
              "      <td>card application identity consent service cred...</td>\n",
              "      <td>67</td>\n",
              "      <td>card application identity consent service cred...</td>\n",
              "      <td>1</td>\n",
              "    </tr>\n",
              "    <tr>\n",
              "      <th>11</th>\n",
              "      <td>on while trying to book a ticket i came across...</td>\n",
              "      <td>on while trying to book a ticket i came across...</td>\n",
              "      <td>ticket offer ticket reward card information of...</td>\n",
              "      <td>389</td>\n",
              "      <td>ticket offer ticket reward card information of...</td>\n",
              "      <td>1</td>\n",
              "    </tr>\n",
              "    <tr>\n",
              "      <th>50</th>\n",
              "      <td>i am a senior citizen that has been scammed by...</td>\n",
              "      <td>i am a senior citizen that ha been scammed by ...</td>\n",
              "      <td>citizen company time share company nothing ref...</td>\n",
              "      <td>81</td>\n",
              "      <td>citizen company time share company nothing ref...</td>\n",
              "      <td>1</td>\n",
              "    </tr>\n",
              "    <tr>\n",
              "      <th>23</th>\n",
              "      <td>i have a chase credit card which is incorrectl...</td>\n",
              "      <td>i have a chase credit card which is incorrectl...</td>\n",
              "      <td>credit card credit report company issue</td>\n",
              "      <td>39</td>\n",
              "      <td>credit card credit report company issue</td>\n",
              "      <td>1</td>\n",
              "    </tr>\n",
              "    <tr>\n",
              "      <th>14</th>\n",
              "      <td>my grand son give me check for i deposit it in...</td>\n",
              "      <td>my grand son give me check for i deposit it in...</td>\n",
              "      <td>son check chase account fund chase bank accoun...</td>\n",
              "      <td>157</td>\n",
              "      <td>son check chase account fund chase bank accoun...</td>\n",
              "      <td>2</td>\n",
              "    </tr>\n",
              "    <tr>\n",
              "      <th>52</th>\n",
              "      <td>my roommate was stealing my chase debit card a...</td>\n",
              "      <td>my roommate wa stealing my chase debit card an...</td>\n",
              "      <td>roommate chase debit card driver license money...</td>\n",
              "      <td>144</td>\n",
              "      <td>roommate chase debit card driver license money...</td>\n",
              "      <td>2</td>\n",
              "    </tr>\n",
              "    <tr>\n",
              "      <th>32</th>\n",
              "      <td>my chase amazon card was declined for a cateri...</td>\n",
              "      <td>my chase amazon card wa declined for a caterin...</td>\n",
              "      <td>chase amazon card catering order brother funer...</td>\n",
              "      <td>514</td>\n",
              "      <td>chase amazon card catering order brother funer...</td>\n",
              "      <td>2</td>\n",
              "    </tr>\n",
              "    <tr>\n",
              "      <th>40</th>\n",
              "      <td>a sofa love seat table and chairs and was neve...</td>\n",
              "      <td>a sofa love seat table and chair and wa never ...</td>\n",
              "      <td>sofa love seat table chair debit card bank vis...</td>\n",
              "      <td>69</td>\n",
              "      <td>sofa love seat table chair debit card bank vis...</td>\n",
              "      <td>2</td>\n",
              "    </tr>\n",
              "    <tr>\n",
              "      <th>15</th>\n",
              "      <td>can you please remove inquiry</td>\n",
              "      <td>can you please remove inquiry</td>\n",
              "      <td>inquiry</td>\n",
              "      <td>7</td>\n",
              "      <td>inquiry</td>\n",
              "      <td>3</td>\n",
              "    </tr>\n",
              "    <tr>\n",
              "      <th>26</th>\n",
              "      <td>i have reached out to several times in attempt...</td>\n",
              "      <td>i have reached out to several time in attempt ...</td>\n",
              "      <td>time attempt inquiry creditor inquiry report a...</td>\n",
              "      <td>185</td>\n",
              "      <td>time attempt inquiry creditor inquiry report a...</td>\n",
              "      <td>3</td>\n",
              "    </tr>\n",
              "    <tr>\n",
              "      <th>1</th>\n",
              "      <td>good morning my name is and i appreciate it if...</td>\n",
              "      <td>good morning my name is and i appreciate it if...</td>\n",
              "      <td>morning name stop debt verification statement ...</td>\n",
              "      <td>125</td>\n",
              "      <td>morning name stop debt verification statement ...</td>\n",
              "      <td>4</td>\n",
              "    </tr>\n",
              "    <tr>\n",
              "      <th>27</th>\n",
              "      <td>i opened an account with chase bank on and use...</td>\n",
              "      <td>i opened an account with chase bank on and use...</td>\n",
              "      <td>account bank code bonus term everything accoun...</td>\n",
              "      <td>103</td>\n",
              "      <td>account bank code bonus term everything accoun...</td>\n",
              "      <td>4</td>\n",
              "    </tr>\n",
              "    <tr>\n",
              "      <th>17</th>\n",
              "      <td>with out notice jp morgan chase restricted my ...</td>\n",
              "      <td>with out notice jp morgan chase restricted my ...</td>\n",
              "      <td>notice account debit card branch customer serv...</td>\n",
              "      <td>610</td>\n",
              "      <td>notice account debit card branch customer serv...</td>\n",
              "      <td>4</td>\n",
              "    </tr>\n",
              "    <tr>\n",
              "      <th>45</th>\n",
              "      <td>i made a purchase with on in the amount of i w...</td>\n",
              "      <td>i made a purchase with on in the amount of i w...</td>\n",
              "      <td>purchase amount transaction dispute case bank ...</td>\n",
              "      <td>469</td>\n",
              "      <td>purchase amount transaction dispute case bank ...</td>\n",
              "      <td>4</td>\n",
              "    </tr>\n",
              "    <tr>\n",
              "      <th>24</th>\n",
              "      <td>mishandling of this account by chase auto and</td>\n",
              "      <td>mishandling of this account by chase auto and</td>\n",
              "      <td>account auto</td>\n",
              "      <td>12</td>\n",
              "      <td>account auto</td>\n",
              "      <td>4</td>\n",
              "    </tr>\n",
              "  </tbody>\n",
              "</table>\n",
              "</div>"
            ],
            "text/plain": [
              "                                           complaints  \\\n",
              "57  i have been trying to do a loan modification w...   \n",
              "20  during the summer months i experience a declin...   \n",
              "21  on i made a payment to an online retailer usin...   \n",
              "48  jp morgan chase bank please answer the followi...   \n",
              "43  chase sent me an email today with the innocuou...   \n",
              "2   i upgraded my card in and was told by the agen...   \n",
              "10  chase card was reported on however fraudulent ...   \n",
              "11  on while trying to book a ticket i came across...   \n",
              "50  i am a senior citizen that has been scammed by...   \n",
              "23  i have a chase credit card which is incorrectl...   \n",
              "14  my grand son give me check for i deposit it in...   \n",
              "52  my roommate was stealing my chase debit card a...   \n",
              "32  my chase amazon card was declined for a cateri...   \n",
              "40  a sofa love seat table and chairs and was neve...   \n",
              "15                      can you please remove inquiry   \n",
              "26  i have reached out to several times in attempt...   \n",
              "1   good morning my name is and i appreciate it if...   \n",
              "27  i opened an account with chase bank on and use...   \n",
              "17  with out notice jp morgan chase restricted my ...   \n",
              "45  i made a purchase with on in the amount of i w...   \n",
              "24      mishandling of this account by chase auto and   \n",
              "\n",
              "                                           lemmatized  \\\n",
              "57  i have been trying to do a loan modification w...   \n",
              "20  during the summer month i experience a decline...   \n",
              "21  on i made a payment to an online retailer usin...   \n",
              "48  jp morgan chase bank please answer the followi...   \n",
              "43  chase sent me an email today with the innocuou...   \n",
              "2   i upgraded my card in and wa told by the agent...   \n",
              "10  chase card wa reported on however fraudulent a...   \n",
              "11  on while trying to book a ticket i came across...   \n",
              "50  i am a senior citizen that ha been scammed by ...   \n",
              "23  i have a chase credit card which is incorrectl...   \n",
              "14  my grand son give me check for i deposit it in...   \n",
              "52  my roommate wa stealing my chase debit card an...   \n",
              "32  my chase amazon card wa declined for a caterin...   \n",
              "40  a sofa love seat table and chair and wa never ...   \n",
              "15                      can you please remove inquiry   \n",
              "26  i have reached out to several time in attempt ...   \n",
              "1   good morning my name is and i appreciate it if...   \n",
              "27  i opened an account with chase bank on and use...   \n",
              "17  with out notice jp morgan chase restricted my ...   \n",
              "45  i made a purchase with on in the amount of i w...   \n",
              "24      mishandling of this account by chase auto and   \n",
              "\n",
              "                                complaint_POS_removed  complaint_length  \\\n",
              "57      loan modification chase runaround payment doc                45   \n",
              "20  summer month decline income employment month p...               576   \n",
              "21  payment retailer chase pay chase website scam ...              1089   \n",
              "48  question chase information reason information ...               300   \n",
              "43  chase email today title information change cha...               239   \n",
              "2   card agent anniversary date agent wa informati...               103   \n",
              "10  card application identity consent service cred...                67   \n",
              "11  ticket offer ticket reward card information of...               389   \n",
              "50  citizen company time share company nothing ref...                81   \n",
              "23            credit card credit report company issue                39   \n",
              "14  son check chase account fund chase bank accoun...               157   \n",
              "52  roommate chase debit card driver license money...               144   \n",
              "32  chase amazon card catering order brother funer...               514   \n",
              "40  sofa love seat table chair debit card bank vis...                69   \n",
              "15                                            inquiry                 7   \n",
              "26  time attempt inquiry creditor inquiry report a...               185   \n",
              "1   morning name stop debt verification statement ...               125   \n",
              "27  account bank code bonus term everything accoun...               103   \n",
              "17  notice account debit card branch customer serv...               610   \n",
              "45  purchase amount transaction dispute case bank ...               469   \n",
              "24                                       account auto                12   \n",
              "\n",
              "                                      Complaint_clean  Topic  \n",
              "57      loan modification chase runaround payment doc      0  \n",
              "20  summer month decline income employment month p...      0  \n",
              "21  payment retailer chase pay chase website scam ...      0  \n",
              "48  question chase information reason information ...      0  \n",
              "43  chase email today title information change cha...      0  \n",
              "2   card agent anniversary date agent wa informati...      1  \n",
              "10  card application identity consent service cred...      1  \n",
              "11  ticket offer ticket reward card information of...      1  \n",
              "50  citizen company time share company nothing ref...      1  \n",
              "23            credit card credit report company issue      1  \n",
              "14  son check chase account fund chase bank accoun...      2  \n",
              "52  roommate chase debit card driver license money...      2  \n",
              "32  chase amazon card catering order brother funer...      2  \n",
              "40  sofa love seat table chair debit card bank vis...      2  \n",
              "15                                            inquiry      3  \n",
              "26  time attempt inquiry creditor inquiry report a...      3  \n",
              "1   morning name stop debt verification statement ...      4  \n",
              "27  account bank code bonus term everything accoun...      4  \n",
              "17  notice account debit card branch customer serv...      4  \n",
              "45  purchase amount transaction dispute case bank ...      4  \n",
              "24                                       account auto      4  "
            ]
          },
          "execution_count": 71,
          "metadata": {},
          "output_type": "execute_result"
        }
      ],
      "source": [
        "#Print the first 5 Complaint for each of the Topics\n",
        "df_clean=df_clean.groupby('Topic').head(5)\n",
        "df_clean.sort_values('Topic')"
      ]
    },
    {
      "cell_type": "markdown",
      "metadata": {
        "id": "piyLxzj6v07j"
      },
      "source": [
        "#### After evaluating the mapping, if the topics assigned are correct then assign these names to the relevant topic:\n",
        "* Bank Account services\n",
        "* Credit card or prepaid card\n",
        "* Theft/Dispute Reporting\n",
        "* Mortgage/Loan\n",
        "* Others"
      ]
    },
    {
      "cell_type": "code",
      "execution_count": 50,
      "metadata": {
        "id": "TWpwDG4RJrGG"
      },
      "outputs": [],
      "source": [
        "#Create the dictionary of Topic names and Topics\n",
        "\n",
        "Topic_names = {0:'Mortgage/Loan', 1:'Credit card or prepaid card', 2:'Theft/Dispute Reporting', 3:'Others', 4:'Account Services'}\n",
        "#Replace Topics with Topic Names\n",
        "df_clean['Topic'] = df_clean['Topic'].map(Topic_names)"
      ]
    },
    {
      "cell_type": "code",
      "execution_count": 73,
      "metadata": {
        "id": "-2ULY5K6JrGG"
      },
      "outputs": [
        {
          "data": {
            "text/html": [
              "<div>\n",
              "<style scoped>\n",
              "    .dataframe tbody tr th:only-of-type {\n",
              "        vertical-align: middle;\n",
              "    }\n",
              "\n",
              "    .dataframe tbody tr th {\n",
              "        vertical-align: top;\n",
              "    }\n",
              "\n",
              "    .dataframe thead th {\n",
              "        text-align: right;\n",
              "    }\n",
              "</style>\n",
              "<table border=\"1\" class=\"dataframe\">\n",
              "  <thead>\n",
              "    <tr style=\"text-align: right;\">\n",
              "      <th></th>\n",
              "      <th>complaints</th>\n",
              "      <th>lemmatized</th>\n",
              "      <th>complaint_POS_removed</th>\n",
              "      <th>complaint_length</th>\n",
              "      <th>Complaint_clean</th>\n",
              "      <th>Topic</th>\n",
              "    </tr>\n",
              "  </thead>\n",
              "  <tbody>\n",
              "    <tr>\n",
              "      <th>1</th>\n",
              "      <td>good morning my name is and i appreciate it if...</td>\n",
              "      <td>good morning my name is and i appreciate it if...</td>\n",
              "      <td>morning name stop debt verification statement ...</td>\n",
              "      <td>125</td>\n",
              "      <td>morning name stop debt verification statement ...</td>\n",
              "      <td>Account Services</td>\n",
              "    </tr>\n",
              "    <tr>\n",
              "      <th>2</th>\n",
              "      <td>i upgraded my card in and was told by the agen...</td>\n",
              "      <td>i upgraded my card in and wa told by the agent...</td>\n",
              "      <td>card agent anniversary date agent wa informati...</td>\n",
              "      <td>103</td>\n",
              "      <td>card agent anniversary date agent wa informati...</td>\n",
              "      <td>Credit card or prepaid card</td>\n",
              "    </tr>\n",
              "    <tr>\n",
              "      <th>10</th>\n",
              "      <td>chase card was reported on however fraudulent ...</td>\n",
              "      <td>chase card wa reported on however fraudulent a...</td>\n",
              "      <td>card application identity consent service cred...</td>\n",
              "      <td>67</td>\n",
              "      <td>card application identity consent service cred...</td>\n",
              "      <td>Credit card or prepaid card</td>\n",
              "    </tr>\n",
              "    <tr>\n",
              "      <th>11</th>\n",
              "      <td>on while trying to book a ticket i came across...</td>\n",
              "      <td>on while trying to book a ticket i came across...</td>\n",
              "      <td>ticket offer ticket reward card information of...</td>\n",
              "      <td>389</td>\n",
              "      <td>ticket offer ticket reward card information of...</td>\n",
              "      <td>Credit card or prepaid card</td>\n",
              "    </tr>\n",
              "    <tr>\n",
              "      <th>14</th>\n",
              "      <td>my grand son give me check for i deposit it in...</td>\n",
              "      <td>my grand son give me check for i deposit it in...</td>\n",
              "      <td>son check chase account fund chase bank accoun...</td>\n",
              "      <td>157</td>\n",
              "      <td>son check chase account fund chase bank accoun...</td>\n",
              "      <td>Theft/Dispute Reporting</td>\n",
              "    </tr>\n",
              "    <tr>\n",
              "      <th>15</th>\n",
              "      <td>can you please remove inquiry</td>\n",
              "      <td>can you please remove inquiry</td>\n",
              "      <td>inquiry</td>\n",
              "      <td>7</td>\n",
              "      <td>inquiry</td>\n",
              "      <td>Others</td>\n",
              "    </tr>\n",
              "    <tr>\n",
              "      <th>17</th>\n",
              "      <td>with out notice jp morgan chase restricted my ...</td>\n",
              "      <td>with out notice jp morgan chase restricted my ...</td>\n",
              "      <td>notice account debit card branch customer serv...</td>\n",
              "      <td>610</td>\n",
              "      <td>notice account debit card branch customer serv...</td>\n",
              "      <td>Account Services</td>\n",
              "    </tr>\n",
              "    <tr>\n",
              "      <th>20</th>\n",
              "      <td>during the summer months i experience a declin...</td>\n",
              "      <td>during the summer month i experience a decline...</td>\n",
              "      <td>summer month decline income employment month p...</td>\n",
              "      <td>576</td>\n",
              "      <td>summer month decline income employment month p...</td>\n",
              "      <td>Mortgage/Loan</td>\n",
              "    </tr>\n",
              "    <tr>\n",
              "      <th>21</th>\n",
              "      <td>on i made a payment to an online retailer usin...</td>\n",
              "      <td>on i made a payment to an online retailer usin...</td>\n",
              "      <td>payment retailer chase pay chase website scam ...</td>\n",
              "      <td>1089</td>\n",
              "      <td>payment retailer chase pay chase website scam ...</td>\n",
              "      <td>Mortgage/Loan</td>\n",
              "    </tr>\n",
              "    <tr>\n",
              "      <th>23</th>\n",
              "      <td>i have a chase credit card which is incorrectl...</td>\n",
              "      <td>i have a chase credit card which is incorrectl...</td>\n",
              "      <td>credit card credit report company issue</td>\n",
              "      <td>39</td>\n",
              "      <td>credit card credit report company issue</td>\n",
              "      <td>Credit card or prepaid card</td>\n",
              "    </tr>\n",
              "    <tr>\n",
              "      <th>24</th>\n",
              "      <td>mishandling of this account by chase auto and</td>\n",
              "      <td>mishandling of this account by chase auto and</td>\n",
              "      <td>account auto</td>\n",
              "      <td>12</td>\n",
              "      <td>account auto</td>\n",
              "      <td>Account Services</td>\n",
              "    </tr>\n",
              "    <tr>\n",
              "      <th>26</th>\n",
              "      <td>i have reached out to several times in attempt...</td>\n",
              "      <td>i have reached out to several time in attempt ...</td>\n",
              "      <td>time attempt inquiry creditor inquiry report a...</td>\n",
              "      <td>185</td>\n",
              "      <td>time attempt inquiry creditor inquiry report a...</td>\n",
              "      <td>Others</td>\n",
              "    </tr>\n",
              "    <tr>\n",
              "      <th>27</th>\n",
              "      <td>i opened an account with chase bank on and use...</td>\n",
              "      <td>i opened an account with chase bank on and use...</td>\n",
              "      <td>account bank code bonus term everything accoun...</td>\n",
              "      <td>103</td>\n",
              "      <td>account bank code bonus term everything accoun...</td>\n",
              "      <td>Account Services</td>\n",
              "    </tr>\n",
              "    <tr>\n",
              "      <th>32</th>\n",
              "      <td>my chase amazon card was declined for a cateri...</td>\n",
              "      <td>my chase amazon card wa declined for a caterin...</td>\n",
              "      <td>chase amazon card catering order brother funer...</td>\n",
              "      <td>514</td>\n",
              "      <td>chase amazon card catering order brother funer...</td>\n",
              "      <td>Theft/Dispute Reporting</td>\n",
              "    </tr>\n",
              "    <tr>\n",
              "      <th>40</th>\n",
              "      <td>a sofa love seat table and chairs and was neve...</td>\n",
              "      <td>a sofa love seat table and chair and wa never ...</td>\n",
              "      <td>sofa love seat table chair debit card bank vis...</td>\n",
              "      <td>69</td>\n",
              "      <td>sofa love seat table chair debit card bank vis...</td>\n",
              "      <td>Theft/Dispute Reporting</td>\n",
              "    </tr>\n",
              "    <tr>\n",
              "      <th>43</th>\n",
              "      <td>chase sent me an email today with the innocuou...</td>\n",
              "      <td>chase sent me an email today with the innocuou...</td>\n",
              "      <td>chase email today title information change cha...</td>\n",
              "      <td>239</td>\n",
              "      <td>chase email today title information change cha...</td>\n",
              "      <td>Mortgage/Loan</td>\n",
              "    </tr>\n",
              "    <tr>\n",
              "      <th>45</th>\n",
              "      <td>i made a purchase with on in the amount of i w...</td>\n",
              "      <td>i made a purchase with on in the amount of i w...</td>\n",
              "      <td>purchase amount transaction dispute case bank ...</td>\n",
              "      <td>469</td>\n",
              "      <td>purchase amount transaction dispute case bank ...</td>\n",
              "      <td>Account Services</td>\n",
              "    </tr>\n",
              "    <tr>\n",
              "      <th>48</th>\n",
              "      <td>jp morgan chase bank please answer the followi...</td>\n",
              "      <td>jp morgan chase bank please answer the followi...</td>\n",
              "      <td>question chase information reason information ...</td>\n",
              "      <td>300</td>\n",
              "      <td>question chase information reason information ...</td>\n",
              "      <td>Mortgage/Loan</td>\n",
              "    </tr>\n",
              "    <tr>\n",
              "      <th>50</th>\n",
              "      <td>i am a senior citizen that has been scammed by...</td>\n",
              "      <td>i am a senior citizen that ha been scammed by ...</td>\n",
              "      <td>citizen company time share company nothing ref...</td>\n",
              "      <td>81</td>\n",
              "      <td>citizen company time share company nothing ref...</td>\n",
              "      <td>Credit card or prepaid card</td>\n",
              "    </tr>\n",
              "    <tr>\n",
              "      <th>52</th>\n",
              "      <td>my roommate was stealing my chase debit card a...</td>\n",
              "      <td>my roommate wa stealing my chase debit card an...</td>\n",
              "      <td>roommate chase debit card driver license money...</td>\n",
              "      <td>144</td>\n",
              "      <td>roommate chase debit card driver license money...</td>\n",
              "      <td>Theft/Dispute Reporting</td>\n",
              "    </tr>\n",
              "    <tr>\n",
              "      <th>57</th>\n",
              "      <td>i have been trying to do a loan modification w...</td>\n",
              "      <td>i have been trying to do a loan modification w...</td>\n",
              "      <td>loan modification chase runaround payment doc</td>\n",
              "      <td>45</td>\n",
              "      <td>loan modification chase runaround payment doc</td>\n",
              "      <td>Mortgage/Loan</td>\n",
              "    </tr>\n",
              "  </tbody>\n",
              "</table>\n",
              "</div>"
            ],
            "text/plain": [
              "                                           complaints  \\\n",
              "1   good morning my name is and i appreciate it if...   \n",
              "2   i upgraded my card in and was told by the agen...   \n",
              "10  chase card was reported on however fraudulent ...   \n",
              "11  on while trying to book a ticket i came across...   \n",
              "14  my grand son give me check for i deposit it in...   \n",
              "15                      can you please remove inquiry   \n",
              "17  with out notice jp morgan chase restricted my ...   \n",
              "20  during the summer months i experience a declin...   \n",
              "21  on i made a payment to an online retailer usin...   \n",
              "23  i have a chase credit card which is incorrectl...   \n",
              "24      mishandling of this account by chase auto and   \n",
              "26  i have reached out to several times in attempt...   \n",
              "27  i opened an account with chase bank on and use...   \n",
              "32  my chase amazon card was declined for a cateri...   \n",
              "40  a sofa love seat table and chairs and was neve...   \n",
              "43  chase sent me an email today with the innocuou...   \n",
              "45  i made a purchase with on in the amount of i w...   \n",
              "48  jp morgan chase bank please answer the followi...   \n",
              "50  i am a senior citizen that has been scammed by...   \n",
              "52  my roommate was stealing my chase debit card a...   \n",
              "57  i have been trying to do a loan modification w...   \n",
              "\n",
              "                                           lemmatized  \\\n",
              "1   good morning my name is and i appreciate it if...   \n",
              "2   i upgraded my card in and wa told by the agent...   \n",
              "10  chase card wa reported on however fraudulent a...   \n",
              "11  on while trying to book a ticket i came across...   \n",
              "14  my grand son give me check for i deposit it in...   \n",
              "15                      can you please remove inquiry   \n",
              "17  with out notice jp morgan chase restricted my ...   \n",
              "20  during the summer month i experience a decline...   \n",
              "21  on i made a payment to an online retailer usin...   \n",
              "23  i have a chase credit card which is incorrectl...   \n",
              "24      mishandling of this account by chase auto and   \n",
              "26  i have reached out to several time in attempt ...   \n",
              "27  i opened an account with chase bank on and use...   \n",
              "32  my chase amazon card wa declined for a caterin...   \n",
              "40  a sofa love seat table and chair and wa never ...   \n",
              "43  chase sent me an email today with the innocuou...   \n",
              "45  i made a purchase with on in the amount of i w...   \n",
              "48  jp morgan chase bank please answer the followi...   \n",
              "50  i am a senior citizen that ha been scammed by ...   \n",
              "52  my roommate wa stealing my chase debit card an...   \n",
              "57  i have been trying to do a loan modification w...   \n",
              "\n",
              "                                complaint_POS_removed  complaint_length  \\\n",
              "1   morning name stop debt verification statement ...               125   \n",
              "2   card agent anniversary date agent wa informati...               103   \n",
              "10  card application identity consent service cred...                67   \n",
              "11  ticket offer ticket reward card information of...               389   \n",
              "14  son check chase account fund chase bank accoun...               157   \n",
              "15                                            inquiry                 7   \n",
              "17  notice account debit card branch customer serv...               610   \n",
              "20  summer month decline income employment month p...               576   \n",
              "21  payment retailer chase pay chase website scam ...              1089   \n",
              "23            credit card credit report company issue                39   \n",
              "24                                       account auto                12   \n",
              "26  time attempt inquiry creditor inquiry report a...               185   \n",
              "27  account bank code bonus term everything accoun...               103   \n",
              "32  chase amazon card catering order brother funer...               514   \n",
              "40  sofa love seat table chair debit card bank vis...                69   \n",
              "43  chase email today title information change cha...               239   \n",
              "45  purchase amount transaction dispute case bank ...               469   \n",
              "48  question chase information reason information ...               300   \n",
              "50  citizen company time share company nothing ref...                81   \n",
              "52  roommate chase debit card driver license money...               144   \n",
              "57      loan modification chase runaround payment doc                45   \n",
              "\n",
              "                                      Complaint_clean  \\\n",
              "1   morning name stop debt verification statement ...   \n",
              "2   card agent anniversary date agent wa informati...   \n",
              "10  card application identity consent service cred...   \n",
              "11  ticket offer ticket reward card information of...   \n",
              "14  son check chase account fund chase bank accoun...   \n",
              "15                                            inquiry   \n",
              "17  notice account debit card branch customer serv...   \n",
              "20  summer month decline income employment month p...   \n",
              "21  payment retailer chase pay chase website scam ...   \n",
              "23            credit card credit report company issue   \n",
              "24                                       account auto   \n",
              "26  time attempt inquiry creditor inquiry report a...   \n",
              "27  account bank code bonus term everything accoun...   \n",
              "32  chase amazon card catering order brother funer...   \n",
              "40  sofa love seat table chair debit card bank vis...   \n",
              "43  chase email today title information change cha...   \n",
              "45  purchase amount transaction dispute case bank ...   \n",
              "48  question chase information reason information ...   \n",
              "50  citizen company time share company nothing ref...   \n",
              "52  roommate chase debit card driver license money...   \n",
              "57      loan modification chase runaround payment doc   \n",
              "\n",
              "                          Topic  \n",
              "1              Account Services  \n",
              "2   Credit card or prepaid card  \n",
              "10  Credit card or prepaid card  \n",
              "11  Credit card or prepaid card  \n",
              "14      Theft/Dispute Reporting  \n",
              "15                       Others  \n",
              "17             Account Services  \n",
              "20                Mortgage/Loan  \n",
              "21                Mortgage/Loan  \n",
              "23  Credit card or prepaid card  \n",
              "24             Account Services  \n",
              "26                       Others  \n",
              "27             Account Services  \n",
              "32      Theft/Dispute Reporting  \n",
              "40      Theft/Dispute Reporting  \n",
              "43                Mortgage/Loan  \n",
              "45             Account Services  \n",
              "48                Mortgage/Loan  \n",
              "50  Credit card or prepaid card  \n",
              "52      Theft/Dispute Reporting  \n",
              "57                Mortgage/Loan  "
            ]
          },
          "execution_count": 73,
          "metadata": {},
          "output_type": "execute_result"
        }
      ],
      "source": [
        "df_clean"
      ]
    },
    {
      "cell_type": "markdown",
      "metadata": {
        "id": "7Mu0QBOcJrGH"
      },
      "source": [
        "## Supervised model to predict any new complaints to the relevant Topics.\n",
        "\n",
        "You have now build the model to create the topics for each complaints.Now in the below section you will use them to classify any new complaints.\n",
        "\n",
        "Since you will be using supervised learning technique we have to convert the topic names to numbers(numpy arrays only understand numbers)"
      ]
    },
    {
      "cell_type": "code",
      "execution_count": 51,
      "metadata": {
        "id": "_U8J3J8wJrGH"
      },
      "outputs": [],
      "source": [
        "\n",
        "Topic_names = {'Mortgage/Loan':0, 'Credit card or prepaid card':1, 'Theft/Dispute Reporting':2, 'Others':3, 'Account Services':4   }\n",
        "#Replace Topics with Topic Names\n",
        "df_clean['Topic'] = df_clean['Topic'].map(Topic_names)"
      ]
    },
    {
      "cell_type": "code",
      "execution_count": 52,
      "metadata": {
        "id": "BWIgJUkQJrGH"
      },
      "outputs": [
        {
          "data": {
            "text/html": [
              "<div>\n",
              "<style scoped>\n",
              "    .dataframe tbody tr th:only-of-type {\n",
              "        vertical-align: middle;\n",
              "    }\n",
              "\n",
              "    .dataframe tbody tr th {\n",
              "        vertical-align: top;\n",
              "    }\n",
              "\n",
              "    .dataframe thead th {\n",
              "        text-align: right;\n",
              "    }\n",
              "</style>\n",
              "<table border=\"1\" class=\"dataframe\">\n",
              "  <thead>\n",
              "    <tr style=\"text-align: right;\">\n",
              "      <th></th>\n",
              "      <th>complaints</th>\n",
              "      <th>lemmatized</th>\n",
              "      <th>complaint_POS_removed</th>\n",
              "      <th>Complaint_clean</th>\n",
              "      <th>Topic</th>\n",
              "    </tr>\n",
              "  </thead>\n",
              "  <tbody>\n",
              "    <tr>\n",
              "      <th>1</th>\n",
              "      <td>good morning my name is and i appreciate it if...</td>\n",
              "      <td>good morning my name is and i appreciate it if...</td>\n",
              "      <td>morning name stop debt verification statement ...</td>\n",
              "      <td>morning name stop debt verification statement ...</td>\n",
              "      <td>0</td>\n",
              "    </tr>\n",
              "    <tr>\n",
              "      <th>2</th>\n",
              "      <td>i upgraded my card in and was told by the agen...</td>\n",
              "      <td>i upgraded my card in and wa told by the agent...</td>\n",
              "      <td>card agent anniversary date agent wa informati...</td>\n",
              "      <td>card agent anniversary date agent wa informati...</td>\n",
              "      <td>1</td>\n",
              "    </tr>\n",
              "    <tr>\n",
              "      <th>10</th>\n",
              "      <td>chase card was reported on however fraudulent ...</td>\n",
              "      <td>chase card wa reported on however fraudulent a...</td>\n",
              "      <td>card application identity consent service cred...</td>\n",
              "      <td>card application identity consent service cred...</td>\n",
              "      <td>1</td>\n",
              "    </tr>\n",
              "    <tr>\n",
              "      <th>11</th>\n",
              "      <td>on while trying to book a ticket i came across...</td>\n",
              "      <td>on while trying to book a ticket i came across...</td>\n",
              "      <td>ticket offer ticket reward card information of...</td>\n",
              "      <td>ticket offer ticket reward card information of...</td>\n",
              "      <td>3</td>\n",
              "    </tr>\n",
              "    <tr>\n",
              "      <th>14</th>\n",
              "      <td>my grand son give me check for i deposit it in...</td>\n",
              "      <td>my grand son give me check for i deposit it in...</td>\n",
              "      <td>son check chase account fund chase bank accoun...</td>\n",
              "      <td>son check chase account fund chase bank accoun...</td>\n",
              "      <td>0</td>\n",
              "    </tr>\n",
              "    <tr>\n",
              "      <th>...</th>\n",
              "      <td>...</td>\n",
              "      <td>...</td>\n",
              "      <td>...</td>\n",
              "      <td>...</td>\n",
              "      <td>...</td>\n",
              "    </tr>\n",
              "    <tr>\n",
              "      <th>78303</th>\n",
              "      <td>after being a chase card customer for well ove...</td>\n",
              "      <td>after being a chase card customer for well ove...</td>\n",
              "      <td>chase card customer decade solicitation credit...</td>\n",
              "      <td>chase card customer decade solicitation credit...</td>\n",
              "      <td>1</td>\n",
              "    </tr>\n",
              "    <tr>\n",
              "      <th>78309</th>\n",
              "      <td>on wednesday i called chas my visa credit card...</td>\n",
              "      <td>on wednesday i called chas my visa credit card...</td>\n",
              "      <td>visa credit card provider claim purchase prote...</td>\n",
              "      <td>visa credit card provider claim purchase prote...</td>\n",
              "      <td>4</td>\n",
              "    </tr>\n",
              "    <tr>\n",
              "      <th>78310</th>\n",
              "      <td>i am not familiar with pay and did not underst...</td>\n",
              "      <td>i am not familiar with pay and did not underst...</td>\n",
              "      <td>pay risk consumer chase bank app chase year ba...</td>\n",
              "      <td>pay risk consumer chase bank app chase year ba...</td>\n",
              "      <td>4</td>\n",
              "    </tr>\n",
              "    <tr>\n",
              "      <th>78311</th>\n",
              "      <td>i have had flawless credit for yrs ive had cha...</td>\n",
              "      <td>i have had flawless credit for yr ive had chas...</td>\n",
              "      <td>credit yr credit card chase freedom problem ba...</td>\n",
              "      <td>credit yr credit card chase freedom problem ba...</td>\n",
              "      <td>1</td>\n",
              "    </tr>\n",
              "    <tr>\n",
              "      <th>78312</th>\n",
              "      <td>roughly years ago i closed out my accounts wit...</td>\n",
              "      <td>roughly year ago i closed out my account with ...</td>\n",
              "      <td>year account order line credit account payment...</td>\n",
              "      <td>year account order line credit account payment...</td>\n",
              "      <td>2</td>\n",
              "    </tr>\n",
              "  </tbody>\n",
              "</table>\n",
              "<p>21072 rows × 5 columns</p>\n",
              "</div>"
            ],
            "text/plain": [
              "                                              complaints  \\\n",
              "1      good morning my name is and i appreciate it if...   \n",
              "2      i upgraded my card in and was told by the agen...   \n",
              "10     chase card was reported on however fraudulent ...   \n",
              "11     on while trying to book a ticket i came across...   \n",
              "14     my grand son give me check for i deposit it in...   \n",
              "...                                                  ...   \n",
              "78303  after being a chase card customer for well ove...   \n",
              "78309  on wednesday i called chas my visa credit card...   \n",
              "78310  i am not familiar with pay and did not underst...   \n",
              "78311  i have had flawless credit for yrs ive had cha...   \n",
              "78312  roughly years ago i closed out my accounts wit...   \n",
              "\n",
              "                                              lemmatized  \\\n",
              "1      good morning my name is and i appreciate it if...   \n",
              "2      i upgraded my card in and wa told by the agent...   \n",
              "10     chase card wa reported on however fraudulent a...   \n",
              "11     on while trying to book a ticket i came across...   \n",
              "14     my grand son give me check for i deposit it in...   \n",
              "...                                                  ...   \n",
              "78303  after being a chase card customer for well ove...   \n",
              "78309  on wednesday i called chas my visa credit card...   \n",
              "78310  i am not familiar with pay and did not underst...   \n",
              "78311  i have had flawless credit for yr ive had chas...   \n",
              "78312  roughly year ago i closed out my account with ...   \n",
              "\n",
              "                                   complaint_POS_removed  \\\n",
              "1      morning name stop debt verification statement ...   \n",
              "2      card agent anniversary date agent wa informati...   \n",
              "10     card application identity consent service cred...   \n",
              "11     ticket offer ticket reward card information of...   \n",
              "14     son check chase account fund chase bank accoun...   \n",
              "...                                                  ...   \n",
              "78303  chase card customer decade solicitation credit...   \n",
              "78309  visa credit card provider claim purchase prote...   \n",
              "78310  pay risk consumer chase bank app chase year ba...   \n",
              "78311  credit yr credit card chase freedom problem ba...   \n",
              "78312  year account order line credit account payment...   \n",
              "\n",
              "                                         Complaint_clean  Topic  \n",
              "1      morning name stop debt verification statement ...      0  \n",
              "2      card agent anniversary date agent wa informati...      1  \n",
              "10     card application identity consent service cred...      1  \n",
              "11     ticket offer ticket reward card information of...      3  \n",
              "14     son check chase account fund chase bank accoun...      0  \n",
              "...                                                  ...    ...  \n",
              "78303  chase card customer decade solicitation credit...      1  \n",
              "78309  visa credit card provider claim purchase prote...      4  \n",
              "78310  pay risk consumer chase bank app chase year ba...      4  \n",
              "78311  credit yr credit card chase freedom problem ba...      1  \n",
              "78312  year account order line credit account payment...      2  \n",
              "\n",
              "[21072 rows x 5 columns]"
            ]
          },
          "execution_count": 52,
          "metadata": {},
          "output_type": "execute_result"
        }
      ],
      "source": [
        "df_clean"
      ]
    },
    {
      "cell_type": "code",
      "execution_count": 54,
      "metadata": {
        "id": "Xx-FrbkWJrGH"
      },
      "outputs": [],
      "source": [
        "\n",
        "training_data = df_clean[['Complaint_clean', 'Topic']]"
      ]
    },
    {
      "cell_type": "code",
      "execution_count": 72,
      "metadata": {
        "id": "lVg2pa12JrGI"
      },
      "outputs": [
        {
          "data": {
            "text/html": [
              "<div>\n",
              "<style scoped>\n",
              "    .dataframe tbody tr th:only-of-type {\n",
              "        vertical-align: middle;\n",
              "    }\n",
              "\n",
              "    .dataframe tbody tr th {\n",
              "        vertical-align: top;\n",
              "    }\n",
              "\n",
              "    .dataframe thead th {\n",
              "        text-align: right;\n",
              "    }\n",
              "</style>\n",
              "<table border=\"1\" class=\"dataframe\">\n",
              "  <thead>\n",
              "    <tr style=\"text-align: right;\">\n",
              "      <th></th>\n",
              "      <th>Complaint_clean</th>\n",
              "      <th>Topic</th>\n",
              "    </tr>\n",
              "  </thead>\n",
              "  <tbody>\n",
              "    <tr>\n",
              "      <th>1</th>\n",
              "      <td>morning name stop debt verification statement ...</td>\n",
              "      <td>0</td>\n",
              "    </tr>\n",
              "    <tr>\n",
              "      <th>2</th>\n",
              "      <td>card agent anniversary date agent wa informati...</td>\n",
              "      <td>1</td>\n",
              "    </tr>\n",
              "    <tr>\n",
              "      <th>10</th>\n",
              "      <td>card application identity consent service cred...</td>\n",
              "      <td>1</td>\n",
              "    </tr>\n",
              "    <tr>\n",
              "      <th>11</th>\n",
              "      <td>ticket offer ticket reward card information of...</td>\n",
              "      <td>3</td>\n",
              "    </tr>\n",
              "    <tr>\n",
              "      <th>14</th>\n",
              "      <td>son check chase account fund chase bank accoun...</td>\n",
              "      <td>0</td>\n",
              "    </tr>\n",
              "    <tr>\n",
              "      <th>...</th>\n",
              "      <td>...</td>\n",
              "      <td>...</td>\n",
              "    </tr>\n",
              "    <tr>\n",
              "      <th>78303</th>\n",
              "      <td>chase card customer decade solicitation credit...</td>\n",
              "      <td>1</td>\n",
              "    </tr>\n",
              "    <tr>\n",
              "      <th>78309</th>\n",
              "      <td>visa credit card provider claim purchase prote...</td>\n",
              "      <td>4</td>\n",
              "    </tr>\n",
              "    <tr>\n",
              "      <th>78310</th>\n",
              "      <td>pay risk consumer chase bank app chase year ba...</td>\n",
              "      <td>4</td>\n",
              "    </tr>\n",
              "    <tr>\n",
              "      <th>78311</th>\n",
              "      <td>credit yr credit card chase freedom problem ba...</td>\n",
              "      <td>1</td>\n",
              "    </tr>\n",
              "    <tr>\n",
              "      <th>78312</th>\n",
              "      <td>year account order line credit account payment...</td>\n",
              "      <td>2</td>\n",
              "    </tr>\n",
              "  </tbody>\n",
              "</table>\n",
              "<p>21072 rows × 2 columns</p>\n",
              "</div>"
            ],
            "text/plain": [
              "                                         Complaint_clean  Topic\n",
              "1      morning name stop debt verification statement ...      0\n",
              "2      card agent anniversary date agent wa informati...      1\n",
              "10     card application identity consent service cred...      1\n",
              "11     ticket offer ticket reward card information of...      3\n",
              "14     son check chase account fund chase bank accoun...      0\n",
              "...                                                  ...    ...\n",
              "78303  chase card customer decade solicitation credit...      1\n",
              "78309  visa credit card provider claim purchase prote...      4\n",
              "78310  pay risk consumer chase bank app chase year ba...      4\n",
              "78311  credit yr credit card chase freedom problem ba...      1\n",
              "78312  year account order line credit account payment...      2\n",
              "\n",
              "[21072 rows x 2 columns]"
            ]
          },
          "execution_count": 72,
          "metadata": {},
          "output_type": "execute_result"
        }
      ],
      "source": [
        "training_data"
      ]
    },
    {
      "cell_type": "markdown",
      "metadata": {
        "id": "280Vbqk-7a8M"
      },
      "source": [
        "#### Apply the supervised models on the training data created. In this process, you have to do the following:\n",
        "* Create the vector counts using Count Vectoriser\n",
        "* Transform the word vecotr to tf-idf\n",
        "* Create the train & test data using the train_test_split on the tf-idf & topics\n"
      ]
    },
    {
      "cell_type": "code",
      "execution_count": 56,
      "metadata": {
        "id": "oUlQpgkzJrGI"
      },
      "outputs": [],
      "source": [
        "\n",
        "#Write your code to get the Vector count\n",
        "count_vect = CountVectorizer()\n",
        "X_train_counts = count_vect.fit_transform(training_data.Complaint_clean)\n",
        "\n",
        "#Write your code here to transform the word vector to tf-idf\n",
        "from sklearn.feature_extraction.text import TfidfTransformer\n",
        "tfidf_transformer = TfidfTransformer()\n",
        "X_train_tfidf = tfidf_transformer.fit_transform(X_train_counts)"
      ]
    },
    {
      "cell_type": "markdown",
      "metadata": {
        "id": "uMU3vj6w-wqL"
      },
      "source": [
        "You have to try atleast 3 models on the train & test data from these options:\n",
        "* Logistic regression\n",
        "* Decision Tree\n",
        "* Random Forest\n",
        "* Naive Bayes (optional)\n",
        "\n",
        "**Using the required evaluation metrics judge the tried models and select the ones performing the best**"
      ]
    },
    {
      "cell_type": "code",
      "execution_count": 95,
      "metadata": {
        "id": "udLHpPsZJrGI"
      },
      "outputs": [],
      "source": [
        "# Write your code here to build any 3 models and evaluate them using the required metrics\n",
        "\n",
        "from sklearn.model_selection import train_test_split\n",
        "from sklearn.linear_model import LogisticRegression\n",
        "from sklearn.tree import DecisionTreeClassifier\n",
        "from sklearn.ensemble import RandomForestClassifier\n",
        "from sklearn.naive_bayes import MultinomialNB\n",
        "\n",
        "\n",
        "from sklearn.metrics import classification_report\n",
        "\n"
      ]
    },
    {
      "cell_type": "code",
      "execution_count": 96,
      "metadata": {},
      "outputs": [],
      "source": [
        "# Split data into train and test\n",
        "X_train, X_test, y_train, y_test = train_test_split(X_train_tfidf, training_data.Topic, test_size=0.2, random_state=42)"
      ]
    },
    {
      "cell_type": "markdown",
      "metadata": {},
      "source": [
        "#### 1. Logistic regression"
      ]
    },
    {
      "cell_type": "code",
      "execution_count": 97,
      "metadata": {
        "id": "N2OznsObJrGP"
      },
      "outputs": [
        {
          "name": "stdout",
          "output_type": "stream",
          "text": [
            "              precision    recall  f1-score   support\n",
            "\n",
            "           0       0.97      0.97      0.97      1024\n",
            "           1       0.96      0.95      0.96       844\n",
            "           2       0.96      0.96      0.96       997\n",
            "           3       0.97      0.91      0.94       420\n",
            "           4       0.92      0.96      0.94       930\n",
            "\n",
            "    accuracy                           0.96      4215\n",
            "   macro avg       0.96      0.95      0.95      4215\n",
            "weighted avg       0.96      0.96      0.96      4215\n",
            "\n"
          ]
        }
      ],
      "source": [
        "# Logistic Regression\n",
        "lr = LogisticRegression().fit(X_train, y_train)\n",
        "predicted = lr.predict(X_test)\n",
        "\n",
        "print(classification_report(y_true=y_test, y_pred=predicted))"
      ]
    },
    {
      "cell_type": "markdown",
      "metadata": {},
      "source": [
        "#### 2. Decision Tree"
      ]
    },
    {
      "cell_type": "code",
      "execution_count": 98,
      "metadata": {},
      "outputs": [
        {
          "name": "stdout",
          "output_type": "stream",
          "text": [
            "              precision    recall  f1-score   support\n",
            "\n",
            "           0       0.81      0.82      0.82      1024\n",
            "           1       0.82      0.85      0.83       844\n",
            "           2       0.88      0.85      0.87       997\n",
            "           3       0.80      0.80      0.80       420\n",
            "           4       0.77      0.76      0.77       930\n",
            "\n",
            "    accuracy                           0.82      4215\n",
            "   macro avg       0.82      0.82      0.82      4215\n",
            "weighted avg       0.82      0.82      0.82      4215\n",
            "\n"
          ]
        }
      ],
      "source": [
        "# Decision tree classifier\n",
        "dt = DecisionTreeClassifier().fit(X_train, y_train)\n",
        "predicted = dt.predict(X_test)\n",
        "\n",
        "print(classification_report(y_pred=predicted, y_true=y_test))"
      ]
    },
    {
      "cell_type": "markdown",
      "metadata": {},
      "source": [
        "#### 3. Random Forest Classifier"
      ]
    },
    {
      "cell_type": "code",
      "execution_count": 99,
      "metadata": {},
      "outputs": [
        {
          "name": "stdout",
          "output_type": "stream",
          "text": [
            "              precision    recall  f1-score   support\n",
            "\n",
            "           0       0.65      0.93      0.76      1024\n",
            "           1       0.76      0.71      0.73       844\n",
            "           2       0.73      0.86      0.79       997\n",
            "           3       1.00      0.20      0.33       420\n",
            "           4       0.81      0.62      0.71       930\n",
            "\n",
            "    accuracy                           0.73      4215\n",
            "   macro avg       0.79      0.66      0.66      4215\n",
            "weighted avg       0.76      0.73      0.71      4215\n",
            "\n"
          ]
        }
      ],
      "source": [
        "rfc = RandomForestClassifier(max_depth=10)\n",
        "rfc.fit(X_train, y_train)\n",
        "predicted = rfc.predict(X_test)\n",
        "\n",
        "print(classification_report(y_pred=predicted, y_true=y_test))"
      ]
    },
    {
      "cell_type": "markdown",
      "metadata": {},
      "source": [
        "#### 4. Multinomial Naive Bayes"
      ]
    },
    {
      "cell_type": "code",
      "execution_count": 100,
      "metadata": {},
      "outputs": [
        {
          "name": "stdout",
          "output_type": "stream",
          "text": [
            "              precision    recall  f1-score   support\n",
            "\n",
            "           0       0.75      0.88      0.81      1024\n",
            "           1       0.75      0.64      0.69       844\n",
            "           2       0.74      0.89      0.81       997\n",
            "           3       0.96      0.42      0.58       420\n",
            "           4       0.75      0.73      0.74       930\n",
            "\n",
            "    accuracy                           0.76      4215\n",
            "   macro avg       0.79      0.71      0.73      4215\n",
            "weighted avg       0.77      0.76      0.75      4215\n",
            "\n"
          ]
        }
      ],
      "source": [
        "nb = MultinomialNB().fit(X_train.toarray(), y_train)\n",
        "predicted = nb.predict(X_test.toarray())\n",
        "\n",
        "print(classification_report(y_pred=predicted, y_true=y_test))"
      ]
    },
    {
      "cell_type": "markdown",
      "metadata": {},
      "source": [
        "## Conclusion"
      ]
    },
    {
      "cell_type": "code",
      "execution_count": 107,
      "metadata": {},
      "outputs": [
        {
          "data": {
            "text/html": [
              "<div>\n",
              "<style scoped>\n",
              "    .dataframe tbody tr th:only-of-type {\n",
              "        vertical-align: middle;\n",
              "    }\n",
              "\n",
              "    .dataframe tbody tr th {\n",
              "        vertical-align: top;\n",
              "    }\n",
              "\n",
              "    .dataframe thead th {\n",
              "        text-align: right;\n",
              "    }\n",
              "</style>\n",
              "<table border=\"1\" class=\"dataframe\">\n",
              "  <thead>\n",
              "    <tr style=\"text-align: right;\">\n",
              "      <th></th>\n",
              "      <th>complaints</th>\n",
              "    </tr>\n",
              "  </thead>\n",
              "  <tbody>\n",
              "    <tr>\n",
              "      <th>0</th>\n",
              "      <td>I can not get from chase who services my mortg...</td>\n",
              "    </tr>\n",
              "    <tr>\n",
              "      <th>1</th>\n",
              "      <td>The bill amount of my credit card was debited ...</td>\n",
              "    </tr>\n",
              "    <tr>\n",
              "      <th>2</th>\n",
              "      <td>I want to open a salary account at your downto...</td>\n",
              "    </tr>\n",
              "    <tr>\n",
              "      <th>3</th>\n",
              "      <td>Yesterday, I received a fraudulent email regar...</td>\n",
              "    </tr>\n",
              "    <tr>\n",
              "      <th>4</th>\n",
              "      <td>What is the procedure to know my CIBIL score ?</td>\n",
              "    </tr>\n",
              "    <tr>\n",
              "      <th>5</th>\n",
              "      <td>I need to know the number of bank branches and...</td>\n",
              "    </tr>\n",
              "  </tbody>\n",
              "</table>\n",
              "</div>"
            ],
            "text/plain": [
              "                                          complaints\n",
              "0  I can not get from chase who services my mortg...\n",
              "1  The bill amount of my credit card was debited ...\n",
              "2  I want to open a salary account at your downto...\n",
              "3  Yesterday, I received a fraudulent email regar...\n",
              "4     What is the procedure to know my CIBIL score ?\n",
              "5  I need to know the number of bank branches and..."
            ]
          },
          "execution_count": 107,
          "metadata": {},
          "output_type": "execute_result"
        }
      ],
      "source": [
        "df_complaints = pd.DataFrame({'complaints': [\"I can not get from chase who services my mortgage, who owns it and who has original loan docs\", \n",
        "                                  \"The bill amount of my credit card was debited twice. Please look into the matter and resolve at the earliest.\",\n",
        "                                  \"I want to open a salary account at your downtown branch. Please provide me the procedure.\",\n",
        "                                  \"Yesterday, I received a fraudulent email regarding renewal of my services.\",\n",
        "                                  \"What is the procedure to know my CIBIL score ?\",\n",
        "                                  \"I need to know the number of bank branches and their locations in the city of Dubai\"]})\n",
        "df_complaints"
      ]
    },
    {
      "cell_type": "code",
      "execution_count": 108,
      "metadata": {},
      "outputs": [],
      "source": [
        "def predict_lr(text):\n",
        "    Topic_names = {0:'Account Services', 1:'Others', 2:'Mortgage/Loan', 3:'Credit card or prepaid card', 4:'Theft/Dispute Reporting'}\n",
        "    X_new_counts = count_vect.transform(text)\n",
        "    X_new_tfidf = tfidf_transformer.transform(X_new_counts)\n",
        "    predicted = lr.predict(X_new_tfidf)\n",
        "    return Topic_names[predicted[0]]"
      ]
    },
    {
      "cell_type": "code",
      "execution_count": 109,
      "metadata": {},
      "outputs": [
        {
          "data": {
            "text/html": [
              "<div>\n",
              "<style scoped>\n",
              "    .dataframe tbody tr th:only-of-type {\n",
              "        vertical-align: middle;\n",
              "    }\n",
              "\n",
              "    .dataframe tbody tr th {\n",
              "        vertical-align: top;\n",
              "    }\n",
              "\n",
              "    .dataframe thead th {\n",
              "        text-align: right;\n",
              "    }\n",
              "</style>\n",
              "<table border=\"1\" class=\"dataframe\">\n",
              "  <thead>\n",
              "    <tr style=\"text-align: right;\">\n",
              "      <th></th>\n",
              "      <th>complaints</th>\n",
              "      <th>tag</th>\n",
              "    </tr>\n",
              "  </thead>\n",
              "  <tbody>\n",
              "    <tr>\n",
              "      <th>0</th>\n",
              "      <td>I can not get from chase who services my mortg...</td>\n",
              "      <td>Mortgage/Loan</td>\n",
              "    </tr>\n",
              "    <tr>\n",
              "      <th>1</th>\n",
              "      <td>The bill amount of my credit card was debited ...</td>\n",
              "      <td>Others</td>\n",
              "    </tr>\n",
              "    <tr>\n",
              "      <th>2</th>\n",
              "      <td>I want to open a salary account at your downto...</td>\n",
              "      <td>Account Services</td>\n",
              "    </tr>\n",
              "    <tr>\n",
              "      <th>3</th>\n",
              "      <td>Yesterday, I received a fraudulent email regar...</td>\n",
              "      <td>Theft/Dispute Reporting</td>\n",
              "    </tr>\n",
              "    <tr>\n",
              "      <th>4</th>\n",
              "      <td>What is the procedure to know my CIBIL score ?</td>\n",
              "      <td>Theft/Dispute Reporting</td>\n",
              "    </tr>\n",
              "    <tr>\n",
              "      <th>5</th>\n",
              "      <td>I need to know the number of bank branches and...</td>\n",
              "      <td>Account Services</td>\n",
              "    </tr>\n",
              "  </tbody>\n",
              "</table>\n",
              "</div>"
            ],
            "text/plain": [
              "                                          complaints                      tag\n",
              "0  I can not get from chase who services my mortg...            Mortgage/Loan\n",
              "1  The bill amount of my credit card was debited ...                   Others\n",
              "2  I want to open a salary account at your downto...         Account Services\n",
              "3  Yesterday, I received a fraudulent email regar...  Theft/Dispute Reporting\n",
              "4     What is the procedure to know my CIBIL score ?  Theft/Dispute Reporting\n",
              "5  I need to know the number of bank branches and...         Account Services"
            ]
          },
          "execution_count": 109,
          "metadata": {},
          "output_type": "execute_result"
        }
      ],
      "source": [
        "df_complaints['tag'] = df_complaints['complaints'].apply(lambda x: predict_lr([x]))\n",
        "df_complaints"
      ]
    },
    {
      "cell_type": "markdown",
      "metadata": {},
      "source": [
        "#### Conclusion\n",
        "    \n",
        "* **Tried 4 models on the data with accuracies as follows:**\n",
        "\n",
        "    | Model       | Accuracy |\n",
        "    | ----------- | ----------- |\n",
        "    | Logistic Regression      | 0.96       |\n",
        "    | Decision Tree   | 0.82        |\n",
        "    | Random Forest      | 0.73       |\n",
        "    | Multinomial Naive Bayes   | 0.76        |\n",
        "    \n",
        " <br /> <br />\n",
        "* **Logistic Regression has highest accuracy of `0.96`, Hence is a good fit for this particular case study.**"
      ]
    }
  ],
  "metadata": {
    "colab": {
      "collapsed_sections": [
        "T9jD_6SeJrF3",
        "5DfCSbbmJrF4",
        "yYzD85nTJrGA",
        "piyLxzj6v07j",
        "280Vbqk-7a8M"
      ],
      "provenance": []
    },
    "kernelspec": {
      "display_name": "Python 3",
      "language": "python",
      "name": "python3"
    },
    "language_info": {
      "codemirror_mode": {
        "name": "ipython",
        "version": 3
      },
      "file_extension": ".py",
      "mimetype": "text/x-python",
      "name": "python",
      "nbconvert_exporter": "python",
      "pygments_lexer": "ipython3",
      "version": "3.9.20"
    }
  },
  "nbformat": 4,
  "nbformat_minor": 0
}
